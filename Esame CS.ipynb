{
 "cells": [
  {
   "cell_type": "code",
   "execution_count": 1,
   "metadata": {
    "ExecuteTime": {
     "end_time": "2020-01-26T17:55:28.815873Z",
     "start_time": "2020-01-26T17:55:28.807911Z"
    }
   },
   "outputs": [],
   "source": [
    "import pandas as pd\n",
    "import numpy as np"
   ]
  },
  {
   "cell_type": "code",
   "execution_count": 2,
   "metadata": {
    "ExecuteTime": {
     "end_time": "2020-01-26T17:55:32.746461Z",
     "start_time": "2020-01-26T17:55:28.817855Z"
    }
   },
   "outputs": [
    {
     "data": {
      "text/html": [
       "<div>\n",
       "<style scoped>\n",
       "    .dataframe tbody tr th:only-of-type {\n",
       "        vertical-align: middle;\n",
       "    }\n",
       "\n",
       "    .dataframe tbody tr th {\n",
       "        vertical-align: top;\n",
       "    }\n",
       "\n",
       "    .dataframe thead th {\n",
       "        text-align: right;\n",
       "    }\n",
       "</style>\n",
       "<table border=\"1\" class=\"dataframe\">\n",
       "  <thead>\n",
       "    <tr style=\"text-align: right;\">\n",
       "      <th></th>\n",
       "      <th>loan_id</th>\n",
       "      <th>lenders</th>\n",
       "    </tr>\n",
       "  </thead>\n",
       "  <tbody>\n",
       "    <tr>\n",
       "      <th>0</th>\n",
       "      <td>483693</td>\n",
       "      <td>muc888, sam4326, camaran3922, lachheb1865, reb...</td>\n",
       "    </tr>\n",
       "    <tr>\n",
       "      <th>1</th>\n",
       "      <td>483738</td>\n",
       "      <td>muc888, nora3555, williammanashi, barbara5610,...</td>\n",
       "    </tr>\n",
       "    <tr>\n",
       "      <th>2</th>\n",
       "      <td>485000</td>\n",
       "      <td>muc888, terrystl, richardandsusan8352, sherri4...</td>\n",
       "    </tr>\n",
       "    <tr>\n",
       "      <th>3</th>\n",
       "      <td>486087</td>\n",
       "      <td>muc888, james5068, rudi5955, daniel9859, don92...</td>\n",
       "    </tr>\n",
       "    <tr>\n",
       "      <th>4</th>\n",
       "      <td>534428</td>\n",
       "      <td>muc888, niki3008, teresa9174, mike4896, david7...</td>\n",
       "    </tr>\n",
       "    <tr>\n",
       "      <th>5</th>\n",
       "      <td>558112</td>\n",
       "      <td>muc888, tristan7990, shivaun4955, sam44598568,...</td>\n",
       "    </tr>\n",
       "    <tr>\n",
       "      <th>6</th>\n",
       "      <td>563395</td>\n",
       "      <td>muc888, john38425073, trolltech4460, marianne8...</td>\n",
       "    </tr>\n",
       "    <tr>\n",
       "      <th>7</th>\n",
       "      <td>575414</td>\n",
       "      <td>muc888, dougal1825, dougal1825, jensdamsgaardv...</td>\n",
       "    </tr>\n",
       "    <tr>\n",
       "      <th>8</th>\n",
       "      <td>578029</td>\n",
       "      <td>muc888, rebecca3038, paul1853, paul1853, paul1...</td>\n",
       "    </tr>\n",
       "    <tr>\n",
       "      <th>9</th>\n",
       "      <td>551251</td>\n",
       "      <td>klaus5005, john70242429, john70242429, terry93...</td>\n",
       "    </tr>\n",
       "  </tbody>\n",
       "</table>\n",
       "</div>"
      ],
      "text/plain": [
       "   loan_id                                            lenders\n",
       "0   483693  muc888, sam4326, camaran3922, lachheb1865, reb...\n",
       "1   483738  muc888, nora3555, williammanashi, barbara5610,...\n",
       "2   485000  muc888, terrystl, richardandsusan8352, sherri4...\n",
       "3   486087  muc888, james5068, rudi5955, daniel9859, don92...\n",
       "4   534428  muc888, niki3008, teresa9174, mike4896, david7...\n",
       "5   558112  muc888, tristan7990, shivaun4955, sam44598568,...\n",
       "6   563395  muc888, john38425073, trolltech4460, marianne8...\n",
       "7   575414  muc888, dougal1825, dougal1825, jensdamsgaardv...\n",
       "8   578029  muc888, rebecca3038, paul1853, paul1853, paul1...\n",
       "9   551251  klaus5005, john70242429, john70242429, terry93..."
      ]
     },
     "execution_count": 2,
     "metadata": {},
     "output_type": "execute_result"
    }
   ],
   "source": [
    "df = pd.read_csv('loans_lenders.csv')\n",
    "df.head(10)"
   ]
  },
  {
   "cell_type": "markdown",
   "metadata": {},
   "source": [
    "## 1. Normalize the loan_lenders table. In the normalized table, each row must have one loan_id and one lender."
   ]
  },
  {
   "cell_type": "code",
   "execution_count": 3,
   "metadata": {
    "ExecuteTime": {
     "end_time": "2020-01-26T17:55:40.712371Z",
     "start_time": "2020-01-26T17:55:32.748389Z"
    }
   },
   "outputs": [
    {
     "name": "stdout",
     "output_type": "stream",
     "text": [
      "shape: (1387432, 2)\n"
     ]
    },
    {
     "data": {
      "text/html": [
       "<div>\n",
       "<style scoped>\n",
       "    .dataframe tbody tr th:only-of-type {\n",
       "        vertical-align: middle;\n",
       "    }\n",
       "\n",
       "    .dataframe tbody tr th {\n",
       "        vertical-align: top;\n",
       "    }\n",
       "\n",
       "    .dataframe thead th {\n",
       "        text-align: right;\n",
       "    }\n",
       "</style>\n",
       "<table border=\"1\" class=\"dataframe\">\n",
       "  <thead>\n",
       "    <tr style=\"text-align: right;\">\n",
       "      <th></th>\n",
       "      <th>loan_id</th>\n",
       "      <th>lenders</th>\n",
       "    </tr>\n",
       "  </thead>\n",
       "  <tbody>\n",
       "    <tr>\n",
       "      <th>0</th>\n",
       "      <td>483693</td>\n",
       "      <td>[muc888, sam4326, camaran3922, lachheb1865, re...</td>\n",
       "    </tr>\n",
       "    <tr>\n",
       "      <th>1</th>\n",
       "      <td>483738</td>\n",
       "      <td>[muc888, nora3555, williammanashi, barbara5610...</td>\n",
       "    </tr>\n",
       "    <tr>\n",
       "      <th>2</th>\n",
       "      <td>485000</td>\n",
       "      <td>[muc888, terrystl, richardandsusan8352, sherri...</td>\n",
       "    </tr>\n",
       "    <tr>\n",
       "      <th>3</th>\n",
       "      <td>486087</td>\n",
       "      <td>[muc888, james5068, rudi5955, daniel9859, don9...</td>\n",
       "    </tr>\n",
       "    <tr>\n",
       "      <th>4</th>\n",
       "      <td>534428</td>\n",
       "      <td>[muc888, niki3008, teresa9174, mike4896, david...</td>\n",
       "    </tr>\n",
       "    <tr>\n",
       "      <th>5</th>\n",
       "      <td>558112</td>\n",
       "      <td>[muc888, tristan7990, shivaun4955, sam44598568...</td>\n",
       "    </tr>\n",
       "    <tr>\n",
       "      <th>6</th>\n",
       "      <td>563395</td>\n",
       "      <td>[muc888, john38425073, trolltech4460, marianne...</td>\n",
       "    </tr>\n",
       "    <tr>\n",
       "      <th>7</th>\n",
       "      <td>575414</td>\n",
       "      <td>[muc888, dougal1825, dougal1825, jensdamsgaard...</td>\n",
       "    </tr>\n",
       "    <tr>\n",
       "      <th>8</th>\n",
       "      <td>578029</td>\n",
       "      <td>[muc888, rebecca3038, paul1853, paul1853, paul...</td>\n",
       "    </tr>\n",
       "    <tr>\n",
       "      <th>9</th>\n",
       "      <td>551251</td>\n",
       "      <td>[klaus5005, john70242429, john70242429, terry9...</td>\n",
       "    </tr>\n",
       "  </tbody>\n",
       "</table>\n",
       "</div>"
      ],
      "text/plain": [
       "   loan_id                                            lenders\n",
       "0   483693  [muc888, sam4326, camaran3922, lachheb1865, re...\n",
       "1   483738  [muc888, nora3555, williammanashi, barbara5610...\n",
       "2   485000  [muc888, terrystl, richardandsusan8352, sherri...\n",
       "3   486087  [muc888, james5068, rudi5955, daniel9859, don9...\n",
       "4   534428  [muc888, niki3008, teresa9174, mike4896, david...\n",
       "5   558112  [muc888, tristan7990, shivaun4955, sam44598568...\n",
       "6   563395  [muc888, john38425073, trolltech4460, marianne...\n",
       "7   575414  [muc888, dougal1825, dougal1825, jensdamsgaard...\n",
       "8   578029  [muc888, rebecca3038, paul1853, paul1853, paul...\n",
       "9   551251  [klaus5005, john70242429, john70242429, terry9..."
      ]
     },
     "execution_count": 3,
     "metadata": {},
     "output_type": "execute_result"
    }
   ],
   "source": [
    "# Tramite la funzione lambda ogni row viene convertita in una lista pulita.\n",
    "\n",
    "df.lenders = df.lenders.apply(lambda x:x.replace(',','').split())\n",
    "print('shape:', df.shape)\n",
    "df.head(10)"
   ]
  },
  {
   "cell_type": "code",
   "execution_count": 4,
   "metadata": {
    "ExecuteTime": {
     "end_time": "2020-01-26T17:55:48.475725Z",
     "start_time": "2020-01-26T17:55:40.714327Z"
    },
    "scrolled": true
   },
   "outputs": [
    {
     "data": {
      "text/html": [
       "<div>\n",
       "<style scoped>\n",
       "    .dataframe tbody tr th:only-of-type {\n",
       "        vertical-align: middle;\n",
       "    }\n",
       "\n",
       "    .dataframe tbody tr th {\n",
       "        vertical-align: top;\n",
       "    }\n",
       "\n",
       "    .dataframe thead th {\n",
       "        text-align: right;\n",
       "    }\n",
       "</style>\n",
       "<table border=\"1\" class=\"dataframe\">\n",
       "  <thead>\n",
       "    <tr style=\"text-align: right;\">\n",
       "      <th></th>\n",
       "      <th>loan_id</th>\n",
       "      <th>lenders</th>\n",
       "    </tr>\n",
       "  </thead>\n",
       "  <tbody>\n",
       "    <tr>\n",
       "      <th>0</th>\n",
       "      <td>483693</td>\n",
       "      <td>muc888</td>\n",
       "    </tr>\n",
       "    <tr>\n",
       "      <th>1</th>\n",
       "      <td>483693</td>\n",
       "      <td>sam4326</td>\n",
       "    </tr>\n",
       "    <tr>\n",
       "      <th>2</th>\n",
       "      <td>483693</td>\n",
       "      <td>camaran3922</td>\n",
       "    </tr>\n",
       "    <tr>\n",
       "      <th>3</th>\n",
       "      <td>483693</td>\n",
       "      <td>lachheb1865</td>\n",
       "    </tr>\n",
       "    <tr>\n",
       "      <th>4</th>\n",
       "      <td>483693</td>\n",
       "      <td>rebecca3499</td>\n",
       "    </tr>\n",
       "    <tr>\n",
       "      <th>5</th>\n",
       "      <td>483693</td>\n",
       "      <td>karlheinz4543</td>\n",
       "    </tr>\n",
       "    <tr>\n",
       "      <th>6</th>\n",
       "      <td>483693</td>\n",
       "      <td>jerrydb</td>\n",
       "    </tr>\n",
       "    <tr>\n",
       "      <th>7</th>\n",
       "      <td>483693</td>\n",
       "      <td>paula8951</td>\n",
       "    </tr>\n",
       "    <tr>\n",
       "      <th>8</th>\n",
       "      <td>483693</td>\n",
       "      <td>gmct</td>\n",
       "    </tr>\n",
       "    <tr>\n",
       "      <th>9</th>\n",
       "      <td>483693</td>\n",
       "      <td>amra9383</td>\n",
       "    </tr>\n",
       "  </tbody>\n",
       "</table>\n",
       "</div>"
      ],
      "text/plain": [
       "   loan_id        lenders\n",
       "0   483693         muc888\n",
       "1   483693        sam4326\n",
       "2   483693    camaran3922\n",
       "3   483693    lachheb1865\n",
       "4   483693    rebecca3499\n",
       "5   483693  karlheinz4543\n",
       "6   483693        jerrydb\n",
       "7   483693      paula8951\n",
       "8   483693           gmct\n",
       "9   483693       amra9383"
      ]
     },
     "execution_count": 4,
     "metadata": {},
     "output_type": "execute_result"
    }
   ],
   "source": [
    "# Explode ci permette di espandere ogni elemento in ogni lista mantenendo come indice 'loan_id' \n",
    "# per ogni membro della lista.\n",
    "\n",
    "df = df.explode('lenders').reset_index(drop=True)\n",
    "df.head(10)"
   ]
  },
  {
   "cell_type": "markdown",
   "metadata": {},
   "source": [
    "## 2. For each loan, add a column duration corresponding to the number of days between the disburse time and the planned expiration time. If any of those two dates is missing, also the duration must be missing."
   ]
  },
  {
   "cell_type": "code",
   "execution_count": 5,
   "metadata": {
    "ExecuteTime": {
     "end_time": "2020-01-26T17:56:18.166195Z",
     "start_time": "2020-01-26T17:55:48.476689Z"
    },
    "scrolled": false
   },
   "outputs": [
    {
     "name": "stdout",
     "output_type": "stream",
     "text": [
      "Shape: (1419607, 31)\n",
      "\n",
      "Columns: Index(['loan_id', 'loan_name', 'original_language', 'description',\n",
      "       'description_translated', 'funded_amount', 'loan_amount', 'status',\n",
      "       'activity_name', 'sector_name', 'loan_use', 'country_code',\n",
      "       'country_name', 'town_name', 'currency_policy',\n",
      "       'currency_exchange_coverage_rate', 'currency', 'partner_id',\n",
      "       'posted_time', 'planned_expiration_time', 'disburse_time',\n",
      "       'raised_time', 'lender_term', 'num_lenders_total',\n",
      "       'num_journal_entries', 'num_bulk_entries', 'tags', 'borrower_genders',\n",
      "       'borrower_pictured', 'repayment_interval', 'distribution_model'],\n",
      "      dtype='object')\n"
     ]
    }
   ],
   "source": [
    "df1 = pd.read_csv('loans.csv')\n",
    "print('Shape:', df1.shape)\n",
    "print('')\n",
    "print('Columns:', df1.columns)"
   ]
  },
  {
   "cell_type": "code",
   "execution_count": 6,
   "metadata": {
    "ExecuteTime": {
     "end_time": "2020-01-26T17:56:18.375401Z",
     "start_time": "2020-01-26T17:56:18.169151Z"
    },
    "scrolled": true
   },
   "outputs": [
    {
     "name": "stdout",
     "output_type": "stream",
     "text": [
      "disburse_time                2813\n",
      "planned_expiration_time    371834\n",
      "dtype: int64\n"
     ]
    }
   ],
   "source": [
    "# Sono presenti molti Na nelle variabili che utilizziremo per computare la differenza\n",
    "\n",
    "print(df1[['disburse_time','planned_expiration_time']].isnull().sum())"
   ]
  },
  {
   "cell_type": "code",
   "execution_count": 7,
   "metadata": {
    "ExecuteTime": {
     "end_time": "2020-01-26T17:56:18.541921Z",
     "start_time": "2020-01-26T17:56:18.376785Z"
    }
   },
   "outputs": [
    {
     "data": {
      "text/plain": [
       "423734     NaN\n",
       "1129851    NaN\n",
       "Name: disburse_time, dtype: object"
      ]
     },
     "execution_count": 7,
     "metadata": {},
     "output_type": "execute_result"
    }
   ],
   "source": [
    "# Notiamo due Na in comune per entrambe le variabili\n",
    "\n",
    "df1.disburse_time[(df1.disburse_time.isnull()==True)&(df1.planned_expiration_time.isnull()==True)]"
   ]
  },
  {
   "cell_type": "code",
   "execution_count": 8,
   "metadata": {
    "ExecuteTime": {
     "end_time": "2020-01-26T17:56:21.404321Z",
     "start_time": "2020-01-26T17:56:18.551887Z"
    }
   },
   "outputs": [],
   "source": [
    "# le variabili vengono convertite\n",
    "\n",
    "df1['planned_expiration_time'] = pd.to_datetime(df1['planned_expiration_time']).dt.date\n",
    "df1['disburse_time'] = pd.to_datetime(df1['disburse_time']).dt.date"
   ]
  },
  {
   "cell_type": "code",
   "execution_count": 9,
   "metadata": {
    "ExecuteTime": {
     "end_time": "2020-01-26T17:56:25.671292Z",
     "start_time": "2020-01-26T17:56:21.409667Z"
    }
   },
   "outputs": [],
   "source": [
    "df1['duration'] = df1['planned_expiration_time'] - df1['disburse_time']"
   ]
  },
  {
   "cell_type": "code",
   "execution_count": 10,
   "metadata": {
    "ExecuteTime": {
     "end_time": "2020-01-26T17:56:25.686158Z",
     "start_time": "2020-01-26T17:56:25.673179Z"
    }
   },
   "outputs": [
    {
     "data": {
      "text/plain": [
       "0   54 days\n",
       "1   96 days\n",
       "2   37 days\n",
       "3   35 days\n",
       "4   58 days\n",
       "Name: duration, dtype: timedelta64[ns]"
      ]
     },
     "execution_count": 10,
     "metadata": {},
     "output_type": "execute_result"
    }
   ],
   "source": [
    "df1['duration'].head()"
   ]
  },
  {
   "cell_type": "code",
   "execution_count": 11,
   "metadata": {
    "ExecuteTime": {
     "end_time": "2020-01-26T17:56:25.721760Z",
     "start_time": "2020-01-26T17:56:25.687722Z"
    }
   },
   "outputs": [
    {
     "name": "stdout",
     "output_type": "stream",
     "text": [
      "Total duration Na: 374645\n"
     ]
    }
   ],
   "source": [
    "# Gli Na sono rimasti invariati, come previsto.\n",
    "\n",
    "print('Total duration Na:', df1['duration'].isnull().sum())"
   ]
  },
  {
   "cell_type": "markdown",
   "metadata": {},
   "source": [
    "## 3.Find the lenders that have funded at least twice."
   ]
  },
  {
   "cell_type": "code",
   "execution_count": 12,
   "metadata": {
    "ExecuteTime": {
     "end_time": "2020-01-26T17:56:39.085457Z",
     "start_time": "2020-01-26T17:56:25.724697Z"
    }
   },
   "outputs": [
    {
     "data": {
      "text/plain": [
       "lenders\n",
       "000               40\n",
       "00000             39\n",
       "0002              70\n",
       "00mike00           1\n",
       "0101craign0101    71\n",
       "dtype: int64"
      ]
     },
     "execution_count": 12,
     "metadata": {},
     "output_type": "execute_result"
    }
   ],
   "source": [
    "# Questo groupby mostra quante volte ogni lender ha contribuito ad un finanziamento.\n",
    "\n",
    "fund = df.groupby('lenders').size()\n",
    "fund.head()"
   ]
  },
  {
   "cell_type": "code",
   "execution_count": 13,
   "metadata": {
    "ExecuteTime": {
     "end_time": "2020-01-26T17:56:39.618049Z",
     "start_time": "2020-01-26T17:56:39.093088Z"
    }
   },
   "outputs": [
    {
     "data": {
      "text/plain": [
       "lenders\n",
       "000               40\n",
       "00000             39\n",
       "0002              70\n",
       "0101craign0101    71\n",
       "0132575            4\n",
       "dtype: int64"
      ]
     },
     "execution_count": 13,
     "metadata": {},
     "output_type": "execute_result"
    }
   ],
   "source": [
    "group = fund[fund >= 2]\n",
    "group.head()"
   ]
  },
  {
   "cell_type": "code",
   "execution_count": 14,
   "metadata": {
    "ExecuteTime": {
     "end_time": "2020-01-26T17:56:39.885919Z",
     "start_time": "2020-01-26T17:56:39.625008Z"
    }
   },
   "outputs": [
    {
     "data": {
      "text/html": [
       "<div>\n",
       "<style scoped>\n",
       "    .dataframe tbody tr th:only-of-type {\n",
       "        vertical-align: middle;\n",
       "    }\n",
       "\n",
       "    .dataframe tbody tr th {\n",
       "        vertical-align: top;\n",
       "    }\n",
       "\n",
       "    .dataframe thead th {\n",
       "        text-align: right;\n",
       "    }\n",
       "</style>\n",
       "<table border=\"1\" class=\"dataframe\">\n",
       "  <thead>\n",
       "    <tr style=\"text-align: right;\">\n",
       "      <th></th>\n",
       "      <th>lenders</th>\n",
       "      <th>Count</th>\n",
       "    </tr>\n",
       "  </thead>\n",
       "  <tbody>\n",
       "    <tr>\n",
       "      <th>0</th>\n",
       "      <td>000</td>\n",
       "      <td>40</td>\n",
       "    </tr>\n",
       "    <tr>\n",
       "      <th>1</th>\n",
       "      <td>00000</td>\n",
       "      <td>39</td>\n",
       "    </tr>\n",
       "    <tr>\n",
       "      <th>2</th>\n",
       "      <td>0002</td>\n",
       "      <td>70</td>\n",
       "    </tr>\n",
       "    <tr>\n",
       "      <th>3</th>\n",
       "      <td>0101craign0101</td>\n",
       "      <td>71</td>\n",
       "    </tr>\n",
       "    <tr>\n",
       "      <th>4</th>\n",
       "      <td>0132575</td>\n",
       "      <td>4</td>\n",
       "    </tr>\n",
       "  </tbody>\n",
       "</table>\n",
       "</div>"
      ],
      "text/plain": [
       "          lenders  Count\n",
       "0             000     40\n",
       "1           00000     39\n",
       "2            0002     70\n",
       "3  0101craign0101     71\n",
       "4         0132575      4"
      ]
     },
     "execution_count": 14,
     "metadata": {},
     "output_type": "execute_result"
    }
   ],
   "source": [
    "lenders = group.reset_index().rename(columns={0:'Count'})\n",
    "lenders.head()"
   ]
  },
  {
   "cell_type": "code",
   "execution_count": 15,
   "metadata": {
    "ExecuteTime": {
     "end_time": "2020-01-26T17:56:39.898010Z",
     "start_time": "2020-01-26T17:56:39.887913Z"
    }
   },
   "outputs": [
    {
     "data": {
      "text/plain": [
       "0                    000\n",
       "1                  00000\n",
       "2                   0002\n",
       "3         0101craign0101\n",
       "4                0132575\n",
       "               ...      \n",
       "901806           zzinnia\n",
       "901807        zzivnk7094\n",
       "901808          zzmcfate\n",
       "901809        zzrvmf8538\n",
       "901810            zzzsai\n",
       "Name: lenders, Length: 901811, dtype: object"
      ]
     },
     "execution_count": 15,
     "metadata": {},
     "output_type": "execute_result"
    }
   ],
   "source": [
    "# Lista dei lenders con almeno due finanziamenti.\n",
    "\n",
    "lenders.lenders"
   ]
  },
  {
   "cell_type": "markdown",
   "metadata": {},
   "source": [
    "## 4. For each country, compute how many loans have involved that country as borrowers."
   ]
  },
  {
   "cell_type": "code",
   "execution_count": 16,
   "metadata": {
    "ExecuteTime": {
     "end_time": "2020-01-26T17:56:39.939942Z",
     "start_time": "2020-01-26T17:56:39.900164Z"
    }
   },
   "outputs": [
    {
     "data": {
      "text/plain": [
       "Index(['loan_id', 'loan_name', 'original_language', 'description',\n",
       "       'description_translated', 'funded_amount', 'loan_amount', 'status',\n",
       "       'activity_name', 'sector_name', 'loan_use', 'country_code',\n",
       "       'country_name', 'town_name', 'currency_policy',\n",
       "       'currency_exchange_coverage_rate', 'currency', 'partner_id',\n",
       "       'posted_time', 'planned_expiration_time', 'disburse_time',\n",
       "       'raised_time', 'lender_term', 'num_lenders_total',\n",
       "       'num_journal_entries', 'num_bulk_entries', 'tags', 'borrower_genders',\n",
       "       'borrower_pictured', 'repayment_interval', 'distribution_model',\n",
       "       'duration'],\n",
       "      dtype='object')"
      ]
     },
     "execution_count": 16,
     "metadata": {},
     "output_type": "execute_result"
    }
   ],
   "source": [
    "df1.columns"
   ]
  },
  {
   "cell_type": "code",
   "execution_count": 17,
   "metadata": {
    "ExecuteTime": {
     "end_time": "2020-01-26T17:56:40.064590Z",
     "start_time": "2020-01-26T17:56:39.941862Z"
    }
   },
   "outputs": [
    {
     "data": {
      "text/html": [
       "<div>\n",
       "<style scoped>\n",
       "    .dataframe tbody tr th:only-of-type {\n",
       "        vertical-align: middle;\n",
       "    }\n",
       "\n",
       "    .dataframe tbody tr th {\n",
       "        vertical-align: top;\n",
       "    }\n",
       "\n",
       "    .dataframe thead th {\n",
       "        text-align: right;\n",
       "    }\n",
       "</style>\n",
       "<table border=\"1\" class=\"dataframe\">\n",
       "  <thead>\n",
       "    <tr style=\"text-align: right;\">\n",
       "      <th></th>\n",
       "      <th>country_name</th>\n",
       "      <th>NumberOfLoans</th>\n",
       "    </tr>\n",
       "  </thead>\n",
       "  <tbody>\n",
       "    <tr>\n",
       "      <th>0</th>\n",
       "      <td>Afghanistan</td>\n",
       "      <td>2337</td>\n",
       "    </tr>\n",
       "    <tr>\n",
       "      <th>1</th>\n",
       "      <td>Albania</td>\n",
       "      <td>3075</td>\n",
       "    </tr>\n",
       "    <tr>\n",
       "      <th>2</th>\n",
       "      <td>Armenia</td>\n",
       "      <td>13952</td>\n",
       "    </tr>\n",
       "    <tr>\n",
       "      <th>3</th>\n",
       "      <td>Azerbaijan</td>\n",
       "      <td>10172</td>\n",
       "    </tr>\n",
       "    <tr>\n",
       "      <th>4</th>\n",
       "      <td>Belize</td>\n",
       "      <td>218</td>\n",
       "    </tr>\n",
       "  </tbody>\n",
       "</table>\n",
       "</div>"
      ],
      "text/plain": [
       "  country_name  NumberOfLoans\n",
       "0  Afghanistan           2337\n",
       "1      Albania           3075\n",
       "2      Armenia          13952\n",
       "3   Azerbaijan          10172\n",
       "4       Belize            218"
      ]
     },
     "execution_count": 17,
     "metadata": {},
     "output_type": "execute_result"
    }
   ],
   "source": [
    "# Prestiti per ogni stato.\n",
    "\n",
    "deff = df1.groupby('country_name')['loan_id'].size()\n",
    "deff = deff.reset_index().rename(columns={'loan_id':'NumberOfLoans'})\n",
    "deff.head()"
   ]
  },
  {
   "cell_type": "markdown",
   "metadata": {},
   "source": [
    "## 5. For each country, compute the overall amount of money borrowed."
   ]
  },
  {
   "cell_type": "code",
   "execution_count": 18,
   "metadata": {
    "ExecuteTime": {
     "end_time": "2020-01-26T17:56:40.178356Z",
     "start_time": "2020-01-26T17:56:40.066526Z"
    }
   },
   "outputs": [
    {
     "data": {
      "text/html": [
       "<div>\n",
       "<style scoped>\n",
       "    .dataframe tbody tr th:only-of-type {\n",
       "        vertical-align: middle;\n",
       "    }\n",
       "\n",
       "    .dataframe tbody tr th {\n",
       "        vertical-align: top;\n",
       "    }\n",
       "\n",
       "    .dataframe thead th {\n",
       "        text-align: right;\n",
       "    }\n",
       "</style>\n",
       "<table border=\"1\" class=\"dataframe\">\n",
       "  <thead>\n",
       "    <tr style=\"text-align: right;\">\n",
       "      <th></th>\n",
       "      <th>country_name</th>\n",
       "      <th>Total_loan_amount</th>\n",
       "    </tr>\n",
       "  </thead>\n",
       "  <tbody>\n",
       "    <tr>\n",
       "      <th>0</th>\n",
       "      <td>Afghanistan</td>\n",
       "      <td>1967950.0</td>\n",
       "    </tr>\n",
       "    <tr>\n",
       "      <th>1</th>\n",
       "      <td>Albania</td>\n",
       "      <td>4307350.0</td>\n",
       "    </tr>\n",
       "    <tr>\n",
       "      <th>2</th>\n",
       "      <td>Armenia</td>\n",
       "      <td>22950475.0</td>\n",
       "    </tr>\n",
       "    <tr>\n",
       "      <th>3</th>\n",
       "      <td>Azerbaijan</td>\n",
       "      <td>14784625.0</td>\n",
       "    </tr>\n",
       "    <tr>\n",
       "      <th>4</th>\n",
       "      <td>Belize</td>\n",
       "      <td>150175.0</td>\n",
       "    </tr>\n",
       "  </tbody>\n",
       "</table>\n",
       "</div>"
      ],
      "text/plain": [
       "  country_name  Total_loan_amount\n",
       "0  Afghanistan          1967950.0\n",
       "1      Albania          4307350.0\n",
       "2      Armenia         22950475.0\n",
       "3   Azerbaijan         14784625.0\n",
       "4       Belize           150175.0"
      ]
     },
     "execution_count": 18,
     "metadata": {},
     "output_type": "execute_result"
    }
   ],
   "source": [
    "# Totale finanziato per ogni stato\n",
    "\n",
    "deff = df1.groupby('country_name')['loan_amount'].sum()\n",
    "deff = deff.reset_index().rename(columns={'loan_amount':'Total_loan_amount'})\n",
    "deff.head()"
   ]
  },
  {
   "cell_type": "markdown",
   "metadata": {},
   "source": [
    "## 6. Like the previous point, but expressed as a percentage of the overall amount lent."
   ]
  },
  {
   "cell_type": "code",
   "execution_count": 19,
   "metadata": {
    "ExecuteTime": {
     "end_time": "2020-01-26T17:56:40.290057Z",
     "start_time": "2020-01-26T17:56:40.179400Z"
    }
   },
   "outputs": [
    {
     "data": {
      "text/html": [
       "<div>\n",
       "<style scoped>\n",
       "    .dataframe tbody tr th:only-of-type {\n",
       "        vertical-align: middle;\n",
       "    }\n",
       "\n",
       "    .dataframe tbody tr th {\n",
       "        vertical-align: top;\n",
       "    }\n",
       "\n",
       "    .dataframe thead th {\n",
       "        text-align: right;\n",
       "    }\n",
       "</style>\n",
       "<table border=\"1\" class=\"dataframe\">\n",
       "  <thead>\n",
       "    <tr style=\"text-align: right;\">\n",
       "      <th></th>\n",
       "      <th>country_name</th>\n",
       "      <th>%_Over_Total</th>\n",
       "    </tr>\n",
       "  </thead>\n",
       "  <tbody>\n",
       "    <tr>\n",
       "      <th>0</th>\n",
       "      <td>Afghanistan</td>\n",
       "      <td>0.174126</td>\n",
       "    </tr>\n",
       "    <tr>\n",
       "      <th>1</th>\n",
       "      <td>Albania</td>\n",
       "      <td>0.381119</td>\n",
       "    </tr>\n",
       "    <tr>\n",
       "      <th>2</th>\n",
       "      <td>Armenia</td>\n",
       "      <td>2.030683</td>\n",
       "    </tr>\n",
       "    <tr>\n",
       "      <th>3</th>\n",
       "      <td>Azerbaijan</td>\n",
       "      <td>1.308160</td>\n",
       "    </tr>\n",
       "    <tr>\n",
       "      <th>4</th>\n",
       "      <td>Belize</td>\n",
       "      <td>0.013288</td>\n",
       "    </tr>\n",
       "  </tbody>\n",
       "</table>\n",
       "</div>"
      ],
      "text/plain": [
       "  country_name  %_Over_Total\n",
       "0  Afghanistan      0.174126\n",
       "1      Albania      0.381119\n",
       "2      Armenia      2.030683\n",
       "3   Azerbaijan      1.308160\n",
       "4       Belize      0.013288"
      ]
     },
     "execution_count": 19,
     "metadata": {},
     "output_type": "execute_result"
    }
   ],
   "source": [
    "# Come il punto precedente ma dividendo ogni country con il totale di 'funded_amount'\n",
    "\n",
    "deff = df1.groupby('country_name')['loan_amount'].sum() / df1.funded_amount.sum()*100\n",
    "deff = deff.reset_index().rename(columns={'loan_amount':'%_Over_Total'})\n",
    "deff.head()"
   ]
  },
  {
   "cell_type": "markdown",
   "metadata": {},
   "source": [
    "## 7. Like the three previous points, but split for each year (with respect to disburse time)."
   ]
  },
  {
   "cell_type": "code",
   "execution_count": 20,
   "metadata": {
    "ExecuteTime": {
     "end_time": "2020-01-26T17:56:41.958099Z",
     "start_time": "2020-01-26T17:56:40.291192Z"
    }
   },
   "outputs": [],
   "source": [
    "df1['disburse_time'] = pd.to_datetime(df1['disburse_time'])"
   ]
  },
  {
   "cell_type": "code",
   "execution_count": 21,
   "metadata": {
    "ExecuteTime": {
     "end_time": "2020-01-26T17:56:42.104111Z",
     "start_time": "2020-01-26T17:56:41.960997Z"
    }
   },
   "outputs": [],
   "source": [
    "# Viene creata una nuova variabile indentificante l'anno\n",
    "\n",
    "df1['years']=df1['disburse_time'].dt.year"
   ]
  },
  {
   "cell_type": "code",
   "execution_count": 22,
   "metadata": {
    "ExecuteTime": {
     "end_time": "2020-01-26T17:56:42.115093Z",
     "start_time": "2020-01-26T17:56:42.105718Z"
    }
   },
   "outputs": [
    {
     "name": "stdout",
     "output_type": "stream",
     "text": [
      "Years Na: 2813\n"
     ]
    }
   ],
   "source": [
    "print('Years Na:', df1.years.isnull().sum())"
   ]
  },
  {
   "cell_type": "code",
   "execution_count": 23,
   "metadata": {
    "ExecuteTime": {
     "end_time": "2020-01-26T17:56:42.523988Z",
     "start_time": "2020-01-26T17:56:42.130042Z"
    }
   },
   "outputs": [
    {
     "data": {
      "text/plain": [
       "country_name  years \n",
       "Afghanistan   2007.0     408\n",
       "              2008.0     370\n",
       "              2009.0     678\n",
       "              2010.0     632\n",
       "              2011.0     247\n",
       "                        ... \n",
       "Zimbabwe      2013.0     426\n",
       "              2014.0    2078\n",
       "              2015.0     600\n",
       "              2016.0     808\n",
       "              2017.0    1079\n",
       "Name: loan_id, Length: 748, dtype: int64"
      ]
     },
     "execution_count": 23,
     "metadata": {},
     "output_type": "execute_result"
    }
   ],
   "source": [
    "# Conteggio dei prestiti in base allo stato e all'anno.\n",
    "\n",
    "df1.groupby(['country_name','years'])['loan_id'].size() "
   ]
  },
  {
   "cell_type": "code",
   "execution_count": 24,
   "metadata": {
    "ExecuteTime": {
     "end_time": "2020-01-26T17:56:42.774436Z",
     "start_time": "2020-01-26T17:56:42.532966Z"
    }
   },
   "outputs": [
    {
     "data": {
      "text/plain": [
       "country_name  years \n",
       "Afghanistan   2007.0     194975.0\n",
       "              2008.0     365375.0\n",
       "              2009.0     585125.0\n",
       "              2010.0     563350.0\n",
       "              2011.0     245125.0\n",
       "                          ...    \n",
       "Zimbabwe      2013.0     678525.0\n",
       "              2014.0    1311575.0\n",
       "              2015.0     723625.0\n",
       "              2016.0     788600.0\n",
       "              2017.0    1237600.0\n",
       "Name: loan_amount, Length: 748, dtype: float64"
      ]
     },
     "execution_count": 24,
     "metadata": {},
     "output_type": "execute_result"
    }
   ],
   "source": [
    "# Importo totale per anno e stato.\n",
    "\n",
    "df1.groupby(['country_name','years'])['loan_amount'].sum()"
   ]
  },
  {
   "cell_type": "code",
   "execution_count": 25,
   "metadata": {
    "ExecuteTime": {
     "end_time": "2020-01-26T17:56:42.970609Z",
     "start_time": "2020-01-26T17:56:42.776366Z"
    },
    "scrolled": false
   },
   "outputs": [
    {
     "data": {
      "text/plain": [
       "country_name  years \n",
       "Afghanistan   2007.0    0.017252\n",
       "              2008.0    0.032329\n",
       "              2009.0    0.051772\n",
       "              2010.0    0.049846\n",
       "              2011.0    0.021689\n",
       "                          ...   \n",
       "Zimbabwe      2013.0    0.060037\n",
       "              2014.0    0.116050\n",
       "              2015.0    0.064027\n",
       "              2016.0    0.069776\n",
       "              2017.0    0.109504\n",
       "Name: loan_amount, Length: 748, dtype: float64"
      ]
     },
     "execution_count": 25,
     "metadata": {},
     "output_type": "execute_result"
    }
   ],
   "source": [
    "# Rapporto tra amount e funded per anno e stato.\n",
    "\n",
    "df1.groupby(['country_name','years'])['loan_amount'].sum()/df1.funded_amount.sum()*100"
   ]
  },
  {
   "cell_type": "markdown",
   "metadata": {},
   "source": [
    "## 8. For each lender, compute the overall amount of money lent.  For each loan that has more than one lender, you must assume that all lenders contributed the same amount."
   ]
  },
  {
   "cell_type": "code",
   "execution_count": 26,
   "metadata": {
    "ExecuteTime": {
     "end_time": "2020-01-26T17:56:43.010481Z",
     "start_time": "2020-01-26T17:56:42.972607Z"
    }
   },
   "outputs": [
    {
     "data": {
      "text/html": [
       "<div>\n",
       "<style scoped>\n",
       "    .dataframe tbody tr th:only-of-type {\n",
       "        vertical-align: middle;\n",
       "    }\n",
       "\n",
       "    .dataframe tbody tr th {\n",
       "        vertical-align: top;\n",
       "    }\n",
       "\n",
       "    .dataframe thead th {\n",
       "        text-align: right;\n",
       "    }\n",
       "</style>\n",
       "<table border=\"1\" class=\"dataframe\">\n",
       "  <thead>\n",
       "    <tr style=\"text-align: right;\">\n",
       "      <th></th>\n",
       "      <th>loan_id</th>\n",
       "      <th>loan_amount</th>\n",
       "      <th>funded_amount</th>\n",
       "    </tr>\n",
       "  </thead>\n",
       "  <tbody>\n",
       "    <tr>\n",
       "      <th>0</th>\n",
       "      <td>657307</td>\n",
       "      <td>125.0</td>\n",
       "      <td>125.0</td>\n",
       "    </tr>\n",
       "    <tr>\n",
       "      <th>1</th>\n",
       "      <td>657259</td>\n",
       "      <td>400.0</td>\n",
       "      <td>400.0</td>\n",
       "    </tr>\n",
       "    <tr>\n",
       "      <th>2</th>\n",
       "      <td>658010</td>\n",
       "      <td>400.0</td>\n",
       "      <td>400.0</td>\n",
       "    </tr>\n",
       "    <tr>\n",
       "      <th>3</th>\n",
       "      <td>659347</td>\n",
       "      <td>625.0</td>\n",
       "      <td>625.0</td>\n",
       "    </tr>\n",
       "    <tr>\n",
       "      <th>4</th>\n",
       "      <td>656933</td>\n",
       "      <td>425.0</td>\n",
       "      <td>425.0</td>\n",
       "    </tr>\n",
       "  </tbody>\n",
       "</table>\n",
       "</div>"
      ],
      "text/plain": [
       "   loan_id  loan_amount  funded_amount\n",
       "0   657307        125.0          125.0\n",
       "1   657259        400.0          400.0\n",
       "2   658010        400.0          400.0\n",
       "3   659347        625.0          625.0\n",
       "4   656933        425.0          425.0"
      ]
     },
     "execution_count": 26,
     "metadata": {},
     "output_type": "execute_result"
    }
   ],
   "source": [
    "# Estraggo solo le colonne che mi servono\n",
    "\n",
    "dfx = df1[['loan_id','loan_amount','funded_amount']]\n",
    "dfx.head()"
   ]
  },
  {
   "cell_type": "code",
   "execution_count": 27,
   "metadata": {
    "ExecuteTime": {
     "end_time": "2020-01-26T17:56:56.293905Z",
     "start_time": "2020-01-26T17:56:43.013460Z"
    }
   },
   "outputs": [],
   "source": [
    "# Merge su loan_id in modo da avere anche il nome di ogni lender\n",
    "\n",
    "df2 = dfx.merge(df,on='loan_id')\n",
    "df2.head()"
   ]
  },
  {
   "cell_type": "code",
   "execution_count": 29,
   "metadata": {
    "ExecuteTime": {
     "end_time": "2020-01-26T17:56:57.707084Z",
     "start_time": "2020-01-26T17:56:56.354682Z"
    },
    "scrolled": false
   },
   "outputs": [
    {
     "data": {
      "text/plain": [
       "loan_id\n",
       "84         3\n",
       "85         2\n",
       "86         3\n",
       "88         3\n",
       "89         4\n",
       "          ..\n",
       "1444051    1\n",
       "1444053    1\n",
       "1444058    1\n",
       "1444063    1\n",
       "1444065    1\n",
       "Length: 1387428, dtype: int64"
      ]
     },
     "execution_count": 29,
     "metadata": {},
     "output_type": "execute_result"
    }
   ],
   "source": [
    "# numero di lenders per ogni prestito\n",
    "\n",
    "id_group = df2.groupby('loan_id').size()\n",
    "id_group"
   ]
  },
  {
   "cell_type": "code",
   "execution_count": 30,
   "metadata": {
    "ExecuteTime": {
     "end_time": "2020-01-26T17:57:25.134469Z",
     "start_time": "2020-01-26T17:56:57.711817Z"
    },
    "scrolled": false
   },
   "outputs": [
    {
     "data": {
      "text/plain": [
       "loan_id  lenders   \n",
       "84       brooke        500.0\n",
       "         michael       500.0\n",
       "         ward          500.0\n",
       "85       michael       500.0\n",
       "         patrick       500.0\n",
       "                       ...  \n",
       "1444051  lauren1424     50.0\n",
       "1444053  dario6858      50.0\n",
       "1444058  el5018         25.0\n",
       "1444063  pgs67          50.0\n",
       "1444065  el5018         25.0\n",
       "Name: funded_amount, Length: 27459067, dtype: float64"
      ]
     },
     "execution_count": 30,
     "metadata": {},
     "output_type": "execute_result"
    }
   ],
   "source": [
    "# Con il groupby faccio in modo che i loan_id della tabella siano ordinati come quelli della numerosità\n",
    "\n",
    "funded_group = df2.groupby(['loan_id','lenders'])['funded_amount'].sum()\n",
    "funded_group"
   ]
  },
  {
   "cell_type": "code",
   "execution_count": 31,
   "metadata": {
    "ExecuteTime": {
     "end_time": "2020-01-26T17:58:00.776138Z",
     "start_time": "2020-01-26T17:57:25.140413Z"
    },
    "scrolled": false
   },
   "outputs": [
    {
     "data": {
      "text/plain": [
       "loan_id  lenders   \n",
       "84       brooke        166.666667\n",
       "         michael       166.666667\n",
       "         ward          166.666667\n",
       "85       michael       250.000000\n",
       "         patrick       250.000000\n",
       "                          ...    \n",
       "1444051  lauren1424     50.000000\n",
       "1444053  dario6858      50.000000\n",
       "1444058  el5018         25.000000\n",
       "1444063  pgs67          50.000000\n",
       "1444065  el5018         25.000000\n",
       "Length: 27459067, dtype: float64"
      ]
     },
     "execution_count": 31,
     "metadata": {},
     "output_type": "execute_result"
    }
   ],
   "source": [
    "# divisione tra somma prestata e numerosità di ciascun gruppo\n",
    "\n",
    "df3 = funded_group/id_group\n",
    "df3"
   ]
  },
  {
   "cell_type": "code",
   "execution_count": 32,
   "metadata": {
    "ExecuteTime": {
     "end_time": "2020-01-26T17:58:12.971980Z",
     "start_time": "2020-01-26T17:58:00.779164Z"
    },
    "scrolled": false
   },
   "outputs": [
    {
     "data": {
      "text/html": [
       "<div>\n",
       "<style scoped>\n",
       "    .dataframe tbody tr th:only-of-type {\n",
       "        vertical-align: middle;\n",
       "    }\n",
       "\n",
       "    .dataframe tbody tr th {\n",
       "        vertical-align: top;\n",
       "    }\n",
       "\n",
       "    .dataframe thead th {\n",
       "        text-align: right;\n",
       "    }\n",
       "</style>\n",
       "<table border=\"1\" class=\"dataframe\">\n",
       "  <thead>\n",
       "    <tr style=\"text-align: right;\">\n",
       "      <th></th>\n",
       "      <th>loan_id</th>\n",
       "      <th>lenders</th>\n",
       "      <th>amount</th>\n",
       "    </tr>\n",
       "  </thead>\n",
       "  <tbody>\n",
       "    <tr>\n",
       "      <th>0</th>\n",
       "      <td>84</td>\n",
       "      <td>brooke</td>\n",
       "      <td>166.666667</td>\n",
       "    </tr>\n",
       "    <tr>\n",
       "      <th>1</th>\n",
       "      <td>84</td>\n",
       "      <td>michael</td>\n",
       "      <td>166.666667</td>\n",
       "    </tr>\n",
       "    <tr>\n",
       "      <th>2</th>\n",
       "      <td>84</td>\n",
       "      <td>ward</td>\n",
       "      <td>166.666667</td>\n",
       "    </tr>\n",
       "    <tr>\n",
       "      <th>3</th>\n",
       "      <td>85</td>\n",
       "      <td>michael</td>\n",
       "      <td>250.000000</td>\n",
       "    </tr>\n",
       "    <tr>\n",
       "      <th>4</th>\n",
       "      <td>85</td>\n",
       "      <td>patrick</td>\n",
       "      <td>250.000000</td>\n",
       "    </tr>\n",
       "    <tr>\n",
       "      <th>...</th>\n",
       "      <td>...</td>\n",
       "      <td>...</td>\n",
       "      <td>...</td>\n",
       "    </tr>\n",
       "    <tr>\n",
       "      <th>27459062</th>\n",
       "      <td>1444051</td>\n",
       "      <td>lauren1424</td>\n",
       "      <td>50.000000</td>\n",
       "    </tr>\n",
       "    <tr>\n",
       "      <th>27459063</th>\n",
       "      <td>1444053</td>\n",
       "      <td>dario6858</td>\n",
       "      <td>50.000000</td>\n",
       "    </tr>\n",
       "    <tr>\n",
       "      <th>27459064</th>\n",
       "      <td>1444058</td>\n",
       "      <td>el5018</td>\n",
       "      <td>25.000000</td>\n",
       "    </tr>\n",
       "    <tr>\n",
       "      <th>27459065</th>\n",
       "      <td>1444063</td>\n",
       "      <td>pgs67</td>\n",
       "      <td>50.000000</td>\n",
       "    </tr>\n",
       "    <tr>\n",
       "      <th>27459066</th>\n",
       "      <td>1444065</td>\n",
       "      <td>el5018</td>\n",
       "      <td>25.000000</td>\n",
       "    </tr>\n",
       "  </tbody>\n",
       "</table>\n",
       "<p>27459067 rows × 3 columns</p>\n",
       "</div>"
      ],
      "text/plain": [
       "          loan_id     lenders      amount\n",
       "0              84      brooke  166.666667\n",
       "1              84     michael  166.666667\n",
       "2              84        ward  166.666667\n",
       "3              85     michael  250.000000\n",
       "4              85     patrick  250.000000\n",
       "...           ...         ...         ...\n",
       "27459062  1444051  lauren1424   50.000000\n",
       "27459063  1444053   dario6858   50.000000\n",
       "27459064  1444058      el5018   25.000000\n",
       "27459065  1444063       pgs67   50.000000\n",
       "27459066  1444065      el5018   25.000000\n",
       "\n",
       "[27459067 rows x 3 columns]"
      ]
     },
     "execution_count": 32,
     "metadata": {},
     "output_type": "execute_result"
    }
   ],
   "source": [
    "df3 = df3.reset_index().rename(columns={0:'amount'})\n",
    "df3"
   ]
  },
  {
   "cell_type": "code",
   "execution_count": 33,
   "metadata": {
    "ExecuteTime": {
     "end_time": "2020-01-26T17:58:26.868957Z",
     "start_time": "2020-01-26T17:58:12.984791Z"
    },
    "scrolled": true
   },
   "outputs": [
    {
     "data": {
      "text/html": [
       "<div>\n",
       "<style scoped>\n",
       "    .dataframe tbody tr th:only-of-type {\n",
       "        vertical-align: middle;\n",
       "    }\n",
       "\n",
       "    .dataframe tbody tr th {\n",
       "        vertical-align: top;\n",
       "    }\n",
       "\n",
       "    .dataframe thead th {\n",
       "        text-align: right;\n",
       "    }\n",
       "</style>\n",
       "<table border=\"1\" class=\"dataframe\">\n",
       "  <thead>\n",
       "    <tr style=\"text-align: right;\">\n",
       "      <th></th>\n",
       "      <th>lenders</th>\n",
       "      <th>Total_lent</th>\n",
       "    </tr>\n",
       "  </thead>\n",
       "  <tbody>\n",
       "    <tr>\n",
       "      <th>0</th>\n",
       "      <td>000</td>\n",
       "      <td>1703.868411</td>\n",
       "    </tr>\n",
       "    <tr>\n",
       "      <th>1</th>\n",
       "      <td>00000</td>\n",
       "      <td>1379.750248</td>\n",
       "    </tr>\n",
       "    <tr>\n",
       "      <th>2</th>\n",
       "      <td>0002</td>\n",
       "      <td>2472.563566</td>\n",
       "    </tr>\n",
       "    <tr>\n",
       "      <th>3</th>\n",
       "      <td>00mike00</td>\n",
       "      <td>52.631579</td>\n",
       "    </tr>\n",
       "    <tr>\n",
       "      <th>4</th>\n",
       "      <td>0101craign0101</td>\n",
       "      <td>2623.565117</td>\n",
       "    </tr>\n",
       "    <tr>\n",
       "      <th>...</th>\n",
       "      <td>...</td>\n",
       "      <td>...</td>\n",
       "    </tr>\n",
       "    <tr>\n",
       "      <th>1383794</th>\n",
       "      <td>zzmcfate</td>\n",
       "      <td>63381.546705</td>\n",
       "    </tr>\n",
       "    <tr>\n",
       "      <th>1383795</th>\n",
       "      <td>zzpaghetti9994</td>\n",
       "      <td>51.020408</td>\n",
       "    </tr>\n",
       "    <tr>\n",
       "      <th>1383796</th>\n",
       "      <td>zzrvmf8538</td>\n",
       "      <td>513.213719</td>\n",
       "    </tr>\n",
       "    <tr>\n",
       "      <th>1383797</th>\n",
       "      <td>zzzsai</td>\n",
       "      <td>267.667370</td>\n",
       "    </tr>\n",
       "    <tr>\n",
       "      <th>1383798</th>\n",
       "      <td>zzzworld</td>\n",
       "      <td>27.522936</td>\n",
       "    </tr>\n",
       "  </tbody>\n",
       "</table>\n",
       "<p>1383799 rows × 2 columns</p>\n",
       "</div>"
      ],
      "text/plain": [
       "                lenders    Total_lent\n",
       "0                   000   1703.868411\n",
       "1                 00000   1379.750248\n",
       "2                  0002   2472.563566\n",
       "3              00mike00     52.631579\n",
       "4        0101craign0101   2623.565117\n",
       "...                 ...           ...\n",
       "1383794        zzmcfate  63381.546705\n",
       "1383795  zzpaghetti9994     51.020408\n",
       "1383796      zzrvmf8538    513.213719\n",
       "1383797          zzzsai    267.667370\n",
       "1383798        zzzworld     27.522936\n",
       "\n",
       "[1383799 rows x 2 columns]"
      ]
     },
     "execution_count": 33,
     "metadata": {},
     "output_type": "execute_result"
    }
   ],
   "source": [
    "# Raggruppamento per lender e somma totale\n",
    "\n",
    "df3 = df3.groupby('lenders')['amount'].sum().reset_index().rename(columns={'amount':'Total_lent'})\n",
    "df3"
   ]
  },
  {
   "cell_type": "markdown",
   "metadata": {},
   "source": [
    "## 9. For each country, compute the difference between the overall amount of money lent and the overall amount of money borrowed. Since the country of the lender is often unknown, you can assume that the true distribution among the countries is the same as the one computed from the rows where the country is known."
   ]
  },
  {
   "cell_type": "code",
   "execution_count": 34,
   "metadata": {
    "ExecuteTime": {
     "end_time": "2020-01-26T17:59:29.127072Z",
     "start_time": "2020-01-26T17:58:26.871948Z"
    }
   },
   "outputs": [],
   "source": [
    "# funded_group è lo stesso del punto precendente, si procede con un raggruppamento identico ma per la \n",
    "# variabile loan_amount\n",
    "\n",
    "amount_group = df2.groupby(['loan_id','lenders'])['loan_amount'].sum()\n",
    "funded_group = df2.groupby(['loan_id','lenders'])['funded_amount'].sum()"
   ]
  },
  {
   "cell_type": "code",
   "execution_count": 35,
   "metadata": {
    "ExecuteTime": {
     "end_time": "2020-01-26T18:00:59.392427Z",
     "start_time": "2020-01-26T17:59:29.145436Z"
    }
   },
   "outputs": [],
   "source": [
    "df_loa = amount_group/id_group\n",
    "df_fun = funded_group/id_group"
   ]
  },
  {
   "cell_type": "code",
   "execution_count": 36,
   "metadata": {
    "ExecuteTime": {
     "end_time": "2020-01-26T18:01:10.762001Z",
     "start_time": "2020-01-26T18:00:59.413381Z"
    }
   },
   "outputs": [
    {
     "data": {
      "text/html": [
       "<div>\n",
       "<style scoped>\n",
       "    .dataframe tbody tr th:only-of-type {\n",
       "        vertical-align: middle;\n",
       "    }\n",
       "\n",
       "    .dataframe tbody tr th {\n",
       "        vertical-align: top;\n",
       "    }\n",
       "\n",
       "    .dataframe thead th {\n",
       "        text-align: right;\n",
       "    }\n",
       "</style>\n",
       "<table border=\"1\" class=\"dataframe\">\n",
       "  <thead>\n",
       "    <tr style=\"text-align: right;\">\n",
       "      <th></th>\n",
       "      <th>loan_id</th>\n",
       "      <th>lenders</th>\n",
       "      <th>loan_amount_each</th>\n",
       "    </tr>\n",
       "  </thead>\n",
       "  <tbody>\n",
       "    <tr>\n",
       "      <th>0</th>\n",
       "      <td>84</td>\n",
       "      <td>brooke</td>\n",
       "      <td>166.666667</td>\n",
       "    </tr>\n",
       "    <tr>\n",
       "      <th>1</th>\n",
       "      <td>84</td>\n",
       "      <td>michael</td>\n",
       "      <td>166.666667</td>\n",
       "    </tr>\n",
       "    <tr>\n",
       "      <th>2</th>\n",
       "      <td>84</td>\n",
       "      <td>ward</td>\n",
       "      <td>166.666667</td>\n",
       "    </tr>\n",
       "    <tr>\n",
       "      <th>3</th>\n",
       "      <td>85</td>\n",
       "      <td>michael</td>\n",
       "      <td>250.000000</td>\n",
       "    </tr>\n",
       "    <tr>\n",
       "      <th>4</th>\n",
       "      <td>85</td>\n",
       "      <td>patrick</td>\n",
       "      <td>250.000000</td>\n",
       "    </tr>\n",
       "    <tr>\n",
       "      <th>...</th>\n",
       "      <td>...</td>\n",
       "      <td>...</td>\n",
       "      <td>...</td>\n",
       "    </tr>\n",
       "    <tr>\n",
       "      <th>27459062</th>\n",
       "      <td>1444051</td>\n",
       "      <td>lauren1424</td>\n",
       "      <td>225.000000</td>\n",
       "    </tr>\n",
       "    <tr>\n",
       "      <th>27459063</th>\n",
       "      <td>1444053</td>\n",
       "      <td>dario6858</td>\n",
       "      <td>725.000000</td>\n",
       "    </tr>\n",
       "    <tr>\n",
       "      <th>27459064</th>\n",
       "      <td>1444058</td>\n",
       "      <td>el5018</td>\n",
       "      <td>25.000000</td>\n",
       "    </tr>\n",
       "    <tr>\n",
       "      <th>27459065</th>\n",
       "      <td>1444063</td>\n",
       "      <td>pgs67</td>\n",
       "      <td>50.000000</td>\n",
       "    </tr>\n",
       "    <tr>\n",
       "      <th>27459066</th>\n",
       "      <td>1444065</td>\n",
       "      <td>el5018</td>\n",
       "      <td>25.000000</td>\n",
       "    </tr>\n",
       "  </tbody>\n",
       "</table>\n",
       "<p>27459067 rows × 3 columns</p>\n",
       "</div>"
      ],
      "text/plain": [
       "          loan_id     lenders  loan_amount_each\n",
       "0              84      brooke        166.666667\n",
       "1              84     michael        166.666667\n",
       "2              84        ward        166.666667\n",
       "3              85     michael        250.000000\n",
       "4              85     patrick        250.000000\n",
       "...           ...         ...               ...\n",
       "27459062  1444051  lauren1424        225.000000\n",
       "27459063  1444053   dario6858        725.000000\n",
       "27459064  1444058      el5018         25.000000\n",
       "27459065  1444063       pgs67         50.000000\n",
       "27459066  1444065      el5018         25.000000\n",
       "\n",
       "[27459067 rows x 3 columns]"
      ]
     },
     "execution_count": 36,
     "metadata": {},
     "output_type": "execute_result"
    }
   ],
   "source": [
    "df_loa = df_loa.reset_index().rename(columns={0:'loan_amount_each'})\n",
    "df_loa"
   ]
  },
  {
   "cell_type": "code",
   "execution_count": 37,
   "metadata": {
    "ExecuteTime": {
     "end_time": "2020-01-26T18:01:19.471453Z",
     "start_time": "2020-01-26T18:01:10.770582Z"
    },
    "scrolled": true
   },
   "outputs": [
    {
     "data": {
      "text/html": [
       "<div>\n",
       "<style scoped>\n",
       "    .dataframe tbody tr th:only-of-type {\n",
       "        vertical-align: middle;\n",
       "    }\n",
       "\n",
       "    .dataframe tbody tr th {\n",
       "        vertical-align: top;\n",
       "    }\n",
       "\n",
       "    .dataframe thead th {\n",
       "        text-align: right;\n",
       "    }\n",
       "</style>\n",
       "<table border=\"1\" class=\"dataframe\">\n",
       "  <thead>\n",
       "    <tr style=\"text-align: right;\">\n",
       "      <th></th>\n",
       "      <th>loan_id</th>\n",
       "      <th>lenders</th>\n",
       "      <th>funded_amount_each</th>\n",
       "    </tr>\n",
       "  </thead>\n",
       "  <tbody>\n",
       "    <tr>\n",
       "      <th>0</th>\n",
       "      <td>84</td>\n",
       "      <td>brooke</td>\n",
       "      <td>166.666667</td>\n",
       "    </tr>\n",
       "    <tr>\n",
       "      <th>1</th>\n",
       "      <td>84</td>\n",
       "      <td>michael</td>\n",
       "      <td>166.666667</td>\n",
       "    </tr>\n",
       "    <tr>\n",
       "      <th>2</th>\n",
       "      <td>84</td>\n",
       "      <td>ward</td>\n",
       "      <td>166.666667</td>\n",
       "    </tr>\n",
       "    <tr>\n",
       "      <th>3</th>\n",
       "      <td>85</td>\n",
       "      <td>michael</td>\n",
       "      <td>250.000000</td>\n",
       "    </tr>\n",
       "    <tr>\n",
       "      <th>4</th>\n",
       "      <td>85</td>\n",
       "      <td>patrick</td>\n",
       "      <td>250.000000</td>\n",
       "    </tr>\n",
       "    <tr>\n",
       "      <th>...</th>\n",
       "      <td>...</td>\n",
       "      <td>...</td>\n",
       "      <td>...</td>\n",
       "    </tr>\n",
       "    <tr>\n",
       "      <th>27459062</th>\n",
       "      <td>1444051</td>\n",
       "      <td>lauren1424</td>\n",
       "      <td>50.000000</td>\n",
       "    </tr>\n",
       "    <tr>\n",
       "      <th>27459063</th>\n",
       "      <td>1444053</td>\n",
       "      <td>dario6858</td>\n",
       "      <td>50.000000</td>\n",
       "    </tr>\n",
       "    <tr>\n",
       "      <th>27459064</th>\n",
       "      <td>1444058</td>\n",
       "      <td>el5018</td>\n",
       "      <td>25.000000</td>\n",
       "    </tr>\n",
       "    <tr>\n",
       "      <th>27459065</th>\n",
       "      <td>1444063</td>\n",
       "      <td>pgs67</td>\n",
       "      <td>50.000000</td>\n",
       "    </tr>\n",
       "    <tr>\n",
       "      <th>27459066</th>\n",
       "      <td>1444065</td>\n",
       "      <td>el5018</td>\n",
       "      <td>25.000000</td>\n",
       "    </tr>\n",
       "  </tbody>\n",
       "</table>\n",
       "<p>27459067 rows × 3 columns</p>\n",
       "</div>"
      ],
      "text/plain": [
       "          loan_id     lenders  funded_amount_each\n",
       "0              84      brooke          166.666667\n",
       "1              84     michael          166.666667\n",
       "2              84        ward          166.666667\n",
       "3              85     michael          250.000000\n",
       "4              85     patrick          250.000000\n",
       "...           ...         ...                 ...\n",
       "27459062  1444051  lauren1424           50.000000\n",
       "27459063  1444053   dario6858           50.000000\n",
       "27459064  1444058      el5018           25.000000\n",
       "27459065  1444063       pgs67           50.000000\n",
       "27459066  1444065      el5018           25.000000\n",
       "\n",
       "[27459067 rows x 3 columns]"
      ]
     },
     "execution_count": 37,
     "metadata": {},
     "output_type": "execute_result"
    }
   ],
   "source": [
    "df_fun = df_fun.reset_index().rename(columns={0:'funded_amount_each'})\n",
    "df_fun"
   ]
  },
  {
   "cell_type": "code",
   "execution_count": 38,
   "metadata": {
    "ExecuteTime": {
     "end_time": "2020-01-26T18:01:52.312446Z",
     "start_time": "2020-01-26T18:01:19.480453Z"
    }
   },
   "outputs": [],
   "source": [
    "tot = df_loa.merge(df_fun,on=['loan_id','lenders'])"
   ]
  },
  {
   "cell_type": "code",
   "execution_count": 86,
   "metadata": {
    "ExecuteTime": {
     "end_time": "2020-01-26T18:22:44.434079Z",
     "start_time": "2020-01-26T18:22:43.891568Z"
    }
   },
   "outputs": [],
   "source": [
    "tot['difference']= tot.loan_amount_each - tot.funded_amount_each"
   ]
  },
  {
   "cell_type": "code",
   "execution_count": 87,
   "metadata": {
    "ExecuteTime": {
     "end_time": "2020-01-26T18:22:45.890014Z",
     "start_time": "2020-01-26T18:22:44.947706Z"
    }
   },
   "outputs": [],
   "source": [
    "tot_clean = tot[tot.difference!=0]"
   ]
  },
  {
   "cell_type": "code",
   "execution_count": 88,
   "metadata": {
    "ExecuteTime": {
     "end_time": "2020-01-26T18:22:45.901557Z",
     "start_time": "2020-01-26T18:22:45.890945Z"
    },
    "scrolled": true
   },
   "outputs": [
    {
     "data": {
      "text/html": [
       "<div>\n",
       "<style scoped>\n",
       "    .dataframe tbody tr th:only-of-type {\n",
       "        vertical-align: middle;\n",
       "    }\n",
       "\n",
       "    .dataframe tbody tr th {\n",
       "        vertical-align: top;\n",
       "    }\n",
       "\n",
       "    .dataframe thead th {\n",
       "        text-align: right;\n",
       "    }\n",
       "</style>\n",
       "<table border=\"1\" class=\"dataframe\">\n",
       "  <thead>\n",
       "    <tr style=\"text-align: right;\">\n",
       "      <th></th>\n",
       "      <th>loan_id</th>\n",
       "      <th>lenders</th>\n",
       "      <th>loan_amount_each</th>\n",
       "      <th>funded_amount_each</th>\n",
       "      <th>difference</th>\n",
       "    </tr>\n",
       "  </thead>\n",
       "  <tbody>\n",
       "    <tr>\n",
       "      <th>2560</th>\n",
       "      <td>726</td>\n",
       "      <td>acusticthoughts</td>\n",
       "      <td>50.0</td>\n",
       "      <td>48.4375</td>\n",
       "      <td>1.5625</td>\n",
       "    </tr>\n",
       "    <tr>\n",
       "      <th>2561</th>\n",
       "      <td>726</td>\n",
       "      <td>chris3300</td>\n",
       "      <td>50.0</td>\n",
       "      <td>48.4375</td>\n",
       "      <td>1.5625</td>\n",
       "    </tr>\n",
       "    <tr>\n",
       "      <th>2562</th>\n",
       "      <td>726</td>\n",
       "      <td>chris3376</td>\n",
       "      <td>50.0</td>\n",
       "      <td>48.4375</td>\n",
       "      <td>1.5625</td>\n",
       "    </tr>\n",
       "    <tr>\n",
       "      <th>2563</th>\n",
       "      <td>726</td>\n",
       "      <td>craig5654</td>\n",
       "      <td>50.0</td>\n",
       "      <td>48.4375</td>\n",
       "      <td>1.5625</td>\n",
       "    </tr>\n",
       "    <tr>\n",
       "      <th>2564</th>\n",
       "      <td>726</td>\n",
       "      <td>fpierfed</td>\n",
       "      <td>50.0</td>\n",
       "      <td>48.4375</td>\n",
       "      <td>1.5625</td>\n",
       "    </tr>\n",
       "  </tbody>\n",
       "</table>\n",
       "</div>"
      ],
      "text/plain": [
       "      loan_id          lenders  loan_amount_each  funded_amount_each  \\\n",
       "2560      726  acusticthoughts              50.0             48.4375   \n",
       "2561      726        chris3300              50.0             48.4375   \n",
       "2562      726        chris3376              50.0             48.4375   \n",
       "2563      726        craig5654              50.0             48.4375   \n",
       "2564      726         fpierfed              50.0             48.4375   \n",
       "\n",
       "      difference  \n",
       "2560      1.5625  \n",
       "2561      1.5625  \n",
       "2562      1.5625  \n",
       "2563      1.5625  \n",
       "2564      1.5625  "
      ]
     },
     "execution_count": 88,
     "metadata": {},
     "output_type": "execute_result"
    }
   ],
   "source": [
    "tot_clean.head()"
   ]
  },
  {
   "cell_type": "code",
   "execution_count": 89,
   "metadata": {
    "ExecuteTime": {
     "end_time": "2020-01-26T18:22:51.574736Z",
     "start_time": "2020-01-26T18:22:46.869121Z"
    }
   },
   "outputs": [],
   "source": [
    "df_lenders= pd.read_csv('lenders.csv')\n",
    "df_lenders.dropna(subset=['country_code',],inplace=True)\n",
    "df_lenders.dropna(subset=['permanent_name'],inplace=True)\n",
    "df_lenders.rename(columns={'permanent_name':'lenders'}, inplace=True)\n",
    "df_lenders =  df_lenders[['lenders', 'country_code']]"
   ]
  },
  {
   "cell_type": "code",
   "execution_count": 91,
   "metadata": {
    "ExecuteTime": {
     "end_time": "2020-01-26T18:23:29.892557Z",
     "start_time": "2020-01-26T18:22:57.029087Z"
    }
   },
   "outputs": [
    {
     "data": {
      "text/html": [
       "<div>\n",
       "<style scoped>\n",
       "    .dataframe tbody tr th:only-of-type {\n",
       "        vertical-align: middle;\n",
       "    }\n",
       "\n",
       "    .dataframe tbody tr th {\n",
       "        vertical-align: top;\n",
       "    }\n",
       "\n",
       "    .dataframe thead th {\n",
       "        text-align: right;\n",
       "    }\n",
       "</style>\n",
       "<table border=\"1\" class=\"dataframe\">\n",
       "  <thead>\n",
       "    <tr style=\"text-align: right;\">\n",
       "      <th></th>\n",
       "      <th>loan_id</th>\n",
       "      <th>lenders</th>\n",
       "      <th>country_code</th>\n",
       "    </tr>\n",
       "  </thead>\n",
       "  <tbody>\n",
       "    <tr>\n",
       "      <th>0</th>\n",
       "      <td>483693</td>\n",
       "      <td>muc888</td>\n",
       "      <td>US</td>\n",
       "    </tr>\n",
       "    <tr>\n",
       "      <th>1</th>\n",
       "      <td>483738</td>\n",
       "      <td>muc888</td>\n",
       "      <td>US</td>\n",
       "    </tr>\n",
       "    <tr>\n",
       "      <th>2</th>\n",
       "      <td>485000</td>\n",
       "      <td>muc888</td>\n",
       "      <td>US</td>\n",
       "    </tr>\n",
       "    <tr>\n",
       "      <th>3</th>\n",
       "      <td>486087</td>\n",
       "      <td>muc888</td>\n",
       "      <td>US</td>\n",
       "    </tr>\n",
       "    <tr>\n",
       "      <th>4</th>\n",
       "      <td>534428</td>\n",
       "      <td>muc888</td>\n",
       "      <td>US</td>\n",
       "    </tr>\n",
       "  </tbody>\n",
       "</table>\n",
       "</div>"
      ],
      "text/plain": [
       "   loan_id lenders country_code\n",
       "0   483693  muc888           US\n",
       "1   483738  muc888           US\n",
       "2   485000  muc888           US\n",
       "3   486087  muc888           US\n",
       "4   534428  muc888           US"
      ]
     },
     "execution_count": 91,
     "metadata": {},
     "output_type": "execute_result"
    }
   ],
   "source": [
    "fmerge = df.merge(df_lenders, on='lenders')\n",
    "fmerge.dropna(inplace=True)\n",
    "fmerge.head()"
   ]
  },
  {
   "cell_type": "code",
   "execution_count": 92,
   "metadata": {
    "ExecuteTime": {
     "end_time": "2020-01-26T18:24:06.479044Z",
     "start_time": "2020-01-26T18:23:52.265171Z"
    }
   },
   "outputs": [],
   "source": [
    "mmerge = tot_clean.merge(fmerge,on=['loan_id','lenders'])"
   ]
  },
  {
   "cell_type": "code",
   "execution_count": 93,
   "metadata": {
    "ExecuteTime": {
     "end_time": "2020-01-26T18:24:07.628247Z",
     "start_time": "2020-01-26T18:24:07.615510Z"
    }
   },
   "outputs": [
    {
     "data": {
      "text/html": [
       "<div>\n",
       "<style scoped>\n",
       "    .dataframe tbody tr th:only-of-type {\n",
       "        vertical-align: middle;\n",
       "    }\n",
       "\n",
       "    .dataframe tbody tr th {\n",
       "        vertical-align: top;\n",
       "    }\n",
       "\n",
       "    .dataframe thead th {\n",
       "        text-align: right;\n",
       "    }\n",
       "</style>\n",
       "<table border=\"1\" class=\"dataframe\">\n",
       "  <thead>\n",
       "    <tr style=\"text-align: right;\">\n",
       "      <th></th>\n",
       "      <th>loan_id</th>\n",
       "      <th>lenders</th>\n",
       "      <th>loan_amount_each</th>\n",
       "      <th>funded_amount_each</th>\n",
       "      <th>difference</th>\n",
       "      <th>country_code</th>\n",
       "    </tr>\n",
       "  </thead>\n",
       "  <tbody>\n",
       "    <tr>\n",
       "      <th>0</th>\n",
       "      <td>726</td>\n",
       "      <td>acusticthoughts</td>\n",
       "      <td>50.0</td>\n",
       "      <td>48.4375</td>\n",
       "      <td>1.5625</td>\n",
       "      <td>US</td>\n",
       "    </tr>\n",
       "    <tr>\n",
       "      <th>1</th>\n",
       "      <td>726</td>\n",
       "      <td>chris3300</td>\n",
       "      <td>50.0</td>\n",
       "      <td>48.4375</td>\n",
       "      <td>1.5625</td>\n",
       "      <td>US</td>\n",
       "    </tr>\n",
       "    <tr>\n",
       "      <th>2</th>\n",
       "      <td>726</td>\n",
       "      <td>chris3376</td>\n",
       "      <td>50.0</td>\n",
       "      <td>48.4375</td>\n",
       "      <td>1.5625</td>\n",
       "      <td>US</td>\n",
       "    </tr>\n",
       "    <tr>\n",
       "      <th>3</th>\n",
       "      <td>726</td>\n",
       "      <td>craig5654</td>\n",
       "      <td>50.0</td>\n",
       "      <td>48.4375</td>\n",
       "      <td>1.5625</td>\n",
       "      <td>US</td>\n",
       "    </tr>\n",
       "    <tr>\n",
       "      <th>4</th>\n",
       "      <td>726</td>\n",
       "      <td>fpierfed</td>\n",
       "      <td>50.0</td>\n",
       "      <td>48.4375</td>\n",
       "      <td>1.5625</td>\n",
       "      <td>US</td>\n",
       "    </tr>\n",
       "  </tbody>\n",
       "</table>\n",
       "</div>"
      ],
      "text/plain": [
       "   loan_id          lenders  loan_amount_each  funded_amount_each  difference  \\\n",
       "0      726  acusticthoughts              50.0             48.4375      1.5625   \n",
       "1      726        chris3300              50.0             48.4375      1.5625   \n",
       "2      726        chris3376              50.0             48.4375      1.5625   \n",
       "3      726        craig5654              50.0             48.4375      1.5625   \n",
       "4      726         fpierfed              50.0             48.4375      1.5625   \n",
       "\n",
       "  country_code  \n",
       "0           US  \n",
       "1           US  \n",
       "2           US  \n",
       "3           US  \n",
       "4           US  "
      ]
     },
     "execution_count": 93,
     "metadata": {},
     "output_type": "execute_result"
    }
   ],
   "source": [
    "mmerge.head()"
   ]
  },
  {
   "cell_type": "code",
   "execution_count": 94,
   "metadata": {
    "ExecuteTime": {
     "end_time": "2020-01-26T18:24:09.803863Z",
     "start_time": "2020-01-26T18:24:09.677536Z"
    },
    "scrolled": true
   },
   "outputs": [
    {
     "data": {
      "text/html": [
       "<div>\n",
       "<style scoped>\n",
       "    .dataframe tbody tr th:only-of-type {\n",
       "        vertical-align: middle;\n",
       "    }\n",
       "\n",
       "    .dataframe tbody tr th {\n",
       "        vertical-align: top;\n",
       "    }\n",
       "\n",
       "    .dataframe thead th {\n",
       "        text-align: right;\n",
       "    }\n",
       "</style>\n",
       "<table border=\"1\" class=\"dataframe\">\n",
       "  <thead>\n",
       "    <tr style=\"text-align: right;\">\n",
       "      <th></th>\n",
       "      <th>country_code</th>\n",
       "      <th>difference</th>\n",
       "    </tr>\n",
       "  </thead>\n",
       "  <tbody>\n",
       "    <tr>\n",
       "      <th>0</th>\n",
       "      <td>AD</td>\n",
       "      <td>63.583333</td>\n",
       "    </tr>\n",
       "    <tr>\n",
       "      <th>1</th>\n",
       "      <td>AE</td>\n",
       "      <td>48736.111556</td>\n",
       "    </tr>\n",
       "    <tr>\n",
       "      <th>2</th>\n",
       "      <td>AF</td>\n",
       "      <td>3819.582746</td>\n",
       "    </tr>\n",
       "    <tr>\n",
       "      <th>3</th>\n",
       "      <td>AL</td>\n",
       "      <td>118.452412</td>\n",
       "    </tr>\n",
       "    <tr>\n",
       "      <th>4</th>\n",
       "      <td>AM</td>\n",
       "      <td>1627.617004</td>\n",
       "    </tr>\n",
       "  </tbody>\n",
       "</table>\n",
       "</div>"
      ],
      "text/plain": [
       "  country_code    difference\n",
       "0           AD     63.583333\n",
       "1           AE  48736.111556\n",
       "2           AF   3819.582746\n",
       "3           AL    118.452412\n",
       "4           AM   1627.617004"
      ]
     },
     "execution_count": 94,
     "metadata": {},
     "output_type": "execute_result"
    }
   ],
   "source": [
    "abibi = mmerge.groupby('country_code')['difference'].sum().reset_index()\n",
    "abibi.head()"
   ]
  },
  {
   "cell_type": "code",
   "execution_count": null,
   "metadata": {},
   "outputs": [],
   "source": []
  },
  {
   "cell_type": "code",
   "execution_count": null,
   "metadata": {},
   "outputs": [],
   "source": []
  },
  {
   "cell_type": "code",
   "execution_count": 156,
   "metadata": {
    "ExecuteTime": {
     "end_time": "2020-01-26T19:28:41.640985Z",
     "start_time": "2020-01-26T19:28:00.440230Z"
    }
   },
   "outputs": [],
   "source": [
    "df1 = pd.read_csv('C:/Users/giaco/Desktop/Dataset Esame CS/loans.csv')"
   ]
  },
  {
   "cell_type": "code",
   "execution_count": 157,
   "metadata": {
    "ExecuteTime": {
     "end_time": "2020-01-26T19:28:41.761598Z",
     "start_time": "2020-01-26T19:28:41.663751Z"
    }
   },
   "outputs": [],
   "source": [
    "dfb = df1[['country_code','loan_amount','funded_amount']]"
   ]
  },
  {
   "cell_type": "code",
   "execution_count": 158,
   "metadata": {
    "ExecuteTime": {
     "end_time": "2020-01-26T19:28:41.853170Z",
     "start_time": "2020-01-26T19:28:41.768104Z"
    }
   },
   "outputs": [
    {
     "name": "stderr",
     "output_type": "stream",
     "text": [
      "C:\\Users\\giaco\\Anaconda4\\lib\\site-packages\\ipykernel_launcher.py:1: SettingWithCopyWarning: \n",
      "A value is trying to be set on a copy of a slice from a DataFrame.\n",
      "Try using .loc[row_indexer,col_indexer] = value instead\n",
      "\n",
      "See the caveats in the documentation: http://pandas.pydata.org/pandas-docs/stable/user_guide/indexing.html#returning-a-view-versus-a-copy\n",
      "  \"\"\"Entry point for launching an IPython kernel.\n"
     ]
    }
   ],
   "source": [
    "dfb['diff'] = df1.loan_amount-df1.funded_amount"
   ]
  },
  {
   "cell_type": "code",
   "execution_count": 159,
   "metadata": {
    "ExecuteTime": {
     "end_time": "2020-01-26T19:28:42.123006Z",
     "start_time": "2020-01-26T19:28:41.856165Z"
    }
   },
   "outputs": [
    {
     "data": {
      "text/plain": [
       "country_code\n",
       "AF       3300.0\n",
       "AL     314875.0\n",
       "AM    2665800.0\n",
       "AZ     593275.0\n",
       "BA          0.0\n",
       "        ...    \n",
       "XK     220700.0\n",
       "YE     103975.0\n",
       "ZA          0.0\n",
       "ZM      65725.0\n",
       "ZW      33325.0\n",
       "Name: diff, Length: 95, dtype: float64"
      ]
     },
     "execution_count": 159,
     "metadata": {},
     "output_type": "execute_result"
    }
   ],
   "source": [
    "dfb.groupby('country_code')['diff'].sum()"
   ]
  },
  {
   "cell_type": "code",
   "execution_count": null,
   "metadata": {},
   "outputs": [],
   "source": []
  },
  {
   "cell_type": "code",
   "execution_count": null,
   "metadata": {},
   "outputs": [],
   "source": []
  },
  {
   "cell_type": "markdown",
   "metadata": {
    "ExecuteTime": {
     "end_time": "2020-01-26T12:56:21.131998Z",
     "start_time": "2020-01-26T12:56:21.127013Z"
    }
   },
   "source": [
    "# 10. Which country has the highest ratio between the difference computed at the previous point and the population?"
   ]
  },
  {
   "cell_type": "code",
   "execution_count": 101,
   "metadata": {
    "ExecuteTime": {
     "end_time": "2020-01-26T18:28:19.059194Z",
     "start_time": "2020-01-26T18:28:19.041233Z"
    },
    "scrolled": true
   },
   "outputs": [
    {
     "data": {
      "text/html": [
       "<div>\n",
       "<style scoped>\n",
       "    .dataframe tbody tr th:only-of-type {\n",
       "        vertical-align: middle;\n",
       "    }\n",
       "\n",
       "    .dataframe tbody tr th {\n",
       "        vertical-align: top;\n",
       "    }\n",
       "\n",
       "    .dataframe thead th {\n",
       "        text-align: right;\n",
       "    }\n",
       "</style>\n",
       "<table border=\"1\" class=\"dataframe\">\n",
       "  <thead>\n",
       "    <tr style=\"text-align: right;\">\n",
       "      <th></th>\n",
       "      <th>country_name</th>\n",
       "      <th>country_code</th>\n",
       "      <th>country_code3</th>\n",
       "      <th>continent</th>\n",
       "      <th>region</th>\n",
       "      <th>population</th>\n",
       "      <th>population_below_poverty_line</th>\n",
       "      <th>hdi</th>\n",
       "      <th>life_expectancy</th>\n",
       "      <th>expected_years_of_schooling</th>\n",
       "      <th>mean_years_of_schooling</th>\n",
       "      <th>gni</th>\n",
       "      <th>kiva_country_name</th>\n",
       "    </tr>\n",
       "  </thead>\n",
       "  <tbody>\n",
       "    <tr>\n",
       "      <th>0</th>\n",
       "      <td>India</td>\n",
       "      <td>IN</td>\n",
       "      <td>IND</td>\n",
       "      <td>Asia</td>\n",
       "      <td>Southern Asia</td>\n",
       "      <td>1339180127</td>\n",
       "      <td>21.9</td>\n",
       "      <td>0.623559</td>\n",
       "      <td>68.322</td>\n",
       "      <td>11.696590</td>\n",
       "      <td>6.298834</td>\n",
       "      <td>5663.474799</td>\n",
       "      <td>India</td>\n",
       "    </tr>\n",
       "    <tr>\n",
       "      <th>1</th>\n",
       "      <td>Nigeria</td>\n",
       "      <td>NG</td>\n",
       "      <td>NGA</td>\n",
       "      <td>Africa</td>\n",
       "      <td>Western Africa</td>\n",
       "      <td>190886311</td>\n",
       "      <td>70.0</td>\n",
       "      <td>0.527105</td>\n",
       "      <td>53.057</td>\n",
       "      <td>9.970482</td>\n",
       "      <td>6.000000</td>\n",
       "      <td>5442.901264</td>\n",
       "      <td>Nigeria</td>\n",
       "    </tr>\n",
       "    <tr>\n",
       "      <th>2</th>\n",
       "      <td>Mexico</td>\n",
       "      <td>MX</td>\n",
       "      <td>MEX</td>\n",
       "      <td>Americas</td>\n",
       "      <td>Central America</td>\n",
       "      <td>129163276</td>\n",
       "      <td>46.2</td>\n",
       "      <td>0.761683</td>\n",
       "      <td>76.972</td>\n",
       "      <td>13.299090</td>\n",
       "      <td>8.554985</td>\n",
       "      <td>16383.106680</td>\n",
       "      <td>Mexico</td>\n",
       "    </tr>\n",
       "    <tr>\n",
       "      <th>3</th>\n",
       "      <td>Pakistan</td>\n",
       "      <td>PK</td>\n",
       "      <td>PAK</td>\n",
       "      <td>Asia</td>\n",
       "      <td>Southern Asia</td>\n",
       "      <td>197015955</td>\n",
       "      <td>29.5</td>\n",
       "      <td>0.550354</td>\n",
       "      <td>66.365</td>\n",
       "      <td>8.106910</td>\n",
       "      <td>5.089460</td>\n",
       "      <td>5031.173074</td>\n",
       "      <td>Pakistan</td>\n",
       "    </tr>\n",
       "    <tr>\n",
       "      <th>4</th>\n",
       "      <td>Bangladesh</td>\n",
       "      <td>BD</td>\n",
       "      <td>BGD</td>\n",
       "      <td>Asia</td>\n",
       "      <td>Southern Asia</td>\n",
       "      <td>164669751</td>\n",
       "      <td>31.5</td>\n",
       "      <td>0.578824</td>\n",
       "      <td>71.985</td>\n",
       "      <td>10.178706</td>\n",
       "      <td>5.241577</td>\n",
       "      <td>3341.490722</td>\n",
       "      <td>Bangladesh</td>\n",
       "    </tr>\n",
       "  </tbody>\n",
       "</table>\n",
       "</div>"
      ],
      "text/plain": [
       "  country_name country_code country_code3 continent           region  \\\n",
       "0        India           IN           IND      Asia    Southern Asia   \n",
       "1      Nigeria           NG           NGA    Africa   Western Africa   \n",
       "2       Mexico           MX           MEX  Americas  Central America   \n",
       "3     Pakistan           PK           PAK      Asia    Southern Asia   \n",
       "4   Bangladesh           BD           BGD      Asia    Southern Asia   \n",
       "\n",
       "   population  population_below_poverty_line       hdi  life_expectancy  \\\n",
       "0  1339180127                           21.9  0.623559           68.322   \n",
       "1   190886311                           70.0  0.527105           53.057   \n",
       "2   129163276                           46.2  0.761683           76.972   \n",
       "3   197015955                           29.5  0.550354           66.365   \n",
       "4   164669751                           31.5  0.578824           71.985   \n",
       "\n",
       "   expected_years_of_schooling  mean_years_of_schooling           gni  \\\n",
       "0                    11.696590                 6.298834   5663.474799   \n",
       "1                     9.970482                 6.000000   5442.901264   \n",
       "2                    13.299090                 8.554985  16383.106680   \n",
       "3                     8.106910                 5.089460   5031.173074   \n",
       "4                    10.178706                 5.241577   3341.490722   \n",
       "\n",
       "  kiva_country_name  \n",
       "0             India  \n",
       "1           Nigeria  \n",
       "2            Mexico  \n",
       "3          Pakistan  \n",
       "4        Bangladesh  "
      ]
     },
     "execution_count": 101,
     "metadata": {},
     "output_type": "execute_result"
    }
   ],
   "source": [
    "df6 = pd.read_csv('C:/Users/giaco/Desktop/Dataset Esame CS/country_stats.csv')\n",
    "df6.head()"
   ]
  },
  {
   "cell_type": "code",
   "execution_count": 102,
   "metadata": {
    "ExecuteTime": {
     "end_time": "2020-01-26T18:28:20.736877Z",
     "start_time": "2020-01-26T18:28:20.731393Z"
    }
   },
   "outputs": [
    {
     "data": {
      "text/plain": [
       "191"
      ]
     },
     "execution_count": 102,
     "metadata": {},
     "output_type": "execute_result"
    }
   ],
   "source": [
    "abibi.country_code.nunique()"
   ]
  },
  {
   "cell_type": "code",
   "execution_count": 103,
   "metadata": {
    "ExecuteTime": {
     "end_time": "2020-01-26T18:28:25.345662Z",
     "start_time": "2020-01-26T18:28:25.340997Z"
    }
   },
   "outputs": [
    {
     "data": {
      "text/plain": [
       "173"
      ]
     },
     "execution_count": 103,
     "metadata": {},
     "output_type": "execute_result"
    }
   ],
   "source": [
    "df6.country_code.nunique()"
   ]
  },
  {
   "cell_type": "code",
   "execution_count": 104,
   "metadata": {
    "ExecuteTime": {
     "end_time": "2020-01-26T18:29:50.691098Z",
     "start_time": "2020-01-26T18:29:50.674109Z"
    },
    "scrolled": true
   },
   "outputs": [
    {
     "data": {
      "text/html": [
       "<div>\n",
       "<style scoped>\n",
       "    .dataframe tbody tr th:only-of-type {\n",
       "        vertical-align: middle;\n",
       "    }\n",
       "\n",
       "    .dataframe tbody tr th {\n",
       "        vertical-align: top;\n",
       "    }\n",
       "\n",
       "    .dataframe thead th {\n",
       "        text-align: right;\n",
       "    }\n",
       "</style>\n",
       "<table border=\"1\" class=\"dataframe\">\n",
       "  <thead>\n",
       "    <tr style=\"text-align: right;\">\n",
       "      <th></th>\n",
       "      <th>country_code</th>\n",
       "      <th>population</th>\n",
       "      <th>difference</th>\n",
       "    </tr>\n",
       "  </thead>\n",
       "  <tbody>\n",
       "    <tr>\n",
       "      <th>0</th>\n",
       "      <td>IN</td>\n",
       "      <td>1339180127</td>\n",
       "      <td>1.874844e+04</td>\n",
       "    </tr>\n",
       "    <tr>\n",
       "      <th>1</th>\n",
       "      <td>NG</td>\n",
       "      <td>190886311</td>\n",
       "      <td>7.002354e+02</td>\n",
       "    </tr>\n",
       "    <tr>\n",
       "      <th>2</th>\n",
       "      <td>MX</td>\n",
       "      <td>129163276</td>\n",
       "      <td>4.522973e+04</td>\n",
       "    </tr>\n",
       "    <tr>\n",
       "      <th>3</th>\n",
       "      <td>PK</td>\n",
       "      <td>197015955</td>\n",
       "      <td>1.081646e+03</td>\n",
       "    </tr>\n",
       "    <tr>\n",
       "      <th>4</th>\n",
       "      <td>BD</td>\n",
       "      <td>164669751</td>\n",
       "      <td>3.918846e+02</td>\n",
       "    </tr>\n",
       "    <tr>\n",
       "      <th>5</th>\n",
       "      <td>CD</td>\n",
       "      <td>81339988</td>\n",
       "      <td>2.219515e+01</td>\n",
       "    </tr>\n",
       "    <tr>\n",
       "      <th>6</th>\n",
       "      <td>US</td>\n",
       "      <td>324459463</td>\n",
       "      <td>2.165696e+07</td>\n",
       "    </tr>\n",
       "    <tr>\n",
       "      <th>7</th>\n",
       "      <td>CN</td>\n",
       "      <td>1409517397</td>\n",
       "      <td>1.759343e+04</td>\n",
       "    </tr>\n",
       "    <tr>\n",
       "      <th>8</th>\n",
       "      <td>ET</td>\n",
       "      <td>104957438</td>\n",
       "      <td>6.706940e+03</td>\n",
       "    </tr>\n",
       "    <tr>\n",
       "      <th>9</th>\n",
       "      <td>ID</td>\n",
       "      <td>263991379</td>\n",
       "      <td>9.024395e+03</td>\n",
       "    </tr>\n",
       "  </tbody>\n",
       "</table>\n",
       "</div>"
      ],
      "text/plain": [
       "  country_code  population    difference\n",
       "0           IN  1339180127  1.874844e+04\n",
       "1           NG   190886311  7.002354e+02\n",
       "2           MX   129163276  4.522973e+04\n",
       "3           PK   197015955  1.081646e+03\n",
       "4           BD   164669751  3.918846e+02\n",
       "5           CD    81339988  2.219515e+01\n",
       "6           US   324459463  2.165696e+07\n",
       "7           CN  1409517397  1.759343e+04\n",
       "8           ET   104957438  6.706940e+03\n",
       "9           ID   263991379  9.024395e+03"
      ]
     },
     "execution_count": 104,
     "metadata": {},
     "output_type": "execute_result"
    }
   ],
   "source": [
    "df7 = df6[['country_code','population']].merge(abibi,on='country_code')\n",
    "df7.head(10)"
   ]
  },
  {
   "cell_type": "code",
   "execution_count": 105,
   "metadata": {
    "ExecuteTime": {
     "end_time": "2020-01-26T18:30:02.816854Z",
     "start_time": "2020-01-26T18:30:02.810886Z"
    }
   },
   "outputs": [
    {
     "data": {
      "text/plain": [
       "151"
      ]
     },
     "execution_count": 105,
     "metadata": {},
     "output_type": "execute_result"
    }
   ],
   "source": [
    "df7.country_code.nunique()"
   ]
  },
  {
   "cell_type": "code",
   "execution_count": 108,
   "metadata": {
    "ExecuteTime": {
     "end_time": "2020-01-26T18:33:28.148127Z",
     "start_time": "2020-01-26T18:33:28.137438Z"
    },
    "scrolled": true
   },
   "outputs": [
    {
     "data": {
      "text/html": [
       "<div>\n",
       "<style scoped>\n",
       "    .dataframe tbody tr th:only-of-type {\n",
       "        vertical-align: middle;\n",
       "    }\n",
       "\n",
       "    .dataframe tbody tr th {\n",
       "        vertical-align: top;\n",
       "    }\n",
       "\n",
       "    .dataframe thead th {\n",
       "        text-align: right;\n",
       "    }\n",
       "</style>\n",
       "<table border=\"1\" class=\"dataframe\">\n",
       "  <thead>\n",
       "    <tr style=\"text-align: right;\">\n",
       "      <th></th>\n",
       "      <th>country_code</th>\n",
       "      <th>population</th>\n",
       "      <th>difference</th>\n",
       "      <th>ratio</th>\n",
       "    </tr>\n",
       "  </thead>\n",
       "  <tbody>\n",
       "    <tr>\n",
       "      <th>0</th>\n",
       "      <td>IN</td>\n",
       "      <td>1339180127</td>\n",
       "      <td>1.874844e+04</td>\n",
       "      <td>1.399994e-05</td>\n",
       "    </tr>\n",
       "    <tr>\n",
       "      <th>1</th>\n",
       "      <td>NG</td>\n",
       "      <td>190886311</td>\n",
       "      <td>7.002354e+02</td>\n",
       "      <td>3.668338e-06</td>\n",
       "    </tr>\n",
       "    <tr>\n",
       "      <th>2</th>\n",
       "      <td>MX</td>\n",
       "      <td>129163276</td>\n",
       "      <td>4.522973e+04</td>\n",
       "      <td>3.501748e-04</td>\n",
       "    </tr>\n",
       "    <tr>\n",
       "      <th>3</th>\n",
       "      <td>PK</td>\n",
       "      <td>197015955</td>\n",
       "      <td>1.081646e+03</td>\n",
       "      <td>5.490142e-06</td>\n",
       "    </tr>\n",
       "    <tr>\n",
       "      <th>4</th>\n",
       "      <td>BD</td>\n",
       "      <td>164669751</td>\n",
       "      <td>3.918846e+02</td>\n",
       "      <td>2.379821e-06</td>\n",
       "    </tr>\n",
       "    <tr>\n",
       "      <th>5</th>\n",
       "      <td>CD</td>\n",
       "      <td>81339988</td>\n",
       "      <td>2.219515e+01</td>\n",
       "      <td>2.728689e-07</td>\n",
       "    </tr>\n",
       "    <tr>\n",
       "      <th>6</th>\n",
       "      <td>US</td>\n",
       "      <td>324459463</td>\n",
       "      <td>2.165696e+07</td>\n",
       "      <td>6.674781e-02</td>\n",
       "    </tr>\n",
       "    <tr>\n",
       "      <th>7</th>\n",
       "      <td>CN</td>\n",
       "      <td>1409517397</td>\n",
       "      <td>1.759343e+04</td>\n",
       "      <td>1.248188e-05</td>\n",
       "    </tr>\n",
       "    <tr>\n",
       "      <th>8</th>\n",
       "      <td>ET</td>\n",
       "      <td>104957438</td>\n",
       "      <td>6.706940e+03</td>\n",
       "      <td>6.390152e-05</td>\n",
       "    </tr>\n",
       "    <tr>\n",
       "      <th>9</th>\n",
       "      <td>ID</td>\n",
       "      <td>263991379</td>\n",
       "      <td>9.024395e+03</td>\n",
       "      <td>3.418443e-05</td>\n",
       "    </tr>\n",
       "    <tr>\n",
       "      <th>10</th>\n",
       "      <td>EG</td>\n",
       "      <td>97553151</td>\n",
       "      <td>2.826231e+03</td>\n",
       "      <td>2.897119e-05</td>\n",
       "    </tr>\n",
       "    <tr>\n",
       "      <th>11</th>\n",
       "      <td>PH</td>\n",
       "      <td>104918090</td>\n",
       "      <td>2.457144e+04</td>\n",
       "      <td>2.341964e-04</td>\n",
       "    </tr>\n",
       "    <tr>\n",
       "      <th>12</th>\n",
       "      <td>KE</td>\n",
       "      <td>49699862</td>\n",
       "      <td>5.167488e+03</td>\n",
       "      <td>1.039739e-04</td>\n",
       "    </tr>\n",
       "    <tr>\n",
       "      <th>13</th>\n",
       "      <td>JP</td>\n",
       "      <td>127484450</td>\n",
       "      <td>2.306033e+05</td>\n",
       "      <td>1.808874e-03</td>\n",
       "    </tr>\n",
       "    <tr>\n",
       "      <th>14</th>\n",
       "      <td>RU</td>\n",
       "      <td>143989754</td>\n",
       "      <td>7.850201e+03</td>\n",
       "      <td>5.451916e-05</td>\n",
       "    </tr>\n",
       "    <tr>\n",
       "      <th>15</th>\n",
       "      <td>SD</td>\n",
       "      <td>40533330</td>\n",
       "      <td>7.880435e+01</td>\n",
       "      <td>1.944186e-06</td>\n",
       "    </tr>\n",
       "    <tr>\n",
       "      <th>16</th>\n",
       "      <td>MG</td>\n",
       "      <td>25570895</td>\n",
       "      <td>4.041667e+01</td>\n",
       "      <td>1.580573e-06</td>\n",
       "    </tr>\n",
       "    <tr>\n",
       "      <th>17</th>\n",
       "      <td>IT</td>\n",
       "      <td>59359900</td>\n",
       "      <td>1.797086e+05</td>\n",
       "      <td>3.027442e-03</td>\n",
       "    </tr>\n",
       "    <tr>\n",
       "      <th>18</th>\n",
       "      <td>TR</td>\n",
       "      <td>80745020</td>\n",
       "      <td>1.018012e+04</td>\n",
       "      <td>1.260774e-04</td>\n",
       "    </tr>\n",
       "    <tr>\n",
       "      <th>19</th>\n",
       "      <td>YE</td>\n",
       "      <td>28250420</td>\n",
       "      <td>4.781840e+01</td>\n",
       "      <td>1.692661e-06</td>\n",
       "    </tr>\n",
       "  </tbody>\n",
       "</table>\n",
       "</div>"
      ],
      "text/plain": [
       "   country_code  population    difference         ratio\n",
       "0            IN  1339180127  1.874844e+04  1.399994e-05\n",
       "1            NG   190886311  7.002354e+02  3.668338e-06\n",
       "2            MX   129163276  4.522973e+04  3.501748e-04\n",
       "3            PK   197015955  1.081646e+03  5.490142e-06\n",
       "4            BD   164669751  3.918846e+02  2.379821e-06\n",
       "5            CD    81339988  2.219515e+01  2.728689e-07\n",
       "6            US   324459463  2.165696e+07  6.674781e-02\n",
       "7            CN  1409517397  1.759343e+04  1.248188e-05\n",
       "8            ET   104957438  6.706940e+03  6.390152e-05\n",
       "9            ID   263991379  9.024395e+03  3.418443e-05\n",
       "10           EG    97553151  2.826231e+03  2.897119e-05\n",
       "11           PH   104918090  2.457144e+04  2.341964e-04\n",
       "12           KE    49699862  5.167488e+03  1.039739e-04\n",
       "13           JP   127484450  2.306033e+05  1.808874e-03\n",
       "14           RU   143989754  7.850201e+03  5.451916e-05\n",
       "15           SD    40533330  7.880435e+01  1.944186e-06\n",
       "16           MG    25570895  4.041667e+01  1.580573e-06\n",
       "17           IT    59359900  1.797086e+05  3.027442e-03\n",
       "18           TR    80745020  1.018012e+04  1.260774e-04\n",
       "19           YE    28250420  4.781840e+01  1.692661e-06"
      ]
     },
     "execution_count": 108,
     "metadata": {},
     "output_type": "execute_result"
    }
   ],
   "source": [
    "df7['ratio']= df7.difference/df7.population\n",
    "df7.head(20)"
   ]
  },
  {
   "cell_type": "code",
   "execution_count": 109,
   "metadata": {
    "ExecuteTime": {
     "end_time": "2020-01-26T18:33:59.730915Z",
     "start_time": "2020-01-26T18:33:59.719981Z"
    }
   },
   "outputs": [
    {
     "data": {
      "text/html": [
       "<div>\n",
       "<style scoped>\n",
       "    .dataframe tbody tr th:only-of-type {\n",
       "        vertical-align: middle;\n",
       "    }\n",
       "\n",
       "    .dataframe tbody tr th {\n",
       "        vertical-align: top;\n",
       "    }\n",
       "\n",
       "    .dataframe thead th {\n",
       "        text-align: right;\n",
       "    }\n",
       "</style>\n",
       "<table border=\"1\" class=\"dataframe\">\n",
       "  <thead>\n",
       "    <tr style=\"text-align: right;\">\n",
       "      <th></th>\n",
       "      <th>country_code</th>\n",
       "      <th>population</th>\n",
       "      <th>difference</th>\n",
       "      <th>ratio</th>\n",
       "    </tr>\n",
       "  </thead>\n",
       "  <tbody>\n",
       "    <tr>\n",
       "      <th>141</th>\n",
       "      <td>NO</td>\n",
       "      <td>5305383</td>\n",
       "      <td>932265.20019</td>\n",
       "      <td>0.175721</td>\n",
       "    </tr>\n",
       "  </tbody>\n",
       "</table>\n",
       "</div>"
      ],
      "text/plain": [
       "    country_code  population    difference     ratio\n",
       "141           NO     5305383  932265.20019  0.175721"
      ]
     },
     "execution_count": 109,
     "metadata": {},
     "output_type": "execute_result"
    }
   ],
   "source": [
    "df7[df7.ratio == df7.ratio.max()]"
   ]
  },
  {
   "cell_type": "markdown",
   "metadata": {},
   "source": [
    "## 11. Which country has the highest ratio between the difference computed at point 9 and the population that is not below the poverty line?"
   ]
  },
  {
   "cell_type": "code",
   "execution_count": 110,
   "metadata": {
    "ExecuteTime": {
     "end_time": "2020-01-26T18:35:11.532983Z",
     "start_time": "2020-01-26T18:35:11.524009Z"
    },
    "scrolled": false
   },
   "outputs": [
    {
     "data": {
      "text/html": [
       "<div>\n",
       "<style scoped>\n",
       "    .dataframe tbody tr th:only-of-type {\n",
       "        vertical-align: middle;\n",
       "    }\n",
       "\n",
       "    .dataframe tbody tr th {\n",
       "        vertical-align: top;\n",
       "    }\n",
       "\n",
       "    .dataframe thead th {\n",
       "        text-align: right;\n",
       "    }\n",
       "</style>\n",
       "<table border=\"1\" class=\"dataframe\">\n",
       "  <thead>\n",
       "    <tr style=\"text-align: right;\">\n",
       "      <th></th>\n",
       "      <th>country_code</th>\n",
       "      <th>population</th>\n",
       "      <th>population_below_poverty_line</th>\n",
       "    </tr>\n",
       "  </thead>\n",
       "  <tbody>\n",
       "    <tr>\n",
       "      <th>0</th>\n",
       "      <td>IN</td>\n",
       "      <td>1339180127</td>\n",
       "      <td>21.9</td>\n",
       "    </tr>\n",
       "    <tr>\n",
       "      <th>1</th>\n",
       "      <td>NG</td>\n",
       "      <td>190886311</td>\n",
       "      <td>70.0</td>\n",
       "    </tr>\n",
       "    <tr>\n",
       "      <th>2</th>\n",
       "      <td>MX</td>\n",
       "      <td>129163276</td>\n",
       "      <td>46.2</td>\n",
       "    </tr>\n",
       "    <tr>\n",
       "      <th>3</th>\n",
       "      <td>PK</td>\n",
       "      <td>197015955</td>\n",
       "      <td>29.5</td>\n",
       "    </tr>\n",
       "    <tr>\n",
       "      <th>4</th>\n",
       "      <td>BD</td>\n",
       "      <td>164669751</td>\n",
       "      <td>31.5</td>\n",
       "    </tr>\n",
       "  </tbody>\n",
       "</table>\n",
       "</div>"
      ],
      "text/plain": [
       "  country_code  population  population_below_poverty_line\n",
       "0           IN  1339180127                           21.9\n",
       "1           NG   190886311                           70.0\n",
       "2           MX   129163276                           46.2\n",
       "3           PK   197015955                           29.5\n",
       "4           BD   164669751                           31.5"
      ]
     },
     "execution_count": 110,
     "metadata": {},
     "output_type": "execute_result"
    }
   ],
   "source": [
    "df6[['country_code','population','population_below_poverty_line']].head()"
   ]
  },
  {
   "cell_type": "code",
   "execution_count": 111,
   "metadata": {
    "ExecuteTime": {
     "end_time": "2020-01-26T18:35:30.876768Z",
     "start_time": "2020-01-26T18:35:30.870157Z"
    }
   },
   "outputs": [],
   "source": [
    "df6['population_below_poverty_line'] = df6.population_below_poverty_line/100\n",
    "df6['population_not_below_poverty_line'] = 1 - df6.population_below_poverty_line"
   ]
  },
  {
   "cell_type": "code",
   "execution_count": 114,
   "metadata": {
    "ExecuteTime": {
     "end_time": "2020-01-26T18:36:18.686674Z",
     "start_time": "2020-01-26T18:36:18.677715Z"
    }
   },
   "outputs": [],
   "source": [
    "df8 = df6[['country_code','population','population_not_below_poverty_line']].merge(abibi[['country_code','difference']],on='country_code')"
   ]
  },
  {
   "cell_type": "code",
   "execution_count": 115,
   "metadata": {
    "ExecuteTime": {
     "end_time": "2020-01-26T18:36:20.072595Z",
     "start_time": "2020-01-26T18:36:20.064008Z"
    },
    "scrolled": true
   },
   "outputs": [
    {
     "data": {
      "text/html": [
       "<div>\n",
       "<style scoped>\n",
       "    .dataframe tbody tr th:only-of-type {\n",
       "        vertical-align: middle;\n",
       "    }\n",
       "\n",
       "    .dataframe tbody tr th {\n",
       "        vertical-align: top;\n",
       "    }\n",
       "\n",
       "    .dataframe thead th {\n",
       "        text-align: right;\n",
       "    }\n",
       "</style>\n",
       "<table border=\"1\" class=\"dataframe\">\n",
       "  <thead>\n",
       "    <tr style=\"text-align: right;\">\n",
       "      <th></th>\n",
       "      <th>country_code</th>\n",
       "      <th>population</th>\n",
       "      <th>population_not_below_poverty_line</th>\n",
       "      <th>difference</th>\n",
       "    </tr>\n",
       "  </thead>\n",
       "  <tbody>\n",
       "    <tr>\n",
       "      <th>0</th>\n",
       "      <td>IN</td>\n",
       "      <td>1339180127</td>\n",
       "      <td>0.781</td>\n",
       "      <td>18748.435665</td>\n",
       "    </tr>\n",
       "    <tr>\n",
       "      <th>1</th>\n",
       "      <td>NG</td>\n",
       "      <td>190886311</td>\n",
       "      <td>0.300</td>\n",
       "      <td>700.235426</td>\n",
       "    </tr>\n",
       "    <tr>\n",
       "      <th>2</th>\n",
       "      <td>MX</td>\n",
       "      <td>129163276</td>\n",
       "      <td>0.538</td>\n",
       "      <td>45229.725459</td>\n",
       "    </tr>\n",
       "    <tr>\n",
       "      <th>3</th>\n",
       "      <td>PK</td>\n",
       "      <td>197015955</td>\n",
       "      <td>0.705</td>\n",
       "      <td>1081.645655</td>\n",
       "    </tr>\n",
       "    <tr>\n",
       "      <th>4</th>\n",
       "      <td>BD</td>\n",
       "      <td>164669751</td>\n",
       "      <td>0.685</td>\n",
       "      <td>391.884560</td>\n",
       "    </tr>\n",
       "  </tbody>\n",
       "</table>\n",
       "</div>"
      ],
      "text/plain": [
       "  country_code  population  population_not_below_poverty_line    difference\n",
       "0           IN  1339180127                              0.781  18748.435665\n",
       "1           NG   190886311                              0.300    700.235426\n",
       "2           MX   129163276                              0.538  45229.725459\n",
       "3           PK   197015955                              0.705   1081.645655\n",
       "4           BD   164669751                              0.685    391.884560"
      ]
     },
     "execution_count": 115,
     "metadata": {},
     "output_type": "execute_result"
    }
   ],
   "source": [
    "df8.head()"
   ]
  },
  {
   "cell_type": "code",
   "execution_count": 116,
   "metadata": {
    "ExecuteTime": {
     "end_time": "2020-01-26T18:38:02.894963Z",
     "start_time": "2020-01-26T18:38:02.888952Z"
    }
   },
   "outputs": [],
   "source": [
    "df8['ratio'] = df8.difference/(df8.population*df8.population_not_below_poverty_line)"
   ]
  },
  {
   "cell_type": "code",
   "execution_count": 119,
   "metadata": {
    "ExecuteTime": {
     "end_time": "2020-01-26T18:39:41.606425Z",
     "start_time": "2020-01-26T18:39:41.597139Z"
    },
    "scrolled": true
   },
   "outputs": [
    {
     "data": {
      "text/html": [
       "<div>\n",
       "<style scoped>\n",
       "    .dataframe tbody tr th:only-of-type {\n",
       "        vertical-align: middle;\n",
       "    }\n",
       "\n",
       "    .dataframe tbody tr th {\n",
       "        vertical-align: top;\n",
       "    }\n",
       "\n",
       "    .dataframe thead th {\n",
       "        text-align: right;\n",
       "    }\n",
       "</style>\n",
       "<table border=\"1\" class=\"dataframe\">\n",
       "  <thead>\n",
       "    <tr style=\"text-align: right;\">\n",
       "      <th></th>\n",
       "      <th>country_code</th>\n",
       "      <th>population</th>\n",
       "      <th>population_not_below_poverty_line</th>\n",
       "      <th>difference</th>\n",
       "      <th>ratio</th>\n",
       "    </tr>\n",
       "  </thead>\n",
       "  <tbody>\n",
       "    <tr>\n",
       "      <th>6</th>\n",
       "      <td>US</td>\n",
       "      <td>324459463</td>\n",
       "      <td>0.849</td>\n",
       "      <td>2.165696e+07</td>\n",
       "      <td>0.078619</td>\n",
       "    </tr>\n",
       "  </tbody>\n",
       "</table>\n",
       "</div>"
      ],
      "text/plain": [
       "  country_code  population  population_not_below_poverty_line    difference  \\\n",
       "6           US   324459463                              0.849  2.165696e+07   \n",
       "\n",
       "      ratio  \n",
       "6  0.078619  "
      ]
     },
     "execution_count": 119,
     "metadata": {},
     "output_type": "execute_result"
    }
   ],
   "source": [
    "df8[df8.ratio == df8.ratio.max()]"
   ]
  },
  {
   "cell_type": "markdown",
   "metadata": {},
   "source": [
    "## 12. For each year, compute the total amount of loans. Each loan that has planned expiration time and disburse time in different years must have its amount distributed proportionally to the number of days in each year. For example, a loan with disburse time December 1st, 2016, planned expiration time January 30th 2018, and amount 5000USD has an amount of 5000USD * 31 / (31+365+30) = 363.85 for 2016, 5000USD * 365 / (31+365+30) = 4284.04 for 2017, and 5000USD * 30 / (31+365+30) = 352.11 for 2018."
   ]
  },
  {
   "cell_type": "code",
   "execution_count": 131,
   "metadata": {
    "ExecuteTime": {
     "end_time": "2020-01-26T18:44:34.290109Z",
     "start_time": "2020-01-26T18:44:23.950503Z"
    }
   },
   "outputs": [],
   "source": [
    "df1 = pd.read_csv('C:/Users/giaco/Desktop/Dataset Esame CS/loans.csv',nrows=500000)"
   ]
  },
  {
   "cell_type": "code",
   "execution_count": 132,
   "metadata": {
    "ExecuteTime": {
     "end_time": "2020-01-26T18:44:38.329703Z",
     "start_time": "2020-01-26T18:44:37.824649Z"
    }
   },
   "outputs": [],
   "source": [
    "# Vengono rimossi i NA per entrambe le variabili\n",
    "\n",
    "df1.dropna(subset=['planned_expiration_time'],inplace=True)\n",
    "df1.dropna(subset=['disburse_time'],inplace=True)"
   ]
  },
  {
   "cell_type": "code",
   "execution_count": 133,
   "metadata": {
    "ExecuteTime": {
     "end_time": "2020-01-26T18:44:39.790043Z",
     "start_time": "2020-01-26T18:44:38.852149Z"
    }
   },
   "outputs": [],
   "source": [
    "df1['planned_expiration_time'] = pd.to_datetime(df1['planned_expiration_time'])\n",
    "df1['disburse_time'] = pd.to_datetime(df1['disburse_time'])"
   ]
  },
  {
   "cell_type": "code",
   "execution_count": 134,
   "metadata": {
    "ExecuteTime": {
     "end_time": "2020-01-26T18:44:40.031035Z",
     "start_time": "2020-01-26T18:44:39.862532Z"
    }
   },
   "outputs": [],
   "source": [
    "df1['year_start']= df1['disburse_time'].dt.year\n",
    "df1['year_end']=df1['planned_expiration_time'].dt.year\n",
    "df1['days_first_year']= 365 - df1['disburse_time'].dt.dayofyear\n",
    "df1['days_last_year']=df1['planned_expiration_time'].dt.dayofyear\n",
    "df1['difference_years']=df1['year_end']-df1['year_start']\n",
    "df1['2011']=0 \n",
    "df1['2012']=0\n",
    "df1['2013']=0\n",
    "df1['2014']=0\n",
    "df1['2015']=0\n",
    "df1['2016']=0\n",
    "df1['2017']=0\n",
    "df1['2018']=0"
   ]
  },
  {
   "cell_type": "code",
   "execution_count": 136,
   "metadata": {
    "ExecuteTime": {
     "end_time": "2020-01-26T18:44:59.048000Z",
     "start_time": "2020-01-26T18:44:58.972194Z"
    }
   },
   "outputs": [],
   "source": [
    "atribute = ['loan_amount', '2011', '2012', '2013', '2014','2015', '2016', \n",
    "            '2017', '2018', 'difference_years', 'days_first_year', 'days_last_year', 'year_start', 'year_end']\n",
    "df1 = df1[atribute][(df1.difference_years != -1)]"
   ]
  },
  {
   "cell_type": "code",
   "execution_count": 137,
   "metadata": {
    "ExecuteTime": {
     "end_time": "2020-01-26T18:45:00.047226Z",
     "start_time": "2020-01-26T18:45:00.035213Z"
    }
   },
   "outputs": [
    {
     "data": {
      "text/html": [
       "<div>\n",
       "<style scoped>\n",
       "    .dataframe tbody tr th:only-of-type {\n",
       "        vertical-align: middle;\n",
       "    }\n",
       "\n",
       "    .dataframe tbody tr th {\n",
       "        vertical-align: top;\n",
       "    }\n",
       "\n",
       "    .dataframe thead th {\n",
       "        text-align: right;\n",
       "    }\n",
       "</style>\n",
       "<table border=\"1\" class=\"dataframe\">\n",
       "  <thead>\n",
       "    <tr style=\"text-align: right;\">\n",
       "      <th></th>\n",
       "      <th>loan_amount</th>\n",
       "      <th>2011</th>\n",
       "      <th>2012</th>\n",
       "      <th>2013</th>\n",
       "      <th>2014</th>\n",
       "      <th>2015</th>\n",
       "      <th>2016</th>\n",
       "      <th>2017</th>\n",
       "      <th>2018</th>\n",
       "      <th>difference_years</th>\n",
       "      <th>days_first_year</th>\n",
       "      <th>days_last_year</th>\n",
       "      <th>year_start</th>\n",
       "      <th>year_end</th>\n",
       "    </tr>\n",
       "  </thead>\n",
       "  <tbody>\n",
       "    <tr>\n",
       "      <th>0</th>\n",
       "      <td>125.0</td>\n",
       "      <td>0</td>\n",
       "      <td>0</td>\n",
       "      <td>0</td>\n",
       "      <td>0</td>\n",
       "      <td>0</td>\n",
       "      <td>0</td>\n",
       "      <td>0</td>\n",
       "      <td>0</td>\n",
       "      <td>1</td>\n",
       "      <td>9</td>\n",
       "      <td>45</td>\n",
       "      <td>2013</td>\n",
       "      <td>2014</td>\n",
       "    </tr>\n",
       "    <tr>\n",
       "      <th>1</th>\n",
       "      <td>400.0</td>\n",
       "      <td>0</td>\n",
       "      <td>0</td>\n",
       "      <td>0</td>\n",
       "      <td>0</td>\n",
       "      <td>0</td>\n",
       "      <td>0</td>\n",
       "      <td>0</td>\n",
       "      <td>0</td>\n",
       "      <td>1</td>\n",
       "      <td>11</td>\n",
       "      <td>85</td>\n",
       "      <td>2013</td>\n",
       "      <td>2014</td>\n",
       "    </tr>\n",
       "    <tr>\n",
       "      <th>2</th>\n",
       "      <td>400.0</td>\n",
       "      <td>0</td>\n",
       "      <td>0</td>\n",
       "      <td>0</td>\n",
       "      <td>0</td>\n",
       "      <td>0</td>\n",
       "      <td>0</td>\n",
       "      <td>0</td>\n",
       "      <td>0</td>\n",
       "      <td>0</td>\n",
       "      <td>356</td>\n",
       "      <td>46</td>\n",
       "      <td>2014</td>\n",
       "      <td>2014</td>\n",
       "    </tr>\n",
       "    <tr>\n",
       "      <th>3</th>\n",
       "      <td>625.0</td>\n",
       "      <td>0</td>\n",
       "      <td>0</td>\n",
       "      <td>0</td>\n",
       "      <td>0</td>\n",
       "      <td>0</td>\n",
       "      <td>0</td>\n",
       "      <td>0</td>\n",
       "      <td>0</td>\n",
       "      <td>0</td>\n",
       "      <td>348</td>\n",
       "      <td>52</td>\n",
       "      <td>2014</td>\n",
       "      <td>2014</td>\n",
       "    </tr>\n",
       "    <tr>\n",
       "      <th>4</th>\n",
       "      <td>425.0</td>\n",
       "      <td>0</td>\n",
       "      <td>0</td>\n",
       "      <td>0</td>\n",
       "      <td>0</td>\n",
       "      <td>0</td>\n",
       "      <td>0</td>\n",
       "      <td>0</td>\n",
       "      <td>0</td>\n",
       "      <td>1</td>\n",
       "      <td>14</td>\n",
       "      <td>44</td>\n",
       "      <td>2013</td>\n",
       "      <td>2014</td>\n",
       "    </tr>\n",
       "  </tbody>\n",
       "</table>\n",
       "</div>"
      ],
      "text/plain": [
       "   loan_amount  2011  2012  2013  2014  2015  2016  2017  2018  \\\n",
       "0        125.0     0     0     0     0     0     0     0     0   \n",
       "1        400.0     0     0     0     0     0     0     0     0   \n",
       "2        400.0     0     0     0     0     0     0     0     0   \n",
       "3        625.0     0     0     0     0     0     0     0     0   \n",
       "4        425.0     0     0     0     0     0     0     0     0   \n",
       "\n",
       "   difference_years  days_first_year  days_last_year  year_start  year_end  \n",
       "0                 1                9              45        2013      2014  \n",
       "1                 1               11              85        2013      2014  \n",
       "2                 0              356              46        2014      2014  \n",
       "3                 0              348              52        2014      2014  \n",
       "4                 1               14              44        2013      2014  "
      ]
     },
     "execution_count": 137,
     "metadata": {},
     "output_type": "execute_result"
    }
   ],
   "source": [
    "df1.head()"
   ]
  },
  {
   "cell_type": "code",
   "execution_count": 140,
   "metadata": {
    "ExecuteTime": {
     "end_time": "2020-01-26T18:45:27.414962Z",
     "start_time": "2020-01-26T18:45:27.404963Z"
    }
   },
   "outputs": [],
   "source": [
    "def loan(x):\n",
    "    if x['difference_years'] == 0:\n",
    "        x[str(int(x['year_start']))]= x['loan_amount']\n",
    "    elif x['difference_years']== 1:\n",
    "        x[str(int(x['year_start']))]= (x['days_first_year']*x['loan_amount'])/((x['days_first_year'])+ x['days_last_year']+ ((x['difference_years']-1)*365))\n",
    "        x[str(int(x['year_end']))]= x['loan_amount'] - x[str(int(x['year_start']))]\n",
    "    elif x['difference_years'] > 1:\n",
    "        x[str(int(x['year_start']))]= x['days_first_year']*x['loan_amount'] / (x['days_first_year'] + x['days_last_year'] + ((x['difference_years']-1)*365))\n",
    "        x[str(int(x['year_end']))]=(x['days_last_year']*x['loan_amount'])/((x['days_first_year'])+ x['days_last_year']+ ((x['difference_years']-1)*365))\n",
    "        for y in range(1,int(x['difference_years'])):\n",
    "            x[str(int(x['year_start']+y))] = (365*x['loan_amount'])/((x['days_first_year'])+ x['days_last_year']+ ((x['difference_years']-1)*365))\n",
    "    return x"
   ]
  },
  {
   "cell_type": "code",
   "execution_count": 141,
   "metadata": {
    "ExecuteTime": {
     "end_time": "2020-01-26T18:46:14.579734Z",
     "start_time": "2020-01-26T18:45:27.937938Z"
    }
   },
   "outputs": [],
   "source": [
    "df1 = df1.apply(loan,axis=1)"
   ]
  },
  {
   "cell_type": "code",
   "execution_count": 142,
   "metadata": {
    "ExecuteTime": {
     "end_time": "2020-01-26T18:46:18.061639Z",
     "start_time": "2020-01-26T18:46:18.039515Z"
    }
   },
   "outputs": [
    {
     "data": {
      "text/html": [
       "<div>\n",
       "<style scoped>\n",
       "    .dataframe tbody tr th:only-of-type {\n",
       "        vertical-align: middle;\n",
       "    }\n",
       "\n",
       "    .dataframe tbody tr th {\n",
       "        vertical-align: top;\n",
       "    }\n",
       "\n",
       "    .dataframe thead th {\n",
       "        text-align: right;\n",
       "    }\n",
       "</style>\n",
       "<table border=\"1\" class=\"dataframe\">\n",
       "  <thead>\n",
       "    <tr style=\"text-align: right;\">\n",
       "      <th></th>\n",
       "      <th>loan_amount</th>\n",
       "      <th>2011</th>\n",
       "      <th>2012</th>\n",
       "      <th>2013</th>\n",
       "      <th>2014</th>\n",
       "      <th>2015</th>\n",
       "      <th>2016</th>\n",
       "      <th>2017</th>\n",
       "      <th>2018</th>\n",
       "      <th>difference_years</th>\n",
       "      <th>days_first_year</th>\n",
       "      <th>days_last_year</th>\n",
       "      <th>year_start</th>\n",
       "      <th>year_end</th>\n",
       "    </tr>\n",
       "  </thead>\n",
       "  <tbody>\n",
       "    <tr>\n",
       "      <th>0</th>\n",
       "      <td>125.0</td>\n",
       "      <td>0.0</td>\n",
       "      <td>0.0</td>\n",
       "      <td>20.833333</td>\n",
       "      <td>104.166667</td>\n",
       "      <td>0.0</td>\n",
       "      <td>0.0</td>\n",
       "      <td>0.0</td>\n",
       "      <td>0.0</td>\n",
       "      <td>1.0</td>\n",
       "      <td>9.0</td>\n",
       "      <td>45.0</td>\n",
       "      <td>2013.0</td>\n",
       "      <td>2014.0</td>\n",
       "    </tr>\n",
       "    <tr>\n",
       "      <th>1</th>\n",
       "      <td>400.0</td>\n",
       "      <td>0.0</td>\n",
       "      <td>0.0</td>\n",
       "      <td>45.833333</td>\n",
       "      <td>354.166667</td>\n",
       "      <td>0.0</td>\n",
       "      <td>0.0</td>\n",
       "      <td>0.0</td>\n",
       "      <td>0.0</td>\n",
       "      <td>1.0</td>\n",
       "      <td>11.0</td>\n",
       "      <td>85.0</td>\n",
       "      <td>2013.0</td>\n",
       "      <td>2014.0</td>\n",
       "    </tr>\n",
       "    <tr>\n",
       "      <th>2</th>\n",
       "      <td>400.0</td>\n",
       "      <td>0.0</td>\n",
       "      <td>0.0</td>\n",
       "      <td>0.000000</td>\n",
       "      <td>400.000000</td>\n",
       "      <td>0.0</td>\n",
       "      <td>0.0</td>\n",
       "      <td>0.0</td>\n",
       "      <td>0.0</td>\n",
       "      <td>0.0</td>\n",
       "      <td>356.0</td>\n",
       "      <td>46.0</td>\n",
       "      <td>2014.0</td>\n",
       "      <td>2014.0</td>\n",
       "    </tr>\n",
       "    <tr>\n",
       "      <th>3</th>\n",
       "      <td>625.0</td>\n",
       "      <td>0.0</td>\n",
       "      <td>0.0</td>\n",
       "      <td>0.000000</td>\n",
       "      <td>625.000000</td>\n",
       "      <td>0.0</td>\n",
       "      <td>0.0</td>\n",
       "      <td>0.0</td>\n",
       "      <td>0.0</td>\n",
       "      <td>0.0</td>\n",
       "      <td>348.0</td>\n",
       "      <td>52.0</td>\n",
       "      <td>2014.0</td>\n",
       "      <td>2014.0</td>\n",
       "    </tr>\n",
       "    <tr>\n",
       "      <th>4</th>\n",
       "      <td>425.0</td>\n",
       "      <td>0.0</td>\n",
       "      <td>0.0</td>\n",
       "      <td>102.586207</td>\n",
       "      <td>322.413793</td>\n",
       "      <td>0.0</td>\n",
       "      <td>0.0</td>\n",
       "      <td>0.0</td>\n",
       "      <td>0.0</td>\n",
       "      <td>1.0</td>\n",
       "      <td>14.0</td>\n",
       "      <td>44.0</td>\n",
       "      <td>2013.0</td>\n",
       "      <td>2014.0</td>\n",
       "    </tr>\n",
       "  </tbody>\n",
       "</table>\n",
       "</div>"
      ],
      "text/plain": [
       "   loan_amount  2011  2012        2013        2014  2015  2016  2017  2018  \\\n",
       "0        125.0   0.0   0.0   20.833333  104.166667   0.0   0.0   0.0   0.0   \n",
       "1        400.0   0.0   0.0   45.833333  354.166667   0.0   0.0   0.0   0.0   \n",
       "2        400.0   0.0   0.0    0.000000  400.000000   0.0   0.0   0.0   0.0   \n",
       "3        625.0   0.0   0.0    0.000000  625.000000   0.0   0.0   0.0   0.0   \n",
       "4        425.0   0.0   0.0  102.586207  322.413793   0.0   0.0   0.0   0.0   \n",
       "\n",
       "   difference_years  days_first_year  days_last_year  year_start  year_end  \n",
       "0               1.0              9.0            45.0      2013.0    2014.0  \n",
       "1               1.0             11.0            85.0      2013.0    2014.0  \n",
       "2               0.0            356.0            46.0      2014.0    2014.0  \n",
       "3               0.0            348.0            52.0      2014.0    2014.0  \n",
       "4               1.0             14.0            44.0      2013.0    2014.0  "
      ]
     },
     "execution_count": 142,
     "metadata": {},
     "output_type": "execute_result"
    }
   ],
   "source": [
    "df1.head()"
   ]
  },
  {
   "cell_type": "code",
   "execution_count": 143,
   "metadata": {
    "ExecuteTime": {
     "end_time": "2020-01-26T18:46:31.351225Z",
     "start_time": "2020-01-26T18:46:31.347235Z"
    }
   },
   "outputs": [],
   "source": [
    "just_years = '2011 2012 2013 2014 2015 2016 2017 2018'.split()"
   ]
  },
  {
   "cell_type": "code",
   "execution_count": 144,
   "metadata": {
    "ExecuteTime": {
     "end_time": "2020-01-26T18:46:32.028841Z",
     "start_time": "2020-01-26T18:46:31.967974Z"
    }
   },
   "outputs": [
    {
     "data": {
      "text/html": [
       "<div>\n",
       "<style scoped>\n",
       "    .dataframe tbody tr th:only-of-type {\n",
       "        vertical-align: middle;\n",
       "    }\n",
       "\n",
       "    .dataframe tbody tr th {\n",
       "        vertical-align: top;\n",
       "    }\n",
       "\n",
       "    .dataframe thead th {\n",
       "        text-align: right;\n",
       "    }\n",
       "</style>\n",
       "<table border=\"1\" class=\"dataframe\">\n",
       "  <thead>\n",
       "    <tr style=\"text-align: right;\">\n",
       "      <th></th>\n",
       "      <th>Year</th>\n",
       "      <th>Total</th>\n",
       "    </tr>\n",
       "  </thead>\n",
       "  <tbody>\n",
       "    <tr>\n",
       "      <th>0</th>\n",
       "      <td>2011</td>\n",
       "      <td>220841</td>\n",
       "    </tr>\n",
       "    <tr>\n",
       "      <th>1</th>\n",
       "      <td>2012</td>\n",
       "      <td>40905081</td>\n",
       "    </tr>\n",
       "    <tr>\n",
       "      <th>2</th>\n",
       "      <td>2013</td>\n",
       "      <td>45871790</td>\n",
       "    </tr>\n",
       "    <tr>\n",
       "      <th>3</th>\n",
       "      <td>2014</td>\n",
       "      <td>55407433</td>\n",
       "    </tr>\n",
       "    <tr>\n",
       "      <th>4</th>\n",
       "      <td>2015</td>\n",
       "      <td>54853023</td>\n",
       "    </tr>\n",
       "    <tr>\n",
       "      <th>5</th>\n",
       "      <td>2016</td>\n",
       "      <td>53768993</td>\n",
       "    </tr>\n",
       "    <tr>\n",
       "      <th>6</th>\n",
       "      <td>2017</td>\n",
       "      <td>61009747</td>\n",
       "    </tr>\n",
       "    <tr>\n",
       "      <th>7</th>\n",
       "      <td>2018</td>\n",
       "      <td>2081788</td>\n",
       "    </tr>\n",
       "  </tbody>\n",
       "</table>\n",
       "</div>"
      ],
      "text/plain": [
       "   Year     Total\n",
       "0  2011    220841\n",
       "1  2012  40905081\n",
       "2  2013  45871790\n",
       "3  2014  55407433\n",
       "4  2015  54853023\n",
       "5  2016  53768993\n",
       "6  2017  61009747\n",
       "7  2018   2081788"
      ]
     },
     "execution_count": 144,
     "metadata": {},
     "output_type": "execute_result"
    }
   ],
   "source": [
    "df1[just_years].apply(lambda x: int(x.sum())).reset_index().rename(columns={'index':'Year',0:'Total'})"
   ]
  },
  {
   "cell_type": "code",
   "execution_count": null,
   "metadata": {},
   "outputs": [],
   "source": []
  }
 ],
 "metadata": {
  "kernelspec": {
   "display_name": "Python 3",
   "language": "python",
   "name": "python3"
  },
  "language_info": {
   "codemirror_mode": {
    "name": "ipython",
    "version": 3
   },
   "file_extension": ".py",
   "mimetype": "text/x-python",
   "name": "python",
   "nbconvert_exporter": "python",
   "pygments_lexer": "ipython3",
   "version": "3.7.4"
  },
  "notify_time": "10"
 },
 "nbformat": 4,
 "nbformat_minor": 2
}
