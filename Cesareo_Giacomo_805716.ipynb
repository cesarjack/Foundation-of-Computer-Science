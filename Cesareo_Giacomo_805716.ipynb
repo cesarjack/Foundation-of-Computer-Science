{
 "cells": [
  {
   "cell_type": "code",
   "execution_count": 1,
   "metadata": {
    "ExecuteTime": {
     "end_time": "2020-01-29T19:37:36.459611Z",
     "start_time": "2020-01-29T19:37:36.448637Z"
    }
   },
   "outputs": [],
   "source": [
    "import pandas as pd\n",
    "import numpy as np"
   ]
  },
  {
   "cell_type": "markdown",
   "metadata": {},
   "source": [
    "## 1. Normalize the loan_lenders table. In the normalized table, each row must have one loan_id and one lender."
   ]
  },
  {
   "cell_type": "code",
   "execution_count": 2,
   "metadata": {
    "ExecuteTime": {
     "end_time": "2020-01-29T19:37:40.843170Z",
     "start_time": "2020-01-29T19:37:36.462601Z"
    }
   },
   "outputs": [
    {
     "data": {
      "text/html": [
       "<div>\n",
       "<style scoped>\n",
       "    .dataframe tbody tr th:only-of-type {\n",
       "        vertical-align: middle;\n",
       "    }\n",
       "\n",
       "    .dataframe tbody tr th {\n",
       "        vertical-align: top;\n",
       "    }\n",
       "\n",
       "    .dataframe thead th {\n",
       "        text-align: right;\n",
       "    }\n",
       "</style>\n",
       "<table border=\"1\" class=\"dataframe\">\n",
       "  <thead>\n",
       "    <tr style=\"text-align: right;\">\n",
       "      <th></th>\n",
       "      <th>loan_id</th>\n",
       "      <th>lenders</th>\n",
       "    </tr>\n",
       "  </thead>\n",
       "  <tbody>\n",
       "    <tr>\n",
       "      <th>0</th>\n",
       "      <td>483693</td>\n",
       "      <td>muc888, sam4326, camaran3922, lachheb1865, reb...</td>\n",
       "    </tr>\n",
       "    <tr>\n",
       "      <th>1</th>\n",
       "      <td>483738</td>\n",
       "      <td>muc888, nora3555, williammanashi, barbara5610,...</td>\n",
       "    </tr>\n",
       "    <tr>\n",
       "      <th>2</th>\n",
       "      <td>485000</td>\n",
       "      <td>muc888, terrystl, richardandsusan8352, sherri4...</td>\n",
       "    </tr>\n",
       "    <tr>\n",
       "      <th>3</th>\n",
       "      <td>486087</td>\n",
       "      <td>muc888, james5068, rudi5955, daniel9859, don92...</td>\n",
       "    </tr>\n",
       "    <tr>\n",
       "      <th>4</th>\n",
       "      <td>534428</td>\n",
       "      <td>muc888, niki3008, teresa9174, mike4896, david7...</td>\n",
       "    </tr>\n",
       "  </tbody>\n",
       "</table>\n",
       "</div>"
      ],
      "text/plain": [
       "   loan_id                                            lenders\n",
       "0   483693  muc888, sam4326, camaran3922, lachheb1865, reb...\n",
       "1   483738  muc888, nora3555, williammanashi, barbara5610,...\n",
       "2   485000  muc888, terrystl, richardandsusan8352, sherri4...\n",
       "3   486087  muc888, james5068, rudi5955, daniel9859, don92...\n",
       "4   534428  muc888, niki3008, teresa9174, mike4896, david7..."
      ]
     },
     "execution_count": 2,
     "metadata": {},
     "output_type": "execute_result"
    }
   ],
   "source": [
    "df = pd.read_csv('loans_lenders.csv')\n",
    "df.head()"
   ]
  },
  {
   "cell_type": "code",
   "execution_count": 3,
   "metadata": {
    "ExecuteTime": {
     "end_time": "2020-01-29T19:37:49.876829Z",
     "start_time": "2020-01-29T19:37:40.845201Z"
    },
    "scrolled": true
   },
   "outputs": [
    {
     "data": {
      "text/html": [
       "<div>\n",
       "<style scoped>\n",
       "    .dataframe tbody tr th:only-of-type {\n",
       "        vertical-align: middle;\n",
       "    }\n",
       "\n",
       "    .dataframe tbody tr th {\n",
       "        vertical-align: top;\n",
       "    }\n",
       "\n",
       "    .dataframe thead th {\n",
       "        text-align: right;\n",
       "    }\n",
       "</style>\n",
       "<table border=\"1\" class=\"dataframe\">\n",
       "  <thead>\n",
       "    <tr style=\"text-align: right;\">\n",
       "      <th></th>\n",
       "      <th>loan_id</th>\n",
       "      <th>lenders</th>\n",
       "    </tr>\n",
       "  </thead>\n",
       "  <tbody>\n",
       "    <tr>\n",
       "      <th>0</th>\n",
       "      <td>483693</td>\n",
       "      <td>[muc888, sam4326, camaran3922, lachheb1865, re...</td>\n",
       "    </tr>\n",
       "    <tr>\n",
       "      <th>1</th>\n",
       "      <td>483738</td>\n",
       "      <td>[muc888, nora3555, williammanashi, barbara5610...</td>\n",
       "    </tr>\n",
       "    <tr>\n",
       "      <th>2</th>\n",
       "      <td>485000</td>\n",
       "      <td>[muc888, terrystl, richardandsusan8352, sherri...</td>\n",
       "    </tr>\n",
       "    <tr>\n",
       "      <th>3</th>\n",
       "      <td>486087</td>\n",
       "      <td>[muc888, james5068, rudi5955, daniel9859, don9...</td>\n",
       "    </tr>\n",
       "    <tr>\n",
       "      <th>4</th>\n",
       "      <td>534428</td>\n",
       "      <td>[muc888, niki3008, teresa9174, mike4896, david...</td>\n",
       "    </tr>\n",
       "  </tbody>\n",
       "</table>\n",
       "</div>"
      ],
      "text/plain": [
       "   loan_id                                            lenders\n",
       "0   483693  [muc888, sam4326, camaran3922, lachheb1865, re...\n",
       "1   483738  [muc888, nora3555, williammanashi, barbara5610...\n",
       "2   485000  [muc888, terrystl, richardandsusan8352, sherri...\n",
       "3   486087  [muc888, james5068, rudi5955, daniel9859, don9...\n",
       "4   534428  [muc888, niki3008, teresa9174, mike4896, david..."
      ]
     },
     "execution_count": 3,
     "metadata": {},
     "output_type": "execute_result"
    }
   ],
   "source": [
    "# Tramite la funzione lambda ogni row viene convertita da stringa a  lista.\n",
    "\n",
    "df['lenders'] = df['lenders'].apply(lambda x:x.replace(',','').split())\n",
    "df.head()"
   ]
  },
  {
   "cell_type": "code",
   "execution_count": 4,
   "metadata": {
    "ExecuteTime": {
     "end_time": "2020-01-29T19:37:50.555077Z",
     "start_time": "2020-01-29T19:37:49.881816Z"
    }
   },
   "outputs": [],
   "source": [
    "# La variabile test indica il numero totale di lenders, anche ripetuti, contenuti nelle liste del dataset.\n",
    "# Questa variabile verrà utilizzata successivamente per valutare se la funzione explode abbia funzionato \n",
    "# correttamente.\n",
    "\n",
    "test = df['lenders'].apply(lambda x: len(x)).sum()"
   ]
  },
  {
   "cell_type": "code",
   "execution_count": 5,
   "metadata": {
    "ExecuteTime": {
     "end_time": "2020-01-29T19:38:00.058681Z",
     "start_time": "2020-01-29T19:37:50.556012Z"
    },
    "scrolled": true
   },
   "outputs": [
    {
     "data": {
      "text/html": [
       "<div>\n",
       "<style scoped>\n",
       "    .dataframe tbody tr th:only-of-type {\n",
       "        vertical-align: middle;\n",
       "    }\n",
       "\n",
       "    .dataframe tbody tr th {\n",
       "        vertical-align: top;\n",
       "    }\n",
       "\n",
       "    .dataframe thead th {\n",
       "        text-align: right;\n",
       "    }\n",
       "</style>\n",
       "<table border=\"1\" class=\"dataframe\">\n",
       "  <thead>\n",
       "    <tr style=\"text-align: right;\">\n",
       "      <th></th>\n",
       "      <th>loan_id</th>\n",
       "      <th>lenders</th>\n",
       "    </tr>\n",
       "  </thead>\n",
       "  <tbody>\n",
       "    <tr>\n",
       "      <th>0</th>\n",
       "      <td>483693</td>\n",
       "      <td>muc888</td>\n",
       "    </tr>\n",
       "    <tr>\n",
       "      <th>1</th>\n",
       "      <td>483693</td>\n",
       "      <td>sam4326</td>\n",
       "    </tr>\n",
       "    <tr>\n",
       "      <th>2</th>\n",
       "      <td>483693</td>\n",
       "      <td>camaran3922</td>\n",
       "    </tr>\n",
       "    <tr>\n",
       "      <th>3</th>\n",
       "      <td>483693</td>\n",
       "      <td>lachheb1865</td>\n",
       "    </tr>\n",
       "    <tr>\n",
       "      <th>4</th>\n",
       "      <td>483693</td>\n",
       "      <td>rebecca3499</td>\n",
       "    </tr>\n",
       "    <tr>\n",
       "      <th>5</th>\n",
       "      <td>483693</td>\n",
       "      <td>karlheinz4543</td>\n",
       "    </tr>\n",
       "    <tr>\n",
       "      <th>6</th>\n",
       "      <td>483693</td>\n",
       "      <td>jerrydb</td>\n",
       "    </tr>\n",
       "    <tr>\n",
       "      <th>7</th>\n",
       "      <td>483693</td>\n",
       "      <td>paula8951</td>\n",
       "    </tr>\n",
       "    <tr>\n",
       "      <th>8</th>\n",
       "      <td>483693</td>\n",
       "      <td>gmct</td>\n",
       "    </tr>\n",
       "    <tr>\n",
       "      <th>9</th>\n",
       "      <td>483693</td>\n",
       "      <td>amra9383</td>\n",
       "    </tr>\n",
       "  </tbody>\n",
       "</table>\n",
       "</div>"
      ],
      "text/plain": [
       "   loan_id        lenders\n",
       "0   483693         muc888\n",
       "1   483693        sam4326\n",
       "2   483693    camaran3922\n",
       "3   483693    lachheb1865\n",
       "4   483693    rebecca3499\n",
       "5   483693  karlheinz4543\n",
       "6   483693        jerrydb\n",
       "7   483693      paula8951\n",
       "8   483693           gmct\n",
       "9   483693       amra9383"
      ]
     },
     "execution_count": 5,
     "metadata": {},
     "output_type": "execute_result"
    }
   ],
   "source": [
    "# Explode ci permette di espandere ogni elemento in ogni lista mantenendo come indice 'loan_id' \n",
    "# per ogni membro della lista.\n",
    "\n",
    "df = df.explode('lenders').reset_index(drop=True)\n",
    "df.head(10)"
   ]
  },
  {
   "cell_type": "code",
   "execution_count": 6,
   "metadata": {
    "ExecuteTime": {
     "end_time": "2020-01-29T19:38:00.090595Z",
     "start_time": "2020-01-29T19:38:00.065661Z"
    }
   },
   "outputs": [
    {
     "name": "stdout",
     "output_type": "stream",
     "text": [
      "True\n",
      "28293931\n"
     ]
    }
   ],
   "source": [
    "# Risultando True l'uguaglianza dimostra come la funzione abbia funzionato alla perfezione.\n",
    "\n",
    "print(test == len(df))\n",
    "print(len(df))"
   ]
  },
  {
   "cell_type": "markdown",
   "metadata": {},
   "source": [
    "## 2. For each loan, add a column duration corresponding to the number of days between the disburse time and the planned expiration time. If any of those two dates is missing, also the duration must be missing."
   ]
  },
  {
   "cell_type": "code",
   "execution_count": 7,
   "metadata": {
    "ExecuteTime": {
     "end_time": "2020-01-29T19:38:32.421178Z",
     "start_time": "2020-01-29T19:38:00.096579Z"
    },
    "scrolled": true
   },
   "outputs": [
    {
     "name": "stdout",
     "output_type": "stream",
     "text": [
      "Shape: (1419607, 31)\n",
      "\n",
      "Columns: Index(['loan_id', 'loan_name', 'original_language', 'description',\n",
      "       'description_translated', 'funded_amount', 'loan_amount', 'status',\n",
      "       'activity_name', 'sector_name', 'loan_use', 'country_code',\n",
      "       'country_name', 'town_name', 'currency_policy',\n",
      "       'currency_exchange_coverage_rate', 'currency', 'partner_id',\n",
      "       'posted_time', 'planned_expiration_time', 'disburse_time',\n",
      "       'raised_time', 'lender_term', 'num_lenders_total',\n",
      "       'num_journal_entries', 'num_bulk_entries', 'tags', 'borrower_genders',\n",
      "       'borrower_pictured', 'repayment_interval', 'distribution_model'],\n",
      "      dtype='object')\n"
     ]
    }
   ],
   "source": [
    "# Potrebbe essere utile per dopo visualizzare la dimensione del dataframe e le sue colonne. \n",
    "\n",
    "df1 = pd.read_csv('loans.csv')\n",
    "print('Shape:', df1.shape)\n",
    "print('')\n",
    "print('Columns:', df1.columns)"
   ]
  },
  {
   "cell_type": "code",
   "execution_count": 8,
   "metadata": {
    "ExecuteTime": {
     "end_time": "2020-01-29T19:38:32.576756Z",
     "start_time": "2020-01-29T19:38:32.433143Z"
    }
   },
   "outputs": [],
   "source": [
    "# La variabile null_sum indica la somma di valori Na tra le due variabili che verranno utilizzate\n",
    "# in seguito.\n",
    "\n",
    "null_sum = df1['disburse_time'].isnull().sum() + df1['planned_expiration_time'].isnull().sum()"
   ]
  },
  {
   "cell_type": "code",
   "execution_count": 9,
   "metadata": {
    "ExecuteTime": {
     "end_time": "2020-01-29T19:38:32.710390Z",
     "start_time": "2020-01-29T19:38:32.579748Z"
    }
   },
   "outputs": [],
   "source": [
    "# Inters indica invece l'intersezione dei Na tra le due variabili, ovvero i Na sia per l'una che per \n",
    "# l'altra variabile.\n",
    "\n",
    "inters = df1['disburse_time'][(df1['disburse_time'].isnull()==True)&(df1['planned_expiration_time'].isnull()==True)]"
   ]
  },
  {
   "cell_type": "code",
   "execution_count": 10,
   "metadata": {
    "ExecuteTime": {
     "end_time": "2020-01-29T19:38:35.400552Z",
     "start_time": "2020-01-29T19:38:32.711390Z"
    }
   },
   "outputs": [],
   "source": [
    "# Conversione delle variabili nel formato pandas datetime.\n",
    "\n",
    "df1['planned_expiration_time'] = pd.to_datetime(df1['planned_expiration_time'])\n",
    "df1['disburse_time'] = pd.to_datetime(df1['disburse_time'])"
   ]
  },
  {
   "cell_type": "code",
   "execution_count": 11,
   "metadata": {
    "ExecuteTime": {
     "end_time": "2020-01-29T19:38:35.524133Z",
     "start_time": "2020-01-29T19:38:35.402493Z"
    }
   },
   "outputs": [],
   "source": [
    "df1['duration'] = (df1['planned_expiration_time'] - df1['disburse_time']).dt.days"
   ]
  },
  {
   "cell_type": "code",
   "execution_count": 12,
   "metadata": {
    "ExecuteTime": {
     "end_time": "2020-01-29T19:38:35.537923Z",
     "start_time": "2020-01-29T19:38:35.524854Z"
    }
   },
   "outputs": [
    {
     "data": {
      "text/plain": [
       "0    53.0\n",
       "1    96.0\n",
       "2    37.0\n",
       "3    34.0\n",
       "4    57.0\n",
       "Name: duration, dtype: float64"
      ]
     },
     "execution_count": 12,
     "metadata": {},
     "output_type": "execute_result"
    }
   ],
   "source": [
    "# La colonna appena creata permette di visualizzare la differenza in giorni tra le due variabili. \n",
    "\n",
    "df1['duration'].head()"
   ]
  },
  {
   "cell_type": "code",
   "execution_count": 13,
   "metadata": {
    "ExecuteTime": {
     "end_time": "2020-01-29T19:38:35.558244Z",
     "start_time": "2020-01-29T19:38:35.539918Z"
    }
   },
   "outputs": [
    {
     "data": {
      "text/plain": [
       "True"
      ]
     },
     "execution_count": 13,
     "metadata": {},
     "output_type": "execute_result"
    }
   ],
   "source": [
    "# Come previsto gli Na sono rimasti invariati. \n",
    "\n",
    "(null_sum - len(inters)) == df1['duration'].isnull().sum()"
   ]
  },
  {
   "cell_type": "markdown",
   "metadata": {},
   "source": [
    "## 3.Find the lenders that have funded at least twice."
   ]
  },
  {
   "cell_type": "code",
   "execution_count": 14,
   "metadata": {
    "ExecuteTime": {
     "end_time": "2020-01-29T19:38:55.067741Z",
     "start_time": "2020-01-29T19:38:35.559204Z"
    }
   },
   "outputs": [
    {
     "data": {
      "text/html": [
       "<div>\n",
       "<style scoped>\n",
       "    .dataframe tbody tr th:only-of-type {\n",
       "        vertical-align: middle;\n",
       "    }\n",
       "\n",
       "    .dataframe tbody tr th {\n",
       "        vertical-align: top;\n",
       "    }\n",
       "\n",
       "    .dataframe thead th {\n",
       "        text-align: right;\n",
       "    }\n",
       "</style>\n",
       "<table border=\"1\" class=\"dataframe\">\n",
       "  <thead>\n",
       "    <tr style=\"text-align: right;\">\n",
       "      <th></th>\n",
       "      <th>lenders</th>\n",
       "      <th>Count</th>\n",
       "    </tr>\n",
       "  </thead>\n",
       "  <tbody>\n",
       "    <tr>\n",
       "      <th>0</th>\n",
       "      <td>000</td>\n",
       "      <td>40</td>\n",
       "    </tr>\n",
       "    <tr>\n",
       "      <th>1</th>\n",
       "      <td>00000</td>\n",
       "      <td>39</td>\n",
       "    </tr>\n",
       "    <tr>\n",
       "      <th>2</th>\n",
       "      <td>0002</td>\n",
       "      <td>70</td>\n",
       "    </tr>\n",
       "    <tr>\n",
       "      <th>3</th>\n",
       "      <td>0101craign0101</td>\n",
       "      <td>71</td>\n",
       "    </tr>\n",
       "    <tr>\n",
       "      <th>4</th>\n",
       "      <td>0132575</td>\n",
       "      <td>4</td>\n",
       "    </tr>\n",
       "  </tbody>\n",
       "</table>\n",
       "</div>"
      ],
      "text/plain": [
       "          lenders  Count\n",
       "0             000     40\n",
       "1           00000     39\n",
       "2            0002     70\n",
       "3  0101craign0101     71\n",
       "4         0132575      4"
      ]
     },
     "execution_count": 14,
     "metadata": {},
     "output_type": "execute_result"
    }
   ],
   "source": [
    "# Con il groupby è possibile raggruppare per lenders in modo da vedere quante volte compare in ogni \n",
    "# prestito all'interno del primo dataframe. Successivamente si scelgono solamente coloro che sono presenti \n",
    "# almeno in due prestiti differenti. \n",
    "\n",
    "group = df.groupby('lenders').size()\n",
    "group = group[group >= 2].reset_index(name='Count')\n",
    "group.head()"
   ]
  },
  {
   "cell_type": "code",
   "execution_count": 15,
   "metadata": {
    "ExecuteTime": {
     "end_time": "2020-01-29T19:38:55.099618Z",
     "start_time": "2020-01-29T19:38:55.073688Z"
    },
    "scrolled": true
   },
   "outputs": [
    {
     "data": {
      "text/plain": [
       "0                    000\n",
       "1                  00000\n",
       "2                   0002\n",
       "3         0101craign0101\n",
       "4                0132575\n",
       "               ...      \n",
       "901806           zzinnia\n",
       "901807        zzivnk7094\n",
       "901808          zzmcfate\n",
       "901809        zzrvmf8538\n",
       "901810            zzzsai\n",
       "Name: lenders, Length: 901811, dtype: object"
      ]
     },
     "execution_count": 15,
     "metadata": {},
     "output_type": "execute_result"
    }
   ],
   "source": [
    "group['lenders']"
   ]
  },
  {
   "cell_type": "code",
   "execution_count": 16,
   "metadata": {
    "ExecuteTime": {
     "end_time": "2020-01-29T19:39:00.483979Z",
     "start_time": "2020-01-29T19:38:55.100634Z"
    }
   },
   "outputs": [
    {
     "name": "stdout",
     "output_type": "stream",
     "text": [
      "I lenders presenti in più di un prestito sono 901811, rappresentanti il 65.0% dei lenders totali.\n"
     ]
    }
   ],
   "source": [
    "print('I lenders presenti in più di un prestito sono {}, rappresentanti il {}% dei lenders totali.'\n",
    "      .format(len(group), round(len(group)/df.lenders.nunique(), 2)*100))"
   ]
  },
  {
   "cell_type": "markdown",
   "metadata": {},
   "source": [
    "## 4. For each country, compute how many loans have involved that country as borrowers."
   ]
  },
  {
   "cell_type": "code",
   "execution_count": 17,
   "metadata": {
    "ExecuteTime": {
     "end_time": "2020-01-29T19:39:00.711444Z",
     "start_time": "2020-01-29T19:39:00.484937Z"
    }
   },
   "outputs": [
    {
     "data": {
      "text/html": [
       "<div>\n",
       "<style scoped>\n",
       "    .dataframe tbody tr th:only-of-type {\n",
       "        vertical-align: middle;\n",
       "    }\n",
       "\n",
       "    .dataframe tbody tr th {\n",
       "        vertical-align: top;\n",
       "    }\n",
       "\n",
       "    .dataframe thead th {\n",
       "        text-align: right;\n",
       "    }\n",
       "</style>\n",
       "<table border=\"1\" class=\"dataframe\">\n",
       "  <thead>\n",
       "    <tr style=\"text-align: right;\">\n",
       "      <th></th>\n",
       "      <th>country_name</th>\n",
       "      <th>loans_count</th>\n",
       "    </tr>\n",
       "  </thead>\n",
       "  <tbody>\n",
       "    <tr>\n",
       "      <th>0</th>\n",
       "      <td>Afghanistan</td>\n",
       "      <td>2337</td>\n",
       "    </tr>\n",
       "    <tr>\n",
       "      <th>1</th>\n",
       "      <td>Albania</td>\n",
       "      <td>3075</td>\n",
       "    </tr>\n",
       "    <tr>\n",
       "      <th>2</th>\n",
       "      <td>Armenia</td>\n",
       "      <td>13952</td>\n",
       "    </tr>\n",
       "    <tr>\n",
       "      <th>3</th>\n",
       "      <td>Azerbaijan</td>\n",
       "      <td>10172</td>\n",
       "    </tr>\n",
       "    <tr>\n",
       "      <th>4</th>\n",
       "      <td>Belize</td>\n",
       "      <td>218</td>\n",
       "    </tr>\n",
       "  </tbody>\n",
       "</table>\n",
       "</div>"
      ],
      "text/plain": [
       "  country_name  loans_count\n",
       "0  Afghanistan         2337\n",
       "1      Albania         3075\n",
       "2      Armenia        13952\n",
       "3   Azerbaijan        10172\n",
       "4       Belize          218"
      ]
     },
     "execution_count": 17,
     "metadata": {},
     "output_type": "execute_result"
    }
   ],
   "source": [
    "# Numero di prestiti effettuati per ogni stato.\n",
    "\n",
    "loan_country = df1.groupby('country_name')['loan_id'].size().reset_index(name = 'loans_count')\n",
    "loan_country.head()"
   ]
  },
  {
   "cell_type": "markdown",
   "metadata": {},
   "source": [
    "## 5. For each country, compute the overall amount of money borrowed."
   ]
  },
  {
   "cell_type": "code",
   "execution_count": 18,
   "metadata": {
    "ExecuteTime": {
     "end_time": "2020-01-29T19:39:00.835124Z",
     "start_time": "2020-01-29T19:39:00.714402Z"
    }
   },
   "outputs": [
    {
     "data": {
      "text/html": [
       "<div>\n",
       "<style scoped>\n",
       "    .dataframe tbody tr th:only-of-type {\n",
       "        vertical-align: middle;\n",
       "    }\n",
       "\n",
       "    .dataframe tbody tr th {\n",
       "        vertical-align: top;\n",
       "    }\n",
       "\n",
       "    .dataframe thead th {\n",
       "        text-align: right;\n",
       "    }\n",
       "</style>\n",
       "<table border=\"1\" class=\"dataframe\">\n",
       "  <thead>\n",
       "    <tr style=\"text-align: right;\">\n",
       "      <th></th>\n",
       "      <th>country_name</th>\n",
       "      <th>total_borrowed_amount</th>\n",
       "    </tr>\n",
       "  </thead>\n",
       "  <tbody>\n",
       "    <tr>\n",
       "      <th>0</th>\n",
       "      <td>Afghanistan</td>\n",
       "      <td>1967950.0</td>\n",
       "    </tr>\n",
       "    <tr>\n",
       "      <th>1</th>\n",
       "      <td>Albania</td>\n",
       "      <td>4307350.0</td>\n",
       "    </tr>\n",
       "    <tr>\n",
       "      <th>2</th>\n",
       "      <td>Armenia</td>\n",
       "      <td>22950475.0</td>\n",
       "    </tr>\n",
       "    <tr>\n",
       "      <th>3</th>\n",
       "      <td>Azerbaijan</td>\n",
       "      <td>14784625.0</td>\n",
       "    </tr>\n",
       "    <tr>\n",
       "      <th>4</th>\n",
       "      <td>Belize</td>\n",
       "      <td>150175.0</td>\n",
       "    </tr>\n",
       "  </tbody>\n",
       "</table>\n",
       "</div>"
      ],
      "text/plain": [
       "  country_name  total_borrowed_amount\n",
       "0  Afghanistan              1967950.0\n",
       "1      Albania              4307350.0\n",
       "2      Armenia             22950475.0\n",
       "3   Azerbaijan             14784625.0\n",
       "4       Belize               150175.0"
      ]
     },
     "execution_count": 18,
     "metadata": {},
     "output_type": "execute_result"
    }
   ],
   "source": [
    "# Totale finanziato per ogni stato\n",
    "\n",
    "total_country = df1.groupby('country_name')['loan_amount'].sum().reset_index(name = 'total_borrowed_amount')\n",
    "total_country.head()"
   ]
  },
  {
   "cell_type": "markdown",
   "metadata": {},
   "source": [
    "## 6. Like the previous point, but expressed as a percentage of the overall amount lent."
   ]
  },
  {
   "cell_type": "code",
   "execution_count": 19,
   "metadata": {
    "ExecuteTime": {
     "end_time": "2020-01-29T19:39:01.137746Z",
     "start_time": "2020-01-29T19:39:00.836086Z"
    }
   },
   "outputs": [
    {
     "data": {
      "text/html": [
       "<div>\n",
       "<style scoped>\n",
       "    .dataframe tbody tr th:only-of-type {\n",
       "        vertical-align: middle;\n",
       "    }\n",
       "\n",
       "    .dataframe tbody tr th {\n",
       "        vertical-align: top;\n",
       "    }\n",
       "\n",
       "    .dataframe thead th {\n",
       "        text-align: right;\n",
       "    }\n",
       "</style>\n",
       "<table border=\"1\" class=\"dataframe\">\n",
       "  <thead>\n",
       "    <tr style=\"text-align: right;\">\n",
       "      <th></th>\n",
       "      <th>country_name</th>\n",
       "      <th>%_over_total</th>\n",
       "    </tr>\n",
       "  </thead>\n",
       "  <tbody>\n",
       "    <tr>\n",
       "      <th>0</th>\n",
       "      <td>Afghanistan</td>\n",
       "      <td>0.174126</td>\n",
       "    </tr>\n",
       "    <tr>\n",
       "      <th>1</th>\n",
       "      <td>Albania</td>\n",
       "      <td>0.381119</td>\n",
       "    </tr>\n",
       "    <tr>\n",
       "      <th>2</th>\n",
       "      <td>Armenia</td>\n",
       "      <td>2.030683</td>\n",
       "    </tr>\n",
       "    <tr>\n",
       "      <th>3</th>\n",
       "      <td>Azerbaijan</td>\n",
       "      <td>1.308160</td>\n",
       "    </tr>\n",
       "    <tr>\n",
       "      <th>4</th>\n",
       "      <td>Belize</td>\n",
       "      <td>0.013288</td>\n",
       "    </tr>\n",
       "  </tbody>\n",
       "</table>\n",
       "</div>"
      ],
      "text/plain": [
       "  country_name  %_over_total\n",
       "0  Afghanistan      0.174126\n",
       "1      Albania      0.381119\n",
       "2      Armenia      2.030683\n",
       "3   Azerbaijan      1.308160\n",
       "4       Belize      0.013288"
      ]
     },
     "execution_count": 19,
     "metadata": {},
     "output_type": "execute_result"
    }
   ],
   "source": [
    "# Come il punto precedente ma dividendo ogni country con il totale di 'loan_amount'\n",
    "\n",
    "perc_country = df1.groupby('country_name')['loan_amount'].sum() / df1['funded_amount'].sum()*100\n",
    "perc_country = perc_country.reset_index(name = '%_over_total')\n",
    "perc_country.head()"
   ]
  },
  {
   "cell_type": "markdown",
   "metadata": {},
   "source": [
    "## 7. Like the three previous points, but split for each year (with respect to disburse time)."
   ]
  },
  {
   "cell_type": "code",
   "execution_count": 20,
   "metadata": {
    "ExecuteTime": {
     "end_time": "2020-01-29T19:39:01.312016Z",
     "start_time": "2020-01-29T19:39:01.139740Z"
    }
   },
   "outputs": [],
   "source": [
    "# Viene creata una nuova variabile indentificante l'anno\n",
    "\n",
    "df1['years'] = df1['disburse_time'].dt.year"
   ]
  },
  {
   "cell_type": "code",
   "execution_count": 21,
   "metadata": {
    "ExecuteTime": {
     "end_time": "2020-01-29T19:39:01.321956Z",
     "start_time": "2020-01-29T19:39:01.313986Z"
    }
   },
   "outputs": [
    {
     "name": "stdout",
     "output_type": "stream",
     "text": [
      "Years Na: 2813\n"
     ]
    }
   ],
   "source": [
    "print('Years Na:', df1.years.isnull().sum())"
   ]
  },
  {
   "cell_type": "code",
   "execution_count": 22,
   "metadata": {
    "ExecuteTime": {
     "end_time": "2020-01-29T19:39:01.702451Z",
     "start_time": "2020-01-29T19:39:01.322954Z"
    }
   },
   "outputs": [
    {
     "data": {
      "text/html": [
       "<div>\n",
       "<style scoped>\n",
       "    .dataframe tbody tr th:only-of-type {\n",
       "        vertical-align: middle;\n",
       "    }\n",
       "\n",
       "    .dataframe tbody tr th {\n",
       "        vertical-align: top;\n",
       "    }\n",
       "\n",
       "    .dataframe thead th {\n",
       "        text-align: right;\n",
       "    }\n",
       "</style>\n",
       "<table border=\"1\" class=\"dataframe\">\n",
       "  <thead>\n",
       "    <tr style=\"text-align: right;\">\n",
       "      <th></th>\n",
       "      <th>country_name</th>\n",
       "      <th>years</th>\n",
       "      <th>count</th>\n",
       "    </tr>\n",
       "  </thead>\n",
       "  <tbody>\n",
       "    <tr>\n",
       "      <th>0</th>\n",
       "      <td>Afghanistan</td>\n",
       "      <td>2007.0</td>\n",
       "      <td>408</td>\n",
       "    </tr>\n",
       "    <tr>\n",
       "      <th>1</th>\n",
       "      <td>Afghanistan</td>\n",
       "      <td>2008.0</td>\n",
       "      <td>370</td>\n",
       "    </tr>\n",
       "    <tr>\n",
       "      <th>2</th>\n",
       "      <td>Afghanistan</td>\n",
       "      <td>2009.0</td>\n",
       "      <td>678</td>\n",
       "    </tr>\n",
       "    <tr>\n",
       "      <th>3</th>\n",
       "      <td>Afghanistan</td>\n",
       "      <td>2010.0</td>\n",
       "      <td>632</td>\n",
       "    </tr>\n",
       "    <tr>\n",
       "      <th>4</th>\n",
       "      <td>Afghanistan</td>\n",
       "      <td>2011.0</td>\n",
       "      <td>247</td>\n",
       "    </tr>\n",
       "    <tr>\n",
       "      <th>...</th>\n",
       "      <td>...</td>\n",
       "      <td>...</td>\n",
       "      <td>...</td>\n",
       "    </tr>\n",
       "    <tr>\n",
       "      <th>743</th>\n",
       "      <td>Zimbabwe</td>\n",
       "      <td>2013.0</td>\n",
       "      <td>426</td>\n",
       "    </tr>\n",
       "    <tr>\n",
       "      <th>744</th>\n",
       "      <td>Zimbabwe</td>\n",
       "      <td>2014.0</td>\n",
       "      <td>2078</td>\n",
       "    </tr>\n",
       "    <tr>\n",
       "      <th>745</th>\n",
       "      <td>Zimbabwe</td>\n",
       "      <td>2015.0</td>\n",
       "      <td>600</td>\n",
       "    </tr>\n",
       "    <tr>\n",
       "      <th>746</th>\n",
       "      <td>Zimbabwe</td>\n",
       "      <td>2016.0</td>\n",
       "      <td>808</td>\n",
       "    </tr>\n",
       "    <tr>\n",
       "      <th>747</th>\n",
       "      <td>Zimbabwe</td>\n",
       "      <td>2017.0</td>\n",
       "      <td>1079</td>\n",
       "    </tr>\n",
       "  </tbody>\n",
       "</table>\n",
       "<p>748 rows × 3 columns</p>\n",
       "</div>"
      ],
      "text/plain": [
       "    country_name   years  count\n",
       "0    Afghanistan  2007.0    408\n",
       "1    Afghanistan  2008.0    370\n",
       "2    Afghanistan  2009.0    678\n",
       "3    Afghanistan  2010.0    632\n",
       "4    Afghanistan  2011.0    247\n",
       "..           ...     ...    ...\n",
       "743     Zimbabwe  2013.0    426\n",
       "744     Zimbabwe  2014.0   2078\n",
       "745     Zimbabwe  2015.0    600\n",
       "746     Zimbabwe  2016.0    808\n",
       "747     Zimbabwe  2017.0   1079\n",
       "\n",
       "[748 rows x 3 columns]"
      ]
     },
     "execution_count": 22,
     "metadata": {},
     "output_type": "execute_result"
    }
   ],
   "source": [
    "# Conteggio dei prestiti in base allo stato e all'anno.\n",
    "\n",
    "df1.groupby(['country_name','years'])['loan_id'].size().reset_index(name='count')"
   ]
  },
  {
   "cell_type": "code",
   "execution_count": 23,
   "metadata": {
    "ExecuteTime": {
     "end_time": "2020-01-29T19:39:01.960760Z",
     "start_time": "2020-01-29T19:39:01.712426Z"
    }
   },
   "outputs": [
    {
     "data": {
      "text/html": [
       "<div>\n",
       "<style scoped>\n",
       "    .dataframe tbody tr th:only-of-type {\n",
       "        vertical-align: middle;\n",
       "    }\n",
       "\n",
       "    .dataframe tbody tr th {\n",
       "        vertical-align: top;\n",
       "    }\n",
       "\n",
       "    .dataframe thead th {\n",
       "        text-align: right;\n",
       "    }\n",
       "</style>\n",
       "<table border=\"1\" class=\"dataframe\">\n",
       "  <thead>\n",
       "    <tr style=\"text-align: right;\">\n",
       "      <th></th>\n",
       "      <th>country_name</th>\n",
       "      <th>years</th>\n",
       "      <th>total_loan_amount</th>\n",
       "    </tr>\n",
       "  </thead>\n",
       "  <tbody>\n",
       "    <tr>\n",
       "      <th>0</th>\n",
       "      <td>Afghanistan</td>\n",
       "      <td>2007.0</td>\n",
       "      <td>194975.0</td>\n",
       "    </tr>\n",
       "    <tr>\n",
       "      <th>1</th>\n",
       "      <td>Afghanistan</td>\n",
       "      <td>2008.0</td>\n",
       "      <td>365375.0</td>\n",
       "    </tr>\n",
       "    <tr>\n",
       "      <th>2</th>\n",
       "      <td>Afghanistan</td>\n",
       "      <td>2009.0</td>\n",
       "      <td>585125.0</td>\n",
       "    </tr>\n",
       "    <tr>\n",
       "      <th>3</th>\n",
       "      <td>Afghanistan</td>\n",
       "      <td>2010.0</td>\n",
       "      <td>563350.0</td>\n",
       "    </tr>\n",
       "    <tr>\n",
       "      <th>4</th>\n",
       "      <td>Afghanistan</td>\n",
       "      <td>2011.0</td>\n",
       "      <td>245125.0</td>\n",
       "    </tr>\n",
       "    <tr>\n",
       "      <th>...</th>\n",
       "      <td>...</td>\n",
       "      <td>...</td>\n",
       "      <td>...</td>\n",
       "    </tr>\n",
       "    <tr>\n",
       "      <th>743</th>\n",
       "      <td>Zimbabwe</td>\n",
       "      <td>2013.0</td>\n",
       "      <td>678525.0</td>\n",
       "    </tr>\n",
       "    <tr>\n",
       "      <th>744</th>\n",
       "      <td>Zimbabwe</td>\n",
       "      <td>2014.0</td>\n",
       "      <td>1311575.0</td>\n",
       "    </tr>\n",
       "    <tr>\n",
       "      <th>745</th>\n",
       "      <td>Zimbabwe</td>\n",
       "      <td>2015.0</td>\n",
       "      <td>723625.0</td>\n",
       "    </tr>\n",
       "    <tr>\n",
       "      <th>746</th>\n",
       "      <td>Zimbabwe</td>\n",
       "      <td>2016.0</td>\n",
       "      <td>788600.0</td>\n",
       "    </tr>\n",
       "    <tr>\n",
       "      <th>747</th>\n",
       "      <td>Zimbabwe</td>\n",
       "      <td>2017.0</td>\n",
       "      <td>1237600.0</td>\n",
       "    </tr>\n",
       "  </tbody>\n",
       "</table>\n",
       "<p>748 rows × 3 columns</p>\n",
       "</div>"
      ],
      "text/plain": [
       "    country_name   years  total_loan_amount\n",
       "0    Afghanistan  2007.0           194975.0\n",
       "1    Afghanistan  2008.0           365375.0\n",
       "2    Afghanistan  2009.0           585125.0\n",
       "3    Afghanistan  2010.0           563350.0\n",
       "4    Afghanistan  2011.0           245125.0\n",
       "..           ...     ...                ...\n",
       "743     Zimbabwe  2013.0           678525.0\n",
       "744     Zimbabwe  2014.0          1311575.0\n",
       "745     Zimbabwe  2015.0           723625.0\n",
       "746     Zimbabwe  2016.0           788600.0\n",
       "747     Zimbabwe  2017.0          1237600.0\n",
       "\n",
       "[748 rows x 3 columns]"
      ]
     },
     "execution_count": 23,
     "metadata": {},
     "output_type": "execute_result"
    }
   ],
   "source": [
    "# Importo totale per anno e stato.\n",
    "\n",
    "df1.groupby(['country_name','years'])['loan_amount'].sum().reset_index(name='total_loan_amount')"
   ]
  },
  {
   "cell_type": "code",
   "execution_count": 24,
   "metadata": {
    "ExecuteTime": {
     "end_time": "2020-01-29T19:39:02.254975Z",
     "start_time": "2020-01-29T19:39:01.964750Z"
    },
    "scrolled": false
   },
   "outputs": [
    {
     "data": {
      "text/html": [
       "<div>\n",
       "<style scoped>\n",
       "    .dataframe tbody tr th:only-of-type {\n",
       "        vertical-align: middle;\n",
       "    }\n",
       "\n",
       "    .dataframe tbody tr th {\n",
       "        vertical-align: top;\n",
       "    }\n",
       "\n",
       "    .dataframe thead th {\n",
       "        text-align: right;\n",
       "    }\n",
       "</style>\n",
       "<table border=\"1\" class=\"dataframe\">\n",
       "  <thead>\n",
       "    <tr style=\"text-align: right;\">\n",
       "      <th></th>\n",
       "      <th>country_name</th>\n",
       "      <th>years</th>\n",
       "      <th>percent_over_total</th>\n",
       "    </tr>\n",
       "  </thead>\n",
       "  <tbody>\n",
       "    <tr>\n",
       "      <th>0</th>\n",
       "      <td>Afghanistan</td>\n",
       "      <td>2007.0</td>\n",
       "      <td>0.017252</td>\n",
       "    </tr>\n",
       "    <tr>\n",
       "      <th>1</th>\n",
       "      <td>Afghanistan</td>\n",
       "      <td>2008.0</td>\n",
       "      <td>0.032329</td>\n",
       "    </tr>\n",
       "    <tr>\n",
       "      <th>2</th>\n",
       "      <td>Afghanistan</td>\n",
       "      <td>2009.0</td>\n",
       "      <td>0.051772</td>\n",
       "    </tr>\n",
       "    <tr>\n",
       "      <th>3</th>\n",
       "      <td>Afghanistan</td>\n",
       "      <td>2010.0</td>\n",
       "      <td>0.049846</td>\n",
       "    </tr>\n",
       "    <tr>\n",
       "      <th>4</th>\n",
       "      <td>Afghanistan</td>\n",
       "      <td>2011.0</td>\n",
       "      <td>0.021689</td>\n",
       "    </tr>\n",
       "    <tr>\n",
       "      <th>...</th>\n",
       "      <td>...</td>\n",
       "      <td>...</td>\n",
       "      <td>...</td>\n",
       "    </tr>\n",
       "    <tr>\n",
       "      <th>743</th>\n",
       "      <td>Zimbabwe</td>\n",
       "      <td>2013.0</td>\n",
       "      <td>0.060037</td>\n",
       "    </tr>\n",
       "    <tr>\n",
       "      <th>744</th>\n",
       "      <td>Zimbabwe</td>\n",
       "      <td>2014.0</td>\n",
       "      <td>0.116050</td>\n",
       "    </tr>\n",
       "    <tr>\n",
       "      <th>745</th>\n",
       "      <td>Zimbabwe</td>\n",
       "      <td>2015.0</td>\n",
       "      <td>0.064027</td>\n",
       "    </tr>\n",
       "    <tr>\n",
       "      <th>746</th>\n",
       "      <td>Zimbabwe</td>\n",
       "      <td>2016.0</td>\n",
       "      <td>0.069776</td>\n",
       "    </tr>\n",
       "    <tr>\n",
       "      <th>747</th>\n",
       "      <td>Zimbabwe</td>\n",
       "      <td>2017.0</td>\n",
       "      <td>0.109504</td>\n",
       "    </tr>\n",
       "  </tbody>\n",
       "</table>\n",
       "<p>748 rows × 3 columns</p>\n",
       "</div>"
      ],
      "text/plain": [
       "    country_name   years  percent_over_total\n",
       "0    Afghanistan  2007.0            0.017252\n",
       "1    Afghanistan  2008.0            0.032329\n",
       "2    Afghanistan  2009.0            0.051772\n",
       "3    Afghanistan  2010.0            0.049846\n",
       "4    Afghanistan  2011.0            0.021689\n",
       "..           ...     ...                 ...\n",
       "743     Zimbabwe  2013.0            0.060037\n",
       "744     Zimbabwe  2014.0            0.116050\n",
       "745     Zimbabwe  2015.0            0.064027\n",
       "746     Zimbabwe  2016.0            0.069776\n",
       "747     Zimbabwe  2017.0            0.109504\n",
       "\n",
       "[748 rows x 3 columns]"
      ]
     },
     "execution_count": 24,
     "metadata": {},
     "output_type": "execute_result"
    }
   ],
   "source": [
    "# Rapporto tra amount e funded per anno e stato.\n",
    "\n",
    "(df1.groupby(['country_name','years'])['loan_amount'].sum() / df1['funded_amount'].sum()*100).reset_index(\n",
    " name='percent_over_total')"
   ]
  },
  {
   "cell_type": "markdown",
   "metadata": {},
   "source": [
    "## 8. For each lender, compute the overall amount of money lent.  For each loan that has more than one lender, you must assume that all lenders contributed the same amount."
   ]
  },
  {
   "cell_type": "code",
   "execution_count": 25,
   "metadata": {
    "ExecuteTime": {
     "end_time": "2020-01-29T19:39:16.478035Z",
     "start_time": "2020-01-29T19:39:02.257966Z"
    }
   },
   "outputs": [
    {
     "data": {
      "text/html": [
       "<div>\n",
       "<style scoped>\n",
       "    .dataframe tbody tr th:only-of-type {\n",
       "        vertical-align: middle;\n",
       "    }\n",
       "\n",
       "    .dataframe tbody tr th {\n",
       "        vertical-align: top;\n",
       "    }\n",
       "\n",
       "    .dataframe thead th {\n",
       "        text-align: right;\n",
       "    }\n",
       "</style>\n",
       "<table border=\"1\" class=\"dataframe\">\n",
       "  <thead>\n",
       "    <tr style=\"text-align: right;\">\n",
       "      <th></th>\n",
       "      <th>loan_id</th>\n",
       "      <th>loan_amount</th>\n",
       "      <th>funded_amount</th>\n",
       "      <th>lenders</th>\n",
       "    </tr>\n",
       "  </thead>\n",
       "  <tbody>\n",
       "    <tr>\n",
       "      <th>0</th>\n",
       "      <td>657307</td>\n",
       "      <td>125.0</td>\n",
       "      <td>125.0</td>\n",
       "      <td>spencer5657</td>\n",
       "    </tr>\n",
       "    <tr>\n",
       "      <th>1</th>\n",
       "      <td>657307</td>\n",
       "      <td>125.0</td>\n",
       "      <td>125.0</td>\n",
       "      <td>matthew8640</td>\n",
       "    </tr>\n",
       "    <tr>\n",
       "      <th>2</th>\n",
       "      <td>657307</td>\n",
       "      <td>125.0</td>\n",
       "      <td>125.0</td>\n",
       "      <td>larry71496105</td>\n",
       "    </tr>\n",
       "    <tr>\n",
       "      <th>3</th>\n",
       "      <td>657259</td>\n",
       "      <td>400.0</td>\n",
       "      <td>400.0</td>\n",
       "      <td>ltr</td>\n",
       "    </tr>\n",
       "    <tr>\n",
       "      <th>4</th>\n",
       "      <td>657259</td>\n",
       "      <td>400.0</td>\n",
       "      <td>400.0</td>\n",
       "      <td>andrew5306</td>\n",
       "    </tr>\n",
       "  </tbody>\n",
       "</table>\n",
       "</div>"
      ],
      "text/plain": [
       "   loan_id  loan_amount  funded_amount        lenders\n",
       "0   657307        125.0          125.0    spencer5657\n",
       "1   657307        125.0          125.0    matthew8640\n",
       "2   657307        125.0          125.0  larry71496105\n",
       "3   657259        400.0          400.0            ltr\n",
       "4   657259        400.0          400.0     andrew5306"
      ]
     },
     "execution_count": 25,
     "metadata": {},
     "output_type": "execute_result"
    }
   ],
   "source": [
    "# Merge su loan_id in modo da avere anche il nome di ogni lender.\n",
    "\n",
    "df2 = df1[['loan_id','loan_amount','funded_amount']].merge(df, on='loan_id')\n",
    "df2.head()"
   ]
  },
  {
   "cell_type": "code",
   "execution_count": 26,
   "metadata": {
    "ExecuteTime": {
     "end_time": "2020-01-29T19:39:17.724717Z",
     "start_time": "2020-01-29T19:39:16.486974Z"
    },
    "scrolled": false
   },
   "outputs": [
    {
     "data": {
      "text/plain": [
       "loan_id\n",
       "84    3\n",
       "85    2\n",
       "86    3\n",
       "88    3\n",
       "89    4\n",
       "dtype: int64"
      ]
     },
     "execution_count": 26,
     "metadata": {},
     "output_type": "execute_result"
    }
   ],
   "source": [
    "# numero di lenders per ogni prestito.\n",
    "\n",
    "id_group = df2.groupby('loan_id').size()\n",
    "id_group.head()"
   ]
  },
  {
   "cell_type": "code",
   "execution_count": 27,
   "metadata": {
    "ExecuteTime": {
     "end_time": "2020-01-29T19:39:45.731493Z",
     "start_time": "2020-01-29T19:39:17.727711Z"
    },
    "scrolled": false
   },
   "outputs": [
    {
     "data": {
      "text/plain": [
       "loan_id  lenders\n",
       "84       brooke     500.0\n",
       "         michael    500.0\n",
       "         ward       500.0\n",
       "85       michael    500.0\n",
       "         patrick    500.0\n",
       "Name: funded_amount, dtype: float64"
      ]
     },
     "execution_count": 27,
     "metadata": {},
     "output_type": "execute_result"
    }
   ],
   "source": [
    "# Con il groupby faccio in modo che i loan_id della tabella siano ordinati come quelli della numerosità.\n",
    "\n",
    "funded_group = df2.groupby(['loan_id','lenders'])['funded_amount'].sum()\n",
    "funded_group.head()"
   ]
  },
  {
   "cell_type": "code",
   "execution_count": 28,
   "metadata": {
    "ExecuteTime": {
     "end_time": "2020-01-29T19:40:22.958840Z",
     "start_time": "2020-01-29T19:39:45.737475Z"
    },
    "scrolled": false
   },
   "outputs": [],
   "source": [
    "# divisione tra somma prestata e numerosità di ciascun gruppo\n",
    "\n",
    "funded_group = funded_group/id_group"
   ]
  },
  {
   "cell_type": "code",
   "execution_count": 29,
   "metadata": {
    "ExecuteTime": {
     "end_time": "2020-01-29T19:40:38.894597Z",
     "start_time": "2020-01-29T19:40:22.983774Z"
    },
    "scrolled": false
   },
   "outputs": [
    {
     "data": {
      "text/html": [
       "<div>\n",
       "<style scoped>\n",
       "    .dataframe tbody tr th:only-of-type {\n",
       "        vertical-align: middle;\n",
       "    }\n",
       "\n",
       "    .dataframe tbody tr th {\n",
       "        vertical-align: top;\n",
       "    }\n",
       "\n",
       "    .dataframe thead th {\n",
       "        text-align: right;\n",
       "    }\n",
       "</style>\n",
       "<table border=\"1\" class=\"dataframe\">\n",
       "  <thead>\n",
       "    <tr style=\"text-align: right;\">\n",
       "      <th></th>\n",
       "      <th>loan_id</th>\n",
       "      <th>lenders</th>\n",
       "      <th>funded_amount_each</th>\n",
       "    </tr>\n",
       "  </thead>\n",
       "  <tbody>\n",
       "    <tr>\n",
       "      <th>0</th>\n",
       "      <td>84</td>\n",
       "      <td>brooke</td>\n",
       "      <td>166.666667</td>\n",
       "    </tr>\n",
       "    <tr>\n",
       "      <th>1</th>\n",
       "      <td>84</td>\n",
       "      <td>michael</td>\n",
       "      <td>166.666667</td>\n",
       "    </tr>\n",
       "    <tr>\n",
       "      <th>2</th>\n",
       "      <td>84</td>\n",
       "      <td>ward</td>\n",
       "      <td>166.666667</td>\n",
       "    </tr>\n",
       "    <tr>\n",
       "      <th>3</th>\n",
       "      <td>85</td>\n",
       "      <td>michael</td>\n",
       "      <td>250.000000</td>\n",
       "    </tr>\n",
       "    <tr>\n",
       "      <th>4</th>\n",
       "      <td>85</td>\n",
       "      <td>patrick</td>\n",
       "      <td>250.000000</td>\n",
       "    </tr>\n",
       "  </tbody>\n",
       "</table>\n",
       "</div>"
      ],
      "text/plain": [
       "   loan_id  lenders  funded_amount_each\n",
       "0       84   brooke          166.666667\n",
       "1       84  michael          166.666667\n",
       "2       84     ward          166.666667\n",
       "3       85  michael          250.000000\n",
       "4       85  patrick          250.000000"
      ]
     },
     "execution_count": 29,
     "metadata": {},
     "output_type": "execute_result"
    }
   ],
   "source": [
    "# Somma di denaro conferita da ogni singolo lender.\n",
    "\n",
    "funded_group = funded_group.reset_index(name = 'funded_amount_each')\n",
    "funded_group.head()"
   ]
  },
  {
   "cell_type": "code",
   "execution_count": 30,
   "metadata": {
    "ExecuteTime": {
     "end_time": "2020-01-29T19:40:53.103323Z",
     "start_time": "2020-01-29T19:40:38.897551Z"
    },
    "scrolled": false
   },
   "outputs": [
    {
     "data": {
      "text/html": [
       "<div>\n",
       "<style scoped>\n",
       "    .dataframe tbody tr th:only-of-type {\n",
       "        vertical-align: middle;\n",
       "    }\n",
       "\n",
       "    .dataframe tbody tr th {\n",
       "        vertical-align: top;\n",
       "    }\n",
       "\n",
       "    .dataframe thead th {\n",
       "        text-align: right;\n",
       "    }\n",
       "</style>\n",
       "<table border=\"1\" class=\"dataframe\">\n",
       "  <thead>\n",
       "    <tr style=\"text-align: right;\">\n",
       "      <th></th>\n",
       "      <th>lenders</th>\n",
       "      <th>total_lent</th>\n",
       "    </tr>\n",
       "  </thead>\n",
       "  <tbody>\n",
       "    <tr>\n",
       "      <th>0</th>\n",
       "      <td>000</td>\n",
       "      <td>1703.868411</td>\n",
       "    </tr>\n",
       "    <tr>\n",
       "      <th>1</th>\n",
       "      <td>00000</td>\n",
       "      <td>1379.750248</td>\n",
       "    </tr>\n",
       "    <tr>\n",
       "      <th>2</th>\n",
       "      <td>0002</td>\n",
       "      <td>2472.563566</td>\n",
       "    </tr>\n",
       "    <tr>\n",
       "      <th>3</th>\n",
       "      <td>00mike00</td>\n",
       "      <td>52.631579</td>\n",
       "    </tr>\n",
       "    <tr>\n",
       "      <th>4</th>\n",
       "      <td>0101craign0101</td>\n",
       "      <td>2623.565117</td>\n",
       "    </tr>\n",
       "    <tr>\n",
       "      <th>...</th>\n",
       "      <td>...</td>\n",
       "      <td>...</td>\n",
       "    </tr>\n",
       "    <tr>\n",
       "      <th>1383794</th>\n",
       "      <td>zzmcfate</td>\n",
       "      <td>63381.546705</td>\n",
       "    </tr>\n",
       "    <tr>\n",
       "      <th>1383795</th>\n",
       "      <td>zzpaghetti9994</td>\n",
       "      <td>51.020408</td>\n",
       "    </tr>\n",
       "    <tr>\n",
       "      <th>1383796</th>\n",
       "      <td>zzrvmf8538</td>\n",
       "      <td>513.213719</td>\n",
       "    </tr>\n",
       "    <tr>\n",
       "      <th>1383797</th>\n",
       "      <td>zzzsai</td>\n",
       "      <td>267.667370</td>\n",
       "    </tr>\n",
       "    <tr>\n",
       "      <th>1383798</th>\n",
       "      <td>zzzworld</td>\n",
       "      <td>27.522936</td>\n",
       "    </tr>\n",
       "  </tbody>\n",
       "</table>\n",
       "<p>1383799 rows × 2 columns</p>\n",
       "</div>"
      ],
      "text/plain": [
       "                lenders    total_lent\n",
       "0                   000   1703.868411\n",
       "1                 00000   1379.750248\n",
       "2                  0002   2472.563566\n",
       "3              00mike00     52.631579\n",
       "4        0101craign0101   2623.565117\n",
       "...                 ...           ...\n",
       "1383794        zzmcfate  63381.546705\n",
       "1383795  zzpaghetti9994     51.020408\n",
       "1383796      zzrvmf8538    513.213719\n",
       "1383797          zzzsai    267.667370\n",
       "1383798        zzzworld     27.522936\n",
       "\n",
       "[1383799 rows x 2 columns]"
      ]
     },
     "execution_count": 30,
     "metadata": {},
     "output_type": "execute_result"
    }
   ],
   "source": [
    "# Raggruppamento per lender e somma totale.\n",
    "\n",
    "funded_group.groupby('lenders')['funded_amount_each'].sum().reset_index(name = 'total_lent')"
   ]
  },
  {
   "cell_type": "markdown",
   "metadata": {},
   "source": [
    "## 9. For each country, compute the difference between the overall amount of money lent and the overall amount of money borrowed. Since the country of the lender is often unknown, you can assume that the true distribution among the countries is the same as the one computed from the rows where the country is known."
   ]
  },
  {
   "cell_type": "code",
   "execution_count": 31,
   "metadata": {
    "ExecuteTime": {
     "end_time": "2020-01-29T19:40:53.149203Z",
     "start_time": "2020-01-29T19:40:53.104367Z"
    },
    "scrolled": true
   },
   "outputs": [
    {
     "data": {
      "text/html": [
       "<div>\n",
       "<style scoped>\n",
       "    .dataframe tbody tr th:only-of-type {\n",
       "        vertical-align: middle;\n",
       "    }\n",
       "\n",
       "    .dataframe tbody tr th {\n",
       "        vertical-align: top;\n",
       "    }\n",
       "\n",
       "    .dataframe thead th {\n",
       "        text-align: right;\n",
       "    }\n",
       "</style>\n",
       "<table border=\"1\" class=\"dataframe\">\n",
       "  <thead>\n",
       "    <tr style=\"text-align: right;\">\n",
       "      <th></th>\n",
       "      <th>loan_id</th>\n",
       "      <th>count</th>\n",
       "    </tr>\n",
       "  </thead>\n",
       "  <tbody>\n",
       "    <tr>\n",
       "      <th>0</th>\n",
       "      <td>84</td>\n",
       "      <td>3</td>\n",
       "    </tr>\n",
       "    <tr>\n",
       "      <th>1</th>\n",
       "      <td>85</td>\n",
       "      <td>2</td>\n",
       "    </tr>\n",
       "    <tr>\n",
       "      <th>2</th>\n",
       "      <td>86</td>\n",
       "      <td>3</td>\n",
       "    </tr>\n",
       "    <tr>\n",
       "      <th>3</th>\n",
       "      <td>88</td>\n",
       "      <td>3</td>\n",
       "    </tr>\n",
       "    <tr>\n",
       "      <th>4</th>\n",
       "      <td>89</td>\n",
       "      <td>4</td>\n",
       "    </tr>\n",
       "  </tbody>\n",
       "</table>\n",
       "</div>"
      ],
      "text/plain": [
       "   loan_id  count\n",
       "0       84      3\n",
       "1       85      2\n",
       "2       86      3\n",
       "3       88      3\n",
       "4       89      4"
      ]
     },
     "execution_count": 31,
     "metadata": {},
     "output_type": "execute_result"
    }
   ],
   "source": [
    "id_group = id_group.reset_index(name='count')\n",
    "id_group.head()"
   ]
  },
  {
   "cell_type": "code",
   "execution_count": 32,
   "metadata": {
    "ExecuteTime": {
     "end_time": "2020-01-29T19:41:36.768086Z",
     "start_time": "2020-01-29T19:40:53.152193Z"
    }
   },
   "outputs": [
    {
     "data": {
      "text/html": [
       "<div>\n",
       "<style scoped>\n",
       "    .dataframe tbody tr th:only-of-type {\n",
       "        vertical-align: middle;\n",
       "    }\n",
       "\n",
       "    .dataframe tbody tr th {\n",
       "        vertical-align: top;\n",
       "    }\n",
       "\n",
       "    .dataframe thead th {\n",
       "        text-align: right;\n",
       "    }\n",
       "</style>\n",
       "<table border=\"1\" class=\"dataframe\">\n",
       "  <thead>\n",
       "    <tr style=\"text-align: right;\">\n",
       "      <th></th>\n",
       "      <th>loan_id</th>\n",
       "      <th>lenders</th>\n",
       "      <th>funded_amount</th>\n",
       "      <th>loan_amount</th>\n",
       "      <th>count</th>\n",
       "    </tr>\n",
       "  </thead>\n",
       "  <tbody>\n",
       "    <tr>\n",
       "      <th>0</th>\n",
       "      <td>84</td>\n",
       "      <td>brooke</td>\n",
       "      <td>500.0</td>\n",
       "      <td>500.0</td>\n",
       "      <td>3</td>\n",
       "    </tr>\n",
       "    <tr>\n",
       "      <th>1</th>\n",
       "      <td>84</td>\n",
       "      <td>michael</td>\n",
       "      <td>500.0</td>\n",
       "      <td>500.0</td>\n",
       "      <td>3</td>\n",
       "    </tr>\n",
       "    <tr>\n",
       "      <th>2</th>\n",
       "      <td>84</td>\n",
       "      <td>ward</td>\n",
       "      <td>500.0</td>\n",
       "      <td>500.0</td>\n",
       "      <td>3</td>\n",
       "    </tr>\n",
       "    <tr>\n",
       "      <th>3</th>\n",
       "      <td>85</td>\n",
       "      <td>michael</td>\n",
       "      <td>500.0</td>\n",
       "      <td>500.0</td>\n",
       "      <td>2</td>\n",
       "    </tr>\n",
       "    <tr>\n",
       "      <th>4</th>\n",
       "      <td>85</td>\n",
       "      <td>patrick</td>\n",
       "      <td>500.0</td>\n",
       "      <td>500.0</td>\n",
       "      <td>2</td>\n",
       "    </tr>\n",
       "  </tbody>\n",
       "</table>\n",
       "</div>"
      ],
      "text/plain": [
       "   loan_id  lenders  funded_amount  loan_amount  count\n",
       "0       84   brooke          500.0        500.0      3\n",
       "1       84  michael          500.0        500.0      3\n",
       "2       84     ward          500.0        500.0      3\n",
       "3       85  michael          500.0        500.0      2\n",
       "4       85  patrick          500.0        500.0      2"
      ]
     },
     "execution_count": 32,
     "metadata": {},
     "output_type": "execute_result"
    }
   ],
   "source": [
    "# df2 = df2[df2['funded_amount']-df2.['loan_amount'] != 0] # Per eliminare le differenze uguali a zero.\n",
    "\n",
    "first = (df2.groupby(['loan_id','lenders'])['funded_amount','loan_amount'].sum()).reset_index()\n",
    "second = first.merge(id_group,on='loan_id')\n",
    "second.head()"
   ]
  },
  {
   "cell_type": "code",
   "execution_count": 33,
   "metadata": {
    "ExecuteTime": {
     "end_time": "2020-01-29T19:41:37.383441Z",
     "start_time": "2020-01-29T19:41:36.774071Z"
    },
    "scrolled": true
   },
   "outputs": [
    {
     "data": {
      "text/html": [
       "<div>\n",
       "<style scoped>\n",
       "    .dataframe tbody tr th:only-of-type {\n",
       "        vertical-align: middle;\n",
       "    }\n",
       "\n",
       "    .dataframe tbody tr th {\n",
       "        vertical-align: top;\n",
       "    }\n",
       "\n",
       "    .dataframe thead th {\n",
       "        text-align: right;\n",
       "    }\n",
       "</style>\n",
       "<table border=\"1\" class=\"dataframe\">\n",
       "  <thead>\n",
       "    <tr style=\"text-align: right;\">\n",
       "      <th></th>\n",
       "      <th>loan_id</th>\n",
       "      <th>lenders</th>\n",
       "      <th>funded_amount</th>\n",
       "      <th>loan_amount</th>\n",
       "      <th>count</th>\n",
       "    </tr>\n",
       "  </thead>\n",
       "  <tbody>\n",
       "    <tr>\n",
       "      <th>0</th>\n",
       "      <td>84</td>\n",
       "      <td>brooke</td>\n",
       "      <td>166.666667</td>\n",
       "      <td>166.666667</td>\n",
       "      <td>3</td>\n",
       "    </tr>\n",
       "    <tr>\n",
       "      <th>1</th>\n",
       "      <td>84</td>\n",
       "      <td>michael</td>\n",
       "      <td>166.666667</td>\n",
       "      <td>166.666667</td>\n",
       "      <td>3</td>\n",
       "    </tr>\n",
       "    <tr>\n",
       "      <th>2</th>\n",
       "      <td>84</td>\n",
       "      <td>ward</td>\n",
       "      <td>166.666667</td>\n",
       "      <td>166.666667</td>\n",
       "      <td>3</td>\n",
       "    </tr>\n",
       "    <tr>\n",
       "      <th>3</th>\n",
       "      <td>85</td>\n",
       "      <td>michael</td>\n",
       "      <td>250.000000</td>\n",
       "      <td>250.000000</td>\n",
       "      <td>2</td>\n",
       "    </tr>\n",
       "    <tr>\n",
       "      <th>4</th>\n",
       "      <td>85</td>\n",
       "      <td>patrick</td>\n",
       "      <td>250.000000</td>\n",
       "      <td>250.000000</td>\n",
       "      <td>2</td>\n",
       "    </tr>\n",
       "  </tbody>\n",
       "</table>\n",
       "</div>"
      ],
      "text/plain": [
       "   loan_id  lenders  funded_amount  loan_amount  count\n",
       "0       84   brooke     166.666667   166.666667      3\n",
       "1       84  michael     166.666667   166.666667      3\n",
       "2       84     ward     166.666667   166.666667      3\n",
       "3       85  michael     250.000000   250.000000      2\n",
       "4       85  patrick     250.000000   250.000000      2"
      ]
     },
     "execution_count": 33,
     "metadata": {},
     "output_type": "execute_result"
    }
   ],
   "source": [
    "second['funded_amount'] = second['funded_amount']/second['count']\n",
    "second['loan_amount'] = second['loan_amount']/second['count']\n",
    "second.head()"
   ]
  },
  {
   "cell_type": "code",
   "execution_count": 34,
   "metadata": {
    "ExecuteTime": {
     "end_time": "2020-01-29T19:42:18.657506Z",
     "start_time": "2020-01-29T19:41:37.387432Z"
    },
    "scrolled": false
   },
   "outputs": [
    {
     "data": {
      "text/html": [
       "<div>\n",
       "<style scoped>\n",
       "    .dataframe tbody tr th:only-of-type {\n",
       "        vertical-align: middle;\n",
       "    }\n",
       "\n",
       "    .dataframe tbody tr th {\n",
       "        vertical-align: top;\n",
       "    }\n",
       "\n",
       "    .dataframe thead th {\n",
       "        text-align: right;\n",
       "    }\n",
       "</style>\n",
       "<table border=\"1\" class=\"dataframe\">\n",
       "  <thead>\n",
       "    <tr style=\"text-align: right;\">\n",
       "      <th></th>\n",
       "      <th>loan_id</th>\n",
       "      <th>lenders</th>\n",
       "      <th>country_code</th>\n",
       "    </tr>\n",
       "  </thead>\n",
       "  <tbody>\n",
       "    <tr>\n",
       "      <th>0</th>\n",
       "      <td>483693</td>\n",
       "      <td>muc888</td>\n",
       "      <td>US</td>\n",
       "    </tr>\n",
       "    <tr>\n",
       "      <th>1</th>\n",
       "      <td>483738</td>\n",
       "      <td>muc888</td>\n",
       "      <td>US</td>\n",
       "    </tr>\n",
       "    <tr>\n",
       "      <th>2</th>\n",
       "      <td>485000</td>\n",
       "      <td>muc888</td>\n",
       "      <td>US</td>\n",
       "    </tr>\n",
       "    <tr>\n",
       "      <th>3</th>\n",
       "      <td>486087</td>\n",
       "      <td>muc888</td>\n",
       "      <td>US</td>\n",
       "    </tr>\n",
       "    <tr>\n",
       "      <th>4</th>\n",
       "      <td>534428</td>\n",
       "      <td>muc888</td>\n",
       "      <td>US</td>\n",
       "    </tr>\n",
       "  </tbody>\n",
       "</table>\n",
       "</div>"
      ],
      "text/plain": [
       "   loan_id lenders country_code\n",
       "0   483693  muc888           US\n",
       "1   483738  muc888           US\n",
       "2   485000  muc888           US\n",
       "3   486087  muc888           US\n",
       "4   534428  muc888           US"
      ]
     },
     "execution_count": 34,
     "metadata": {},
     "output_type": "execute_result"
    }
   ],
   "source": [
    "# Caricamento del dataset relativo ai lenders.\n",
    "# Na drop pr le variabili che verranno utilizzate e merge con il df precedente\n",
    "\n",
    "df_lenders= pd.read_csv('lenders.csv')\n",
    "df_lenders.dropna(subset=['country_code',],inplace=True)\n",
    "df_lenders.dropna(subset=['permanent_name'],inplace=True)\n",
    "df_lenders.rename(columns={'permanent_name':'lenders'}, inplace=True)\n",
    "# Merge con il primo dataframe per avere loan_id,lenders e country_code (relativo a lenders).\n",
    "\n",
    "lendersWCountry = df.merge(df_lenders[['lenders', 'country_code']], on='lenders')\n",
    "lendersWCountry.dropna(inplace=True)\n",
    "lendersWCountry.head()"
   ]
  },
  {
   "cell_type": "code",
   "execution_count": 35,
   "metadata": {
    "ExecuteTime": {
     "end_time": "2020-01-29T19:42:57.284175Z",
     "start_time": "2020-01-29T19:42:18.666458Z"
    },
    "scrolled": true
   },
   "outputs": [
    {
     "data": {
      "text/html": [
       "<div>\n",
       "<style scoped>\n",
       "    .dataframe tbody tr th:only-of-type {\n",
       "        vertical-align: middle;\n",
       "    }\n",
       "\n",
       "    .dataframe tbody tr th {\n",
       "        vertical-align: top;\n",
       "    }\n",
       "\n",
       "    .dataframe thead th {\n",
       "        text-align: right;\n",
       "    }\n",
       "</style>\n",
       "<table border=\"1\" class=\"dataframe\">\n",
       "  <thead>\n",
       "    <tr style=\"text-align: right;\">\n",
       "      <th></th>\n",
       "      <th>loan_id</th>\n",
       "      <th>lenders</th>\n",
       "      <th>funded_amount</th>\n",
       "      <th>loan_amount</th>\n",
       "      <th>count</th>\n",
       "      <th>country_code</th>\n",
       "    </tr>\n",
       "  </thead>\n",
       "  <tbody>\n",
       "    <tr>\n",
       "      <th>0</th>\n",
       "      <td>84</td>\n",
       "      <td>brooke</td>\n",
       "      <td>166.666667</td>\n",
       "      <td>166.666667</td>\n",
       "      <td>3</td>\n",
       "      <td>US</td>\n",
       "    </tr>\n",
       "    <tr>\n",
       "      <th>1</th>\n",
       "      <td>84</td>\n",
       "      <td>michael</td>\n",
       "      <td>166.666667</td>\n",
       "      <td>166.666667</td>\n",
       "      <td>3</td>\n",
       "      <td>US</td>\n",
       "    </tr>\n",
       "    <tr>\n",
       "      <th>2</th>\n",
       "      <td>84</td>\n",
       "      <td>ward</td>\n",
       "      <td>166.666667</td>\n",
       "      <td>166.666667</td>\n",
       "      <td>3</td>\n",
       "      <td>US</td>\n",
       "    </tr>\n",
       "    <tr>\n",
       "      <th>3</th>\n",
       "      <td>85</td>\n",
       "      <td>michael</td>\n",
       "      <td>250.000000</td>\n",
       "      <td>250.000000</td>\n",
       "      <td>2</td>\n",
       "      <td>US</td>\n",
       "    </tr>\n",
       "    <tr>\n",
       "      <th>4</th>\n",
       "      <td>85</td>\n",
       "      <td>patrick</td>\n",
       "      <td>250.000000</td>\n",
       "      <td>250.000000</td>\n",
       "      <td>2</td>\n",
       "      <td>US</td>\n",
       "    </tr>\n",
       "    <tr>\n",
       "      <th>...</th>\n",
       "      <td>...</td>\n",
       "      <td>...</td>\n",
       "      <td>...</td>\n",
       "      <td>...</td>\n",
       "      <td>...</td>\n",
       "      <td>...</td>\n",
       "    </tr>\n",
       "    <tr>\n",
       "      <th>23052530</th>\n",
       "      <td>1444017</td>\n",
       "      <td>deveda8228</td>\n",
       "      <td>50.000000</td>\n",
       "      <td>125.000000</td>\n",
       "      <td>1</td>\n",
       "      <td>US</td>\n",
       "    </tr>\n",
       "    <tr>\n",
       "      <th>23052531</th>\n",
       "      <td>1444047</td>\n",
       "      <td>lawrence1598</td>\n",
       "      <td>50.000000</td>\n",
       "      <td>50.000000</td>\n",
       "      <td>1</td>\n",
       "      <td>HK</td>\n",
       "    </tr>\n",
       "    <tr>\n",
       "      <th>23052532</th>\n",
       "      <td>1444051</td>\n",
       "      <td>lauren1424</td>\n",
       "      <td>50.000000</td>\n",
       "      <td>225.000000</td>\n",
       "      <td>1</td>\n",
       "      <td>US</td>\n",
       "    </tr>\n",
       "    <tr>\n",
       "      <th>23052533</th>\n",
       "      <td>1444053</td>\n",
       "      <td>dario6858</td>\n",
       "      <td>50.000000</td>\n",
       "      <td>725.000000</td>\n",
       "      <td>1</td>\n",
       "      <td>GB</td>\n",
       "    </tr>\n",
       "    <tr>\n",
       "      <th>23052534</th>\n",
       "      <td>1444063</td>\n",
       "      <td>pgs67</td>\n",
       "      <td>50.000000</td>\n",
       "      <td>50.000000</td>\n",
       "      <td>1</td>\n",
       "      <td>AU</td>\n",
       "    </tr>\n",
       "  </tbody>\n",
       "</table>\n",
       "<p>23052535 rows × 6 columns</p>\n",
       "</div>"
      ],
      "text/plain": [
       "          loan_id       lenders  funded_amount  loan_amount  count  \\\n",
       "0              84        brooke     166.666667   166.666667      3   \n",
       "1              84       michael     166.666667   166.666667      3   \n",
       "2              84          ward     166.666667   166.666667      3   \n",
       "3              85       michael     250.000000   250.000000      2   \n",
       "4              85       patrick     250.000000   250.000000      2   \n",
       "...           ...           ...            ...          ...    ...   \n",
       "23052530  1444017    deveda8228      50.000000   125.000000      1   \n",
       "23052531  1444047  lawrence1598      50.000000    50.000000      1   \n",
       "23052532  1444051    lauren1424      50.000000   225.000000      1   \n",
       "23052533  1444053     dario6858      50.000000   725.000000      1   \n",
       "23052534  1444063         pgs67      50.000000    50.000000      1   \n",
       "\n",
       "         country_code  \n",
       "0                  US  \n",
       "1                  US  \n",
       "2                  US  \n",
       "3                  US  \n",
       "4                  US  \n",
       "...               ...  \n",
       "23052530           US  \n",
       "23052531           HK  \n",
       "23052532           US  \n",
       "23052533           GB  \n",
       "23052534           AU  \n",
       "\n",
       "[23052535 rows x 6 columns]"
      ]
     },
     "execution_count": 35,
     "metadata": {},
     "output_type": "execute_result"
    }
   ],
   "source": [
    "# Merge finale con due variabili come superchiave per indicare la nazionalità di ogni lender.\n",
    "\n",
    "finale = second.merge(lendersWCountry,on=['loan_id','lenders'])\n",
    "finale"
   ]
  },
  {
   "cell_type": "code",
   "execution_count": 36,
   "metadata": {
    "ExecuteTime": {
     "end_time": "2020-01-29T19:42:57.564134Z",
     "start_time": "2020-01-29T19:42:57.292350Z"
    }
   },
   "outputs": [],
   "source": [
    "finale['difference'] = finale['loan_amount'] - finale['funded_amount']"
   ]
  },
  {
   "cell_type": "code",
   "execution_count": 37,
   "metadata": {
    "ExecuteTime": {
     "end_time": "2020-01-29T19:43:04.381173Z",
     "start_time": "2020-01-29T19:42:57.567098Z"
    },
    "scrolled": false
   },
   "outputs": [
    {
     "data": {
      "text/html": [
       "<div>\n",
       "<style scoped>\n",
       "    .dataframe tbody tr th:only-of-type {\n",
       "        vertical-align: middle;\n",
       "    }\n",
       "\n",
       "    .dataframe tbody tr th {\n",
       "        vertical-align: top;\n",
       "    }\n",
       "\n",
       "    .dataframe thead th {\n",
       "        text-align: right;\n",
       "    }\n",
       "</style>\n",
       "<table border=\"1\" class=\"dataframe\">\n",
       "  <thead>\n",
       "    <tr style=\"text-align: right;\">\n",
       "      <th></th>\n",
       "      <th>country_code</th>\n",
       "      <th>loan_amount</th>\n",
       "      <th>funded_amount</th>\n",
       "      <th>difference</th>\n",
       "    </tr>\n",
       "  </thead>\n",
       "  <tbody>\n",
       "    <tr>\n",
       "      <th>0</th>\n",
       "      <td>AD</td>\n",
       "      <td>5.124011e+03</td>\n",
       "      <td>5.060428e+03</td>\n",
       "      <td>63.583333</td>\n",
       "    </tr>\n",
       "    <tr>\n",
       "      <th>1</th>\n",
       "      <td>AE</td>\n",
       "      <td>1.963471e+06</td>\n",
       "      <td>1.914735e+06</td>\n",
       "      <td>48736.111556</td>\n",
       "    </tr>\n",
       "    <tr>\n",
       "      <th>2</th>\n",
       "      <td>AF</td>\n",
       "      <td>1.119684e+05</td>\n",
       "      <td>1.081489e+05</td>\n",
       "      <td>3819.582746</td>\n",
       "    </tr>\n",
       "    <tr>\n",
       "      <th>3</th>\n",
       "      <td>AG</td>\n",
       "      <td>6.182085e+02</td>\n",
       "      <td>6.182085e+02</td>\n",
       "      <td>0.000000</td>\n",
       "    </tr>\n",
       "    <tr>\n",
       "      <th>4</th>\n",
       "      <td>AI</td>\n",
       "      <td>3.350203e+02</td>\n",
       "      <td>3.350203e+02</td>\n",
       "      <td>0.000000</td>\n",
       "    </tr>\n",
       "    <tr>\n",
       "      <th>...</th>\n",
       "      <td>...</td>\n",
       "      <td>...</td>\n",
       "      <td>...</td>\n",
       "      <td>...</td>\n",
       "    </tr>\n",
       "    <tr>\n",
       "      <th>220</th>\n",
       "      <td>YE</td>\n",
       "      <td>2.061570e+04</td>\n",
       "      <td>2.056788e+04</td>\n",
       "      <td>47.818396</td>\n",
       "    </tr>\n",
       "    <tr>\n",
       "      <th>221</th>\n",
       "      <td>YT</td>\n",
       "      <td>5.970588e+01</td>\n",
       "      <td>5.970588e+01</td>\n",
       "      <td>0.000000</td>\n",
       "    </tr>\n",
       "    <tr>\n",
       "      <th>222</th>\n",
       "      <td>ZA</td>\n",
       "      <td>5.612558e+05</td>\n",
       "      <td>5.511354e+05</td>\n",
       "      <td>10120.422294</td>\n",
       "    </tr>\n",
       "    <tr>\n",
       "      <th>223</th>\n",
       "      <td>ZM</td>\n",
       "      <td>3.576965e+04</td>\n",
       "      <td>2.971218e+04</td>\n",
       "      <td>6057.466353</td>\n",
       "    </tr>\n",
       "    <tr>\n",
       "      <th>224</th>\n",
       "      <td>ZW</td>\n",
       "      <td>5.671445e+03</td>\n",
       "      <td>5.569723e+03</td>\n",
       "      <td>101.721639</td>\n",
       "    </tr>\n",
       "  </tbody>\n",
       "</table>\n",
       "<p>225 rows × 4 columns</p>\n",
       "</div>"
      ],
      "text/plain": [
       "    country_code   loan_amount  funded_amount    difference\n",
       "0             AD  5.124011e+03   5.060428e+03     63.583333\n",
       "1             AE  1.963471e+06   1.914735e+06  48736.111556\n",
       "2             AF  1.119684e+05   1.081489e+05   3819.582746\n",
       "3             AG  6.182085e+02   6.182085e+02      0.000000\n",
       "4             AI  3.350203e+02   3.350203e+02      0.000000\n",
       "..           ...           ...            ...           ...\n",
       "220           YE  2.061570e+04   2.056788e+04     47.818396\n",
       "221           YT  5.970588e+01   5.970588e+01      0.000000\n",
       "222           ZA  5.612558e+05   5.511354e+05  10120.422294\n",
       "223           ZM  3.576965e+04   2.971218e+04   6057.466353\n",
       "224           ZW  5.671445e+03   5.569723e+03    101.721639\n",
       "\n",
       "[225 rows x 4 columns]"
      ]
     },
     "execution_count": 37,
     "metadata": {},
     "output_type": "execute_result"
    }
   ],
   "source": [
    "finale = finale.groupby('country_code')['loan_amount','funded_amount','difference'].sum().reset_index()\n",
    "finale"
   ]
  },
  {
   "cell_type": "markdown",
   "metadata": {
    "ExecuteTime": {
     "end_time": "2020-01-26T12:56:21.131998Z",
     "start_time": "2020-01-26T12:56:21.127013Z"
    }
   },
   "source": [
    "# 10. Which country has the highest ratio between the difference computed at the previous point and the population?"
   ]
  },
  {
   "cell_type": "code",
   "execution_count": 38,
   "metadata": {
    "ExecuteTime": {
     "end_time": "2020-01-29T19:43:04.486490Z",
     "start_time": "2020-01-29T19:43:04.392150Z"
    },
    "scrolled": true
   },
   "outputs": [
    {
     "data": {
      "text/html": [
       "<div>\n",
       "<style scoped>\n",
       "    .dataframe tbody tr th:only-of-type {\n",
       "        vertical-align: middle;\n",
       "    }\n",
       "\n",
       "    .dataframe tbody tr th {\n",
       "        vertical-align: top;\n",
       "    }\n",
       "\n",
       "    .dataframe thead th {\n",
       "        text-align: right;\n",
       "    }\n",
       "</style>\n",
       "<table border=\"1\" class=\"dataframe\">\n",
       "  <thead>\n",
       "    <tr style=\"text-align: right;\">\n",
       "      <th></th>\n",
       "      <th>country_name</th>\n",
       "      <th>country_code</th>\n",
       "      <th>country_code3</th>\n",
       "      <th>continent</th>\n",
       "      <th>region</th>\n",
       "      <th>population</th>\n",
       "      <th>population_below_poverty_line</th>\n",
       "      <th>hdi</th>\n",
       "      <th>life_expectancy</th>\n",
       "      <th>expected_years_of_schooling</th>\n",
       "      <th>mean_years_of_schooling</th>\n",
       "      <th>gni</th>\n",
       "      <th>kiva_country_name</th>\n",
       "    </tr>\n",
       "  </thead>\n",
       "  <tbody>\n",
       "    <tr>\n",
       "      <th>0</th>\n",
       "      <td>India</td>\n",
       "      <td>IN</td>\n",
       "      <td>IND</td>\n",
       "      <td>Asia</td>\n",
       "      <td>Southern Asia</td>\n",
       "      <td>1339180127</td>\n",
       "      <td>21.9</td>\n",
       "      <td>0.623559</td>\n",
       "      <td>68.322</td>\n",
       "      <td>11.696590</td>\n",
       "      <td>6.298834</td>\n",
       "      <td>5663.474799</td>\n",
       "      <td>India</td>\n",
       "    </tr>\n",
       "    <tr>\n",
       "      <th>1</th>\n",
       "      <td>Nigeria</td>\n",
       "      <td>NG</td>\n",
       "      <td>NGA</td>\n",
       "      <td>Africa</td>\n",
       "      <td>Western Africa</td>\n",
       "      <td>190886311</td>\n",
       "      <td>70.0</td>\n",
       "      <td>0.527105</td>\n",
       "      <td>53.057</td>\n",
       "      <td>9.970482</td>\n",
       "      <td>6.000000</td>\n",
       "      <td>5442.901264</td>\n",
       "      <td>Nigeria</td>\n",
       "    </tr>\n",
       "    <tr>\n",
       "      <th>2</th>\n",
       "      <td>Mexico</td>\n",
       "      <td>MX</td>\n",
       "      <td>MEX</td>\n",
       "      <td>Americas</td>\n",
       "      <td>Central America</td>\n",
       "      <td>129163276</td>\n",
       "      <td>46.2</td>\n",
       "      <td>0.761683</td>\n",
       "      <td>76.972</td>\n",
       "      <td>13.299090</td>\n",
       "      <td>8.554985</td>\n",
       "      <td>16383.106680</td>\n",
       "      <td>Mexico</td>\n",
       "    </tr>\n",
       "    <tr>\n",
       "      <th>3</th>\n",
       "      <td>Pakistan</td>\n",
       "      <td>PK</td>\n",
       "      <td>PAK</td>\n",
       "      <td>Asia</td>\n",
       "      <td>Southern Asia</td>\n",
       "      <td>197015955</td>\n",
       "      <td>29.5</td>\n",
       "      <td>0.550354</td>\n",
       "      <td>66.365</td>\n",
       "      <td>8.106910</td>\n",
       "      <td>5.089460</td>\n",
       "      <td>5031.173074</td>\n",
       "      <td>Pakistan</td>\n",
       "    </tr>\n",
       "    <tr>\n",
       "      <th>4</th>\n",
       "      <td>Bangladesh</td>\n",
       "      <td>BD</td>\n",
       "      <td>BGD</td>\n",
       "      <td>Asia</td>\n",
       "      <td>Southern Asia</td>\n",
       "      <td>164669751</td>\n",
       "      <td>31.5</td>\n",
       "      <td>0.578824</td>\n",
       "      <td>71.985</td>\n",
       "      <td>10.178706</td>\n",
       "      <td>5.241577</td>\n",
       "      <td>3341.490722</td>\n",
       "      <td>Bangladesh</td>\n",
       "    </tr>\n",
       "  </tbody>\n",
       "</table>\n",
       "</div>"
      ],
      "text/plain": [
       "  country_name country_code country_code3 continent           region  \\\n",
       "0        India           IN           IND      Asia    Southern Asia   \n",
       "1      Nigeria           NG           NGA    Africa   Western Africa   \n",
       "2       Mexico           MX           MEX  Americas  Central America   \n",
       "3     Pakistan           PK           PAK      Asia    Southern Asia   \n",
       "4   Bangladesh           BD           BGD      Asia    Southern Asia   \n",
       "\n",
       "   population  population_below_poverty_line       hdi  life_expectancy  \\\n",
       "0  1339180127                           21.9  0.623559           68.322   \n",
       "1   190886311                           70.0  0.527105           53.057   \n",
       "2   129163276                           46.2  0.761683           76.972   \n",
       "3   197015955                           29.5  0.550354           66.365   \n",
       "4   164669751                           31.5  0.578824           71.985   \n",
       "\n",
       "   expected_years_of_schooling  mean_years_of_schooling           gni  \\\n",
       "0                    11.696590                 6.298834   5663.474799   \n",
       "1                     9.970482                 6.000000   5442.901264   \n",
       "2                    13.299090                 8.554985  16383.106680   \n",
       "3                     8.106910                 5.089460   5031.173074   \n",
       "4                    10.178706                 5.241577   3341.490722   \n",
       "\n",
       "  kiva_country_name  \n",
       "0             India  \n",
       "1           Nigeria  \n",
       "2            Mexico  \n",
       "3          Pakistan  \n",
       "4        Bangladesh  "
      ]
     },
     "execution_count": 38,
     "metadata": {},
     "output_type": "execute_result"
    }
   ],
   "source": [
    "# La variabile population è presente nel dataset country_stats.csv\n",
    "\n",
    "df6 = pd.read_csv('C:/Users/giaco/Desktop/Dataset Esame CS/country_stats.csv')\n",
    "df6.head()"
   ]
  },
  {
   "cell_type": "code",
   "execution_count": 39,
   "metadata": {
    "ExecuteTime": {
     "end_time": "2020-01-29T19:43:04.533435Z",
     "start_time": "2020-01-29T19:43:04.492502Z"
    },
    "scrolled": true
   },
   "outputs": [
    {
     "data": {
      "text/html": [
       "<div>\n",
       "<style scoped>\n",
       "    .dataframe tbody tr th:only-of-type {\n",
       "        vertical-align: middle;\n",
       "    }\n",
       "\n",
       "    .dataframe tbody tr th {\n",
       "        vertical-align: top;\n",
       "    }\n",
       "\n",
       "    .dataframe thead th {\n",
       "        text-align: right;\n",
       "    }\n",
       "</style>\n",
       "<table border=\"1\" class=\"dataframe\">\n",
       "  <thead>\n",
       "    <tr style=\"text-align: right;\">\n",
       "      <th></th>\n",
       "      <th>country_code</th>\n",
       "      <th>population</th>\n",
       "      <th>loan_amount</th>\n",
       "      <th>funded_amount</th>\n",
       "      <th>difference</th>\n",
       "    </tr>\n",
       "  </thead>\n",
       "  <tbody>\n",
       "    <tr>\n",
       "      <th>0</th>\n",
       "      <td>IN</td>\n",
       "      <td>1339180127</td>\n",
       "      <td>1.051133e+06</td>\n",
       "      <td>1.032385e+06</td>\n",
       "      <td>18748.435665</td>\n",
       "    </tr>\n",
       "    <tr>\n",
       "      <th>1</th>\n",
       "      <td>NG</td>\n",
       "      <td>190886311</td>\n",
       "      <td>3.630694e+04</td>\n",
       "      <td>3.560670e+04</td>\n",
       "      <td>700.235426</td>\n",
       "    </tr>\n",
       "    <tr>\n",
       "      <th>2</th>\n",
       "      <td>MX</td>\n",
       "      <td>129163276</td>\n",
       "      <td>1.467074e+06</td>\n",
       "      <td>1.421844e+06</td>\n",
       "      <td>45229.725459</td>\n",
       "    </tr>\n",
       "    <tr>\n",
       "      <th>3</th>\n",
       "      <td>PK</td>\n",
       "      <td>197015955</td>\n",
       "      <td>9.978677e+04</td>\n",
       "      <td>9.870512e+04</td>\n",
       "      <td>1081.645655</td>\n",
       "    </tr>\n",
       "    <tr>\n",
       "      <th>4</th>\n",
       "      <td>BD</td>\n",
       "      <td>164669751</td>\n",
       "      <td>2.444878e+04</td>\n",
       "      <td>2.405690e+04</td>\n",
       "      <td>391.884560</td>\n",
       "    </tr>\n",
       "  </tbody>\n",
       "</table>\n",
       "</div>"
      ],
      "text/plain": [
       "  country_code  population   loan_amount  funded_amount    difference\n",
       "0           IN  1339180127  1.051133e+06   1.032385e+06  18748.435665\n",
       "1           NG   190886311  3.630694e+04   3.560670e+04    700.235426\n",
       "2           MX   129163276  1.467074e+06   1.421844e+06  45229.725459\n",
       "3           PK   197015955  9.978677e+04   9.870512e+04   1081.645655\n",
       "4           BD   164669751  2.444878e+04   2.405690e+04    391.884560"
      ]
     },
     "execution_count": 39,
     "metadata": {},
     "output_type": "execute_result"
    }
   ],
   "source": [
    "# Viene eseguito un merge per utlizizzare i valori trovati nel punto precedente\n",
    "\n",
    "df7 = df6[['country_code','population']].merge(finale,on='country_code')\n",
    "df7.head()"
   ]
  },
  {
   "cell_type": "code",
   "execution_count": 40,
   "metadata": {
    "ExecuteTime": {
     "end_time": "2020-01-29T19:43:04.585181Z",
     "start_time": "2020-01-29T19:43:04.537422Z"
    },
    "scrolled": true
   },
   "outputs": [
    {
     "data": {
      "text/html": [
       "<div>\n",
       "<style scoped>\n",
       "    .dataframe tbody tr th:only-of-type {\n",
       "        vertical-align: middle;\n",
       "    }\n",
       "\n",
       "    .dataframe tbody tr th {\n",
       "        vertical-align: top;\n",
       "    }\n",
       "\n",
       "    .dataframe thead th {\n",
       "        text-align: right;\n",
       "    }\n",
       "</style>\n",
       "<table border=\"1\" class=\"dataframe\">\n",
       "  <thead>\n",
       "    <tr style=\"text-align: right;\">\n",
       "      <th></th>\n",
       "      <th>country_code</th>\n",
       "      <th>population</th>\n",
       "      <th>loan_amount</th>\n",
       "      <th>funded_amount</th>\n",
       "      <th>difference</th>\n",
       "      <th>ratio</th>\n",
       "    </tr>\n",
       "  </thead>\n",
       "  <tbody>\n",
       "    <tr>\n",
       "      <th>0</th>\n",
       "      <td>IN</td>\n",
       "      <td>1339180127</td>\n",
       "      <td>1.051133e+06</td>\n",
       "      <td>1.032385e+06</td>\n",
       "      <td>18748.435665</td>\n",
       "      <td>0.000014</td>\n",
       "    </tr>\n",
       "    <tr>\n",
       "      <th>1</th>\n",
       "      <td>NG</td>\n",
       "      <td>190886311</td>\n",
       "      <td>3.630694e+04</td>\n",
       "      <td>3.560670e+04</td>\n",
       "      <td>700.235426</td>\n",
       "      <td>0.000004</td>\n",
       "    </tr>\n",
       "    <tr>\n",
       "      <th>2</th>\n",
       "      <td>MX</td>\n",
       "      <td>129163276</td>\n",
       "      <td>1.467074e+06</td>\n",
       "      <td>1.421844e+06</td>\n",
       "      <td>45229.725459</td>\n",
       "      <td>0.000350</td>\n",
       "    </tr>\n",
       "    <tr>\n",
       "      <th>3</th>\n",
       "      <td>PK</td>\n",
       "      <td>197015955</td>\n",
       "      <td>9.978677e+04</td>\n",
       "      <td>9.870512e+04</td>\n",
       "      <td>1081.645655</td>\n",
       "      <td>0.000005</td>\n",
       "    </tr>\n",
       "    <tr>\n",
       "      <th>4</th>\n",
       "      <td>BD</td>\n",
       "      <td>164669751</td>\n",
       "      <td>2.444878e+04</td>\n",
       "      <td>2.405690e+04</td>\n",
       "      <td>391.884560</td>\n",
       "      <td>0.000002</td>\n",
       "    </tr>\n",
       "  </tbody>\n",
       "</table>\n",
       "</div>"
      ],
      "text/plain": [
       "  country_code  population   loan_amount  funded_amount    difference  \\\n",
       "0           IN  1339180127  1.051133e+06   1.032385e+06  18748.435665   \n",
       "1           NG   190886311  3.630694e+04   3.560670e+04    700.235426   \n",
       "2           MX   129163276  1.467074e+06   1.421844e+06  45229.725459   \n",
       "3           PK   197015955  9.978677e+04   9.870512e+04   1081.645655   \n",
       "4           BD   164669751  2.444878e+04   2.405690e+04    391.884560   \n",
       "\n",
       "      ratio  \n",
       "0  0.000014  \n",
       "1  0.000004  \n",
       "2  0.000350  \n",
       "3  0.000005  \n",
       "4  0.000002  "
      ]
     },
     "execution_count": 40,
     "metadata": {},
     "output_type": "execute_result"
    }
   ],
   "source": [
    "df7['ratio']= df7.difference/df7.population\n",
    "df7.head()"
   ]
  },
  {
   "cell_type": "code",
   "execution_count": 41,
   "metadata": {
    "ExecuteTime": {
     "end_time": "2020-01-29T19:43:04.658626Z",
     "start_time": "2020-01-29T19:43:04.591166Z"
    }
   },
   "outputs": [
    {
     "data": {
      "text/html": [
       "<div>\n",
       "<style scoped>\n",
       "    .dataframe tbody tr th:only-of-type {\n",
       "        vertical-align: middle;\n",
       "    }\n",
       "\n",
       "    .dataframe tbody tr th {\n",
       "        vertical-align: top;\n",
       "    }\n",
       "\n",
       "    .dataframe thead th {\n",
       "        text-align: right;\n",
       "    }\n",
       "</style>\n",
       "<table border=\"1\" class=\"dataframe\">\n",
       "  <thead>\n",
       "    <tr style=\"text-align: right;\">\n",
       "      <th></th>\n",
       "      <th>country_code</th>\n",
       "      <th>population</th>\n",
       "      <th>loan_amount</th>\n",
       "      <th>funded_amount</th>\n",
       "      <th>difference</th>\n",
       "      <th>ratio</th>\n",
       "    </tr>\n",
       "  </thead>\n",
       "  <tbody>\n",
       "    <tr>\n",
       "      <th>156</th>\n",
       "      <td>NO</td>\n",
       "      <td>5305383</td>\n",
       "      <td>1.966635e+07</td>\n",
       "      <td>1.873409e+07</td>\n",
       "      <td>932265.20019</td>\n",
       "      <td>0.175721</td>\n",
       "    </tr>\n",
       "  </tbody>\n",
       "</table>\n",
       "</div>"
      ],
      "text/plain": [
       "    country_code  population   loan_amount  funded_amount    difference  \\\n",
       "156           NO     5305383  1.966635e+07   1.873409e+07  932265.20019   \n",
       "\n",
       "        ratio  \n",
       "156  0.175721  "
      ]
     },
     "execution_count": 41,
     "metadata": {},
     "output_type": "execute_result"
    }
   ],
   "source": [
    "# La nazione con il ratio maggiore\n",
    "\n",
    "df7[df7.ratio == df7.ratio.max()]"
   ]
  },
  {
   "cell_type": "markdown",
   "metadata": {},
   "source": [
    "## 11. Which country has the highest ratio between the difference computed at point 9 and the population that is not below the poverty line?"
   ]
  },
  {
   "cell_type": "code",
   "execution_count": 42,
   "metadata": {
    "ExecuteTime": {
     "end_time": "2020-01-29T19:43:04.716346Z",
     "start_time": "2020-01-29T19:43:04.661582Z"
    },
    "scrolled": false
   },
   "outputs": [
    {
     "data": {
      "text/html": [
       "<div>\n",
       "<style scoped>\n",
       "    .dataframe tbody tr th:only-of-type {\n",
       "        vertical-align: middle;\n",
       "    }\n",
       "\n",
       "    .dataframe tbody tr th {\n",
       "        vertical-align: top;\n",
       "    }\n",
       "\n",
       "    .dataframe thead th {\n",
       "        text-align: right;\n",
       "    }\n",
       "</style>\n",
       "<table border=\"1\" class=\"dataframe\">\n",
       "  <thead>\n",
       "    <tr style=\"text-align: right;\">\n",
       "      <th></th>\n",
       "      <th>country_code</th>\n",
       "      <th>population</th>\n",
       "      <th>population_below_poverty_line</th>\n",
       "    </tr>\n",
       "  </thead>\n",
       "  <tbody>\n",
       "    <tr>\n",
       "      <th>0</th>\n",
       "      <td>IN</td>\n",
       "      <td>1339180127</td>\n",
       "      <td>21.9</td>\n",
       "    </tr>\n",
       "    <tr>\n",
       "      <th>1</th>\n",
       "      <td>NG</td>\n",
       "      <td>190886311</td>\n",
       "      <td>70.0</td>\n",
       "    </tr>\n",
       "    <tr>\n",
       "      <th>2</th>\n",
       "      <td>MX</td>\n",
       "      <td>129163276</td>\n",
       "      <td>46.2</td>\n",
       "    </tr>\n",
       "    <tr>\n",
       "      <th>3</th>\n",
       "      <td>PK</td>\n",
       "      <td>197015955</td>\n",
       "      <td>29.5</td>\n",
       "    </tr>\n",
       "    <tr>\n",
       "      <th>4</th>\n",
       "      <td>BD</td>\n",
       "      <td>164669751</td>\n",
       "      <td>31.5</td>\n",
       "    </tr>\n",
       "  </tbody>\n",
       "</table>\n",
       "</div>"
      ],
      "text/plain": [
       "  country_code  population  population_below_poverty_line\n",
       "0           IN  1339180127                           21.9\n",
       "1           NG   190886311                           70.0\n",
       "2           MX   129163276                           46.2\n",
       "3           PK   197015955                           29.5\n",
       "4           BD   164669751                           31.5"
      ]
     },
     "execution_count": 42,
     "metadata": {},
     "output_type": "execute_result"
    }
   ],
   "source": [
    "df6[['country_code','population','population_below_poverty_line']].head()"
   ]
  },
  {
   "cell_type": "code",
   "execution_count": 43,
   "metadata": {
    "ExecuteTime": {
     "end_time": "2020-01-29T19:43:04.741280Z",
     "start_time": "2020-01-29T19:43:04.720339Z"
    }
   },
   "outputs": [],
   "source": [
    "df6['population_below_poverty_line'] = df6.population_below_poverty_line/100\n",
    "df6['population_not_below_poverty_line'] = 1 - df6.population_below_poverty_line"
   ]
  },
  {
   "cell_type": "code",
   "execution_count": 44,
   "metadata": {
    "ExecuteTime": {
     "end_time": "2020-01-29T19:43:04.776207Z",
     "start_time": "2020-01-29T19:43:04.743275Z"
    }
   },
   "outputs": [],
   "source": [
    "df8 = df6[['country_code','population','population_not_below_poverty_line']].merge(finale[['country_code','difference']],on='country_code')"
   ]
  },
  {
   "cell_type": "code",
   "execution_count": 45,
   "metadata": {
    "ExecuteTime": {
     "end_time": "2020-01-29T19:43:04.823807Z",
     "start_time": "2020-01-29T19:43:04.778270Z"
    }
   },
   "outputs": [
    {
     "data": {
      "text/html": [
       "<div>\n",
       "<style scoped>\n",
       "    .dataframe tbody tr th:only-of-type {\n",
       "        vertical-align: middle;\n",
       "    }\n",
       "\n",
       "    .dataframe tbody tr th {\n",
       "        vertical-align: top;\n",
       "    }\n",
       "\n",
       "    .dataframe thead th {\n",
       "        text-align: right;\n",
       "    }\n",
       "</style>\n",
       "<table border=\"1\" class=\"dataframe\">\n",
       "  <thead>\n",
       "    <tr style=\"text-align: right;\">\n",
       "      <th></th>\n",
       "      <th>country_code</th>\n",
       "      <th>population</th>\n",
       "      <th>population_not_below_poverty_line</th>\n",
       "      <th>difference</th>\n",
       "      <th>ratio</th>\n",
       "    </tr>\n",
       "  </thead>\n",
       "  <tbody>\n",
       "    <tr>\n",
       "      <th>0</th>\n",
       "      <td>IN</td>\n",
       "      <td>1339180127</td>\n",
       "      <td>0.781</td>\n",
       "      <td>18748.435665</td>\n",
       "      <td>0.000018</td>\n",
       "    </tr>\n",
       "    <tr>\n",
       "      <th>1</th>\n",
       "      <td>NG</td>\n",
       "      <td>190886311</td>\n",
       "      <td>0.300</td>\n",
       "      <td>700.235426</td>\n",
       "      <td>0.000012</td>\n",
       "    </tr>\n",
       "    <tr>\n",
       "      <th>2</th>\n",
       "      <td>MX</td>\n",
       "      <td>129163276</td>\n",
       "      <td>0.538</td>\n",
       "      <td>45229.725459</td>\n",
       "      <td>0.000651</td>\n",
       "    </tr>\n",
       "    <tr>\n",
       "      <th>3</th>\n",
       "      <td>PK</td>\n",
       "      <td>197015955</td>\n",
       "      <td>0.705</td>\n",
       "      <td>1081.645655</td>\n",
       "      <td>0.000008</td>\n",
       "    </tr>\n",
       "    <tr>\n",
       "      <th>4</th>\n",
       "      <td>BD</td>\n",
       "      <td>164669751</td>\n",
       "      <td>0.685</td>\n",
       "      <td>391.884560</td>\n",
       "      <td>0.000003</td>\n",
       "    </tr>\n",
       "  </tbody>\n",
       "</table>\n",
       "</div>"
      ],
      "text/plain": [
       "  country_code  population  population_not_below_poverty_line    difference  \\\n",
       "0           IN  1339180127                              0.781  18748.435665   \n",
       "1           NG   190886311                              0.300    700.235426   \n",
       "2           MX   129163276                              0.538  45229.725459   \n",
       "3           PK   197015955                              0.705   1081.645655   \n",
       "4           BD   164669751                              0.685    391.884560   \n",
       "\n",
       "      ratio  \n",
       "0  0.000018  \n",
       "1  0.000012  \n",
       "2  0.000651  \n",
       "3  0.000008  \n",
       "4  0.000003  "
      ]
     },
     "execution_count": 45,
     "metadata": {},
     "output_type": "execute_result"
    }
   ],
   "source": [
    "df8['ratio'] = df8['difference']/(df8['population']*df8['population_not_below_poverty_line'])\n",
    "df8.head()"
   ]
  },
  {
   "cell_type": "code",
   "execution_count": 46,
   "metadata": {
    "ExecuteTime": {
     "end_time": "2020-01-29T19:43:04.848771Z",
     "start_time": "2020-01-29T19:43:04.825802Z"
    },
    "scrolled": false
   },
   "outputs": [
    {
     "data": {
      "text/html": [
       "<div>\n",
       "<style scoped>\n",
       "    .dataframe tbody tr th:only-of-type {\n",
       "        vertical-align: middle;\n",
       "    }\n",
       "\n",
       "    .dataframe tbody tr th {\n",
       "        vertical-align: top;\n",
       "    }\n",
       "\n",
       "    .dataframe thead th {\n",
       "        text-align: right;\n",
       "    }\n",
       "</style>\n",
       "<table border=\"1\" class=\"dataframe\">\n",
       "  <thead>\n",
       "    <tr style=\"text-align: right;\">\n",
       "      <th></th>\n",
       "      <th>country_code</th>\n",
       "      <th>population</th>\n",
       "      <th>population_not_below_poverty_line</th>\n",
       "      <th>difference</th>\n",
       "      <th>ratio</th>\n",
       "    </tr>\n",
       "  </thead>\n",
       "  <tbody>\n",
       "    <tr>\n",
       "      <th>6</th>\n",
       "      <td>US</td>\n",
       "      <td>324459463</td>\n",
       "      <td>0.849</td>\n",
       "      <td>2.165696e+07</td>\n",
       "      <td>0.078619</td>\n",
       "    </tr>\n",
       "  </tbody>\n",
       "</table>\n",
       "</div>"
      ],
      "text/plain": [
       "  country_code  population  population_not_below_poverty_line    difference  \\\n",
       "6           US   324459463                              0.849  2.165696e+07   \n",
       "\n",
       "      ratio  \n",
       "6  0.078619  "
      ]
     },
     "execution_count": 46,
     "metadata": {},
     "output_type": "execute_result"
    }
   ],
   "source": [
    "df8[df8.ratio == df8.ratio.max()]"
   ]
  },
  {
   "cell_type": "markdown",
   "metadata": {},
   "source": [
    "## 12. For each year, compute the total amount of loans. Each loan that has planned expiration time and disburse time in different years must have its amount distributed proportionally to the number of days in each year. For example, a loan with disburse time December 1st, 2016, planned expiration time January 30th 2018, and amount 5000USD has an amount of 5000USD * 31 / (31+365+30) = 363.85 for 2016, 5000USD * 365 / (31+365+30) = 4284.04 for 2017, and 5000USD * 30 / (31+365+30) = 352.11 for 2018."
   ]
  },
  {
   "cell_type": "code",
   "execution_count": 47,
   "metadata": {
    "ExecuteTime": {
     "end_time": "2020-01-29T19:43:54.027517Z",
     "start_time": "2020-01-29T19:43:04.852740Z"
    }
   },
   "outputs": [],
   "source": [
    "# Viene utilizzato il dataframe loans.csv.\n",
    "# Vengono rimossi gli NA per le variabili seguenti ricordandoci che erano gia state convertite nel\n",
    "# formato datetime nel punto 2.\n",
    "\n",
    "df1.dropna(subset=['planned_expiration_time'],inplace=True)\n",
    "df1.dropna(subset=['disburse_time'],inplace=True)"
   ]
  },
  {
   "cell_type": "code",
   "execution_count": 48,
   "metadata": {
    "ExecuteTime": {
     "end_time": "2020-01-29T19:43:54.515662Z",
     "start_time": "2020-01-29T19:43:54.050125Z"
    }
   },
   "outputs": [],
   "source": [
    "# Vengono create delle nuove variabili: le prime due rappresentato rispettivamente la data di inizio e la\n",
    "# data di completamento del prestito, le successive due rappresentano i giorni di competenza del primo anno\n",
    "# e la quarta i giorni di competenza dell'ultimo. L'ultima variabile indica la differenza in termini di\n",
    "# anno (rispettivamente all'ano di stipulazione e l'anno di cessazione del prestito)\n",
    "\n",
    "df1['year_start']= df1['disburse_time'].dt.year\n",
    "df1['year_end']=df1['planned_expiration_time'].dt.year\n",
    "df1['days_first_year']= 365 - df1['disburse_time'].dt.dayofyear\n",
    "df1['days_last_year']=df1['planned_expiration_time'].dt.dayofyear\n",
    "df1['difference_years']=df1['year_end']-df1['year_start']"
   ]
  },
  {
   "cell_type": "code",
   "execution_count": 49,
   "metadata": {
    "ExecuteTime": {
     "end_time": "2020-01-29T19:43:54.570505Z",
     "start_time": "2020-01-29T19:43:54.517654Z"
    }
   },
   "outputs": [],
   "source": [
    "# Il ciclo sottostante serve a creae ulteriori variabili settate con valore 0 per ogni anno.\n",
    "# Queste colonne andranno poi riempite con la quota di competenza del rispettivo anno.\n",
    "\n",
    "bound = range(df1.year_start.min(),df1.year_end.max()+1)\n",
    "for i in bound:\n",
    "    df1[str(i)] = 0"
   ]
  },
  {
   "cell_type": "code",
   "execution_count": 50,
   "metadata": {
    "ExecuteTime": {
     "end_time": "2020-01-29T19:43:56.131005Z",
     "start_time": "2020-01-29T19:43:54.576501Z"
    }
   },
   "outputs": [
    {
     "data": {
      "text/html": [
       "<div>\n",
       "<style scoped>\n",
       "    .dataframe tbody tr th:only-of-type {\n",
       "        vertical-align: middle;\n",
       "    }\n",
       "\n",
       "    .dataframe tbody tr th {\n",
       "        vertical-align: top;\n",
       "    }\n",
       "\n",
       "    .dataframe thead th {\n",
       "        text-align: right;\n",
       "    }\n",
       "</style>\n",
       "<table border=\"1\" class=\"dataframe\">\n",
       "  <thead>\n",
       "    <tr style=\"text-align: right;\">\n",
       "      <th></th>\n",
       "      <th>loan_amount</th>\n",
       "      <th>2011</th>\n",
       "      <th>2012</th>\n",
       "      <th>2013</th>\n",
       "      <th>2014</th>\n",
       "      <th>2015</th>\n",
       "      <th>2016</th>\n",
       "      <th>2017</th>\n",
       "      <th>2018</th>\n",
       "      <th>difference_years</th>\n",
       "      <th>days_first_year</th>\n",
       "      <th>days_last_year</th>\n",
       "      <th>year_start</th>\n",
       "      <th>year_end</th>\n",
       "    </tr>\n",
       "  </thead>\n",
       "  <tbody>\n",
       "    <tr>\n",
       "      <th>0</th>\n",
       "      <td>125.0</td>\n",
       "      <td>0</td>\n",
       "      <td>0</td>\n",
       "      <td>0</td>\n",
       "      <td>0</td>\n",
       "      <td>0</td>\n",
       "      <td>0</td>\n",
       "      <td>0</td>\n",
       "      <td>0</td>\n",
       "      <td>1</td>\n",
       "      <td>9</td>\n",
       "      <td>45</td>\n",
       "      <td>2013</td>\n",
       "      <td>2014</td>\n",
       "    </tr>\n",
       "    <tr>\n",
       "      <th>1</th>\n",
       "      <td>400.0</td>\n",
       "      <td>0</td>\n",
       "      <td>0</td>\n",
       "      <td>0</td>\n",
       "      <td>0</td>\n",
       "      <td>0</td>\n",
       "      <td>0</td>\n",
       "      <td>0</td>\n",
       "      <td>0</td>\n",
       "      <td>1</td>\n",
       "      <td>11</td>\n",
       "      <td>85</td>\n",
       "      <td>2013</td>\n",
       "      <td>2014</td>\n",
       "    </tr>\n",
       "    <tr>\n",
       "      <th>2</th>\n",
       "      <td>400.0</td>\n",
       "      <td>0</td>\n",
       "      <td>0</td>\n",
       "      <td>0</td>\n",
       "      <td>0</td>\n",
       "      <td>0</td>\n",
       "      <td>0</td>\n",
       "      <td>0</td>\n",
       "      <td>0</td>\n",
       "      <td>0</td>\n",
       "      <td>356</td>\n",
       "      <td>46</td>\n",
       "      <td>2014</td>\n",
       "      <td>2014</td>\n",
       "    </tr>\n",
       "    <tr>\n",
       "      <th>3</th>\n",
       "      <td>625.0</td>\n",
       "      <td>0</td>\n",
       "      <td>0</td>\n",
       "      <td>0</td>\n",
       "      <td>0</td>\n",
       "      <td>0</td>\n",
       "      <td>0</td>\n",
       "      <td>0</td>\n",
       "      <td>0</td>\n",
       "      <td>0</td>\n",
       "      <td>348</td>\n",
       "      <td>52</td>\n",
       "      <td>2014</td>\n",
       "      <td>2014</td>\n",
       "    </tr>\n",
       "    <tr>\n",
       "      <th>4</th>\n",
       "      <td>425.0</td>\n",
       "      <td>0</td>\n",
       "      <td>0</td>\n",
       "      <td>0</td>\n",
       "      <td>0</td>\n",
       "      <td>0</td>\n",
       "      <td>0</td>\n",
       "      <td>0</td>\n",
       "      <td>0</td>\n",
       "      <td>1</td>\n",
       "      <td>14</td>\n",
       "      <td>44</td>\n",
       "      <td>2013</td>\n",
       "      <td>2014</td>\n",
       "    </tr>\n",
       "  </tbody>\n",
       "</table>\n",
       "</div>"
      ],
      "text/plain": [
       "   loan_amount  2011  2012  2013  2014  2015  2016  2017  2018  \\\n",
       "0        125.0     0     0     0     0     0     0     0     0   \n",
       "1        400.0     0     0     0     0     0     0     0     0   \n",
       "2        400.0     0     0     0     0     0     0     0     0   \n",
       "3        625.0     0     0     0     0     0     0     0     0   \n",
       "4        425.0     0     0     0     0     0     0     0     0   \n",
       "\n",
       "   difference_years  days_first_year  days_last_year  year_start  year_end  \n",
       "0                 1                9              45        2013      2014  \n",
       "1                 1               11              85        2013      2014  \n",
       "2                 0              356              46        2014      2014  \n",
       "3                 0              348              52        2014      2014  \n",
       "4                 1               14              44        2013      2014  "
      ]
     },
     "execution_count": 50,
     "metadata": {},
     "output_type": "execute_result"
    }
   ],
   "source": [
    "# Variabili utilizzate\n",
    "\n",
    "atribute = ['loan_amount', '2011', '2012', '2013', '2014','2015', '2016', \n",
    "            '2017', '2018', 'difference_years', 'days_first_year',\n",
    "            'days_last_year', 'year_start', 'year_end']\n",
    "\n",
    "# Con il seguente comando rimuoviamo tutte le osservazioni che presentano una data di disburse_time superiore\n",
    "# a planned_expiration_time. \n",
    "\n",
    "df1 = df1[atribute][(df1.difference_years != -1)]\n",
    "df1.head()"
   ]
  },
  {
   "cell_type": "code",
   "execution_count": 51,
   "metadata": {
    "ExecuteTime": {
     "end_time": "2020-01-29T19:43:56.171409Z",
     "start_time": "2020-01-29T19:43:56.133995Z"
    }
   },
   "outputs": [],
   "source": [
    "# Questa funzione ci permette di calcolare la quota di prestito appartenende ad ogni anno compreso tra\n",
    "# disburse_time e planned_expiration_time\n",
    "\n",
    "def loan(x):\n",
    "    if x['difference_years'] == 0: # se disburse e planned hanno stipulazione e scadenza nello stesso anno.\n",
    "        x[str(int(x['year_start']))]= x['loan_amount'] # l'intero ammontare di loan_amount viene inserito \n",
    "                                                       # nella colonna in corrispondenza del medesimo anno.\n",
    "    elif x['difference_years']== 1:\n",
    "        x[str(int(x['year_start']))]= (x['days_first_year']*x['loan_amount'])/((x['days_first_year'])+ x['days_last_year']+ ((x['difference_years']-1)*365))\n",
    "        x[str(int(x['year_end']))]= x['loan_amount'] - x[str(int(x['year_start']))]\n",
    "        \n",
    "    elif x['difference_years'] > 1:\n",
    "        x[str(int(x['year_start']))]= x['days_first_year']*x['loan_amount'] / (x['days_first_year'] + x['days_last_year'] + ((x['difference_years']-1)*365))\n",
    "        x[str(int(x['year_end']))]=(x['days_last_year']*x['loan_amount'])/((x['days_first_year'])+ x['days_last_year']+ ((x['difference_years']-1)*365))\n",
    "        \n",
    "        for y in range(1,int(x['difference_years'])): # ciclo di riempimento per gli anni compresi\n",
    "            x[str(int(x['year_start']+y))] = (365*x['loan_amount'])/((x['days_first_year'])+ x['days_last_year']+ ((x['difference_years']-1)*365))\n",
    "    return x"
   ]
  },
  {
   "cell_type": "code",
   "execution_count": 52,
   "metadata": {
    "ExecuteTime": {
     "end_time": "2020-01-29T19:46:12.568697Z",
     "start_time": "2020-01-29T19:43:56.174399Z"
    },
    "scrolled": false
   },
   "outputs": [
    {
     "data": {
      "text/html": [
       "<div>\n",
       "<style scoped>\n",
       "    .dataframe tbody tr th:only-of-type {\n",
       "        vertical-align: middle;\n",
       "    }\n",
       "\n",
       "    .dataframe tbody tr th {\n",
       "        vertical-align: top;\n",
       "    }\n",
       "\n",
       "    .dataframe thead th {\n",
       "        text-align: right;\n",
       "    }\n",
       "</style>\n",
       "<table border=\"1\" class=\"dataframe\">\n",
       "  <thead>\n",
       "    <tr style=\"text-align: right;\">\n",
       "      <th></th>\n",
       "      <th>loan_amount</th>\n",
       "      <th>2011</th>\n",
       "      <th>2012</th>\n",
       "      <th>2013</th>\n",
       "      <th>2014</th>\n",
       "      <th>2015</th>\n",
       "      <th>2016</th>\n",
       "      <th>2017</th>\n",
       "      <th>2018</th>\n",
       "      <th>difference_years</th>\n",
       "      <th>days_first_year</th>\n",
       "      <th>days_last_year</th>\n",
       "      <th>year_start</th>\n",
       "      <th>year_end</th>\n",
       "    </tr>\n",
       "  </thead>\n",
       "  <tbody>\n",
       "    <tr>\n",
       "      <th>0</th>\n",
       "      <td>125.0</td>\n",
       "      <td>0.0</td>\n",
       "      <td>0.0</td>\n",
       "      <td>20.833333</td>\n",
       "      <td>104.166667</td>\n",
       "      <td>0.0</td>\n",
       "      <td>0.0</td>\n",
       "      <td>0.0</td>\n",
       "      <td>0.0</td>\n",
       "      <td>1.0</td>\n",
       "      <td>9.0</td>\n",
       "      <td>45.0</td>\n",
       "      <td>2013.0</td>\n",
       "      <td>2014.0</td>\n",
       "    </tr>\n",
       "    <tr>\n",
       "      <th>1</th>\n",
       "      <td>400.0</td>\n",
       "      <td>0.0</td>\n",
       "      <td>0.0</td>\n",
       "      <td>45.833333</td>\n",
       "      <td>354.166667</td>\n",
       "      <td>0.0</td>\n",
       "      <td>0.0</td>\n",
       "      <td>0.0</td>\n",
       "      <td>0.0</td>\n",
       "      <td>1.0</td>\n",
       "      <td>11.0</td>\n",
       "      <td>85.0</td>\n",
       "      <td>2013.0</td>\n",
       "      <td>2014.0</td>\n",
       "    </tr>\n",
       "    <tr>\n",
       "      <th>2</th>\n",
       "      <td>400.0</td>\n",
       "      <td>0.0</td>\n",
       "      <td>0.0</td>\n",
       "      <td>0.000000</td>\n",
       "      <td>400.000000</td>\n",
       "      <td>0.0</td>\n",
       "      <td>0.0</td>\n",
       "      <td>0.0</td>\n",
       "      <td>0.0</td>\n",
       "      <td>0.0</td>\n",
       "      <td>356.0</td>\n",
       "      <td>46.0</td>\n",
       "      <td>2014.0</td>\n",
       "      <td>2014.0</td>\n",
       "    </tr>\n",
       "    <tr>\n",
       "      <th>3</th>\n",
       "      <td>625.0</td>\n",
       "      <td>0.0</td>\n",
       "      <td>0.0</td>\n",
       "      <td>0.000000</td>\n",
       "      <td>625.000000</td>\n",
       "      <td>0.0</td>\n",
       "      <td>0.0</td>\n",
       "      <td>0.0</td>\n",
       "      <td>0.0</td>\n",
       "      <td>0.0</td>\n",
       "      <td>348.0</td>\n",
       "      <td>52.0</td>\n",
       "      <td>2014.0</td>\n",
       "      <td>2014.0</td>\n",
       "    </tr>\n",
       "    <tr>\n",
       "      <th>4</th>\n",
       "      <td>425.0</td>\n",
       "      <td>0.0</td>\n",
       "      <td>0.0</td>\n",
       "      <td>102.586207</td>\n",
       "      <td>322.413793</td>\n",
       "      <td>0.0</td>\n",
       "      <td>0.0</td>\n",
       "      <td>0.0</td>\n",
       "      <td>0.0</td>\n",
       "      <td>1.0</td>\n",
       "      <td>14.0</td>\n",
       "      <td>44.0</td>\n",
       "      <td>2013.0</td>\n",
       "      <td>2014.0</td>\n",
       "    </tr>\n",
       "  </tbody>\n",
       "</table>\n",
       "</div>"
      ],
      "text/plain": [
       "   loan_amount  2011  2012        2013        2014  2015  2016  2017  2018  \\\n",
       "0        125.0   0.0   0.0   20.833333  104.166667   0.0   0.0   0.0   0.0   \n",
       "1        400.0   0.0   0.0   45.833333  354.166667   0.0   0.0   0.0   0.0   \n",
       "2        400.0   0.0   0.0    0.000000  400.000000   0.0   0.0   0.0   0.0   \n",
       "3        625.0   0.0   0.0    0.000000  625.000000   0.0   0.0   0.0   0.0   \n",
       "4        425.0   0.0   0.0  102.586207  322.413793   0.0   0.0   0.0   0.0   \n",
       "\n",
       "   difference_years  days_first_year  days_last_year  year_start  year_end  \n",
       "0               1.0              9.0            45.0      2013.0    2014.0  \n",
       "1               1.0             11.0            85.0      2013.0    2014.0  \n",
       "2               0.0            356.0            46.0      2014.0    2014.0  \n",
       "3               0.0            348.0            52.0      2014.0    2014.0  \n",
       "4               1.0             14.0            44.0      2013.0    2014.0  "
      ]
     },
     "execution_count": 52,
     "metadata": {},
     "output_type": "execute_result"
    }
   ],
   "source": [
    "df1 = df1.apply(loan,axis=1)\n",
    "df1.head()"
   ]
  },
  {
   "cell_type": "code",
   "execution_count": 53,
   "metadata": {
    "ExecuteTime": {
     "end_time": "2020-01-29T19:46:12.611582Z",
     "start_time": "2020-01-29T19:46:12.572687Z"
    }
   },
   "outputs": [
    {
     "data": {
      "text/html": [
       "<div>\n",
       "<style scoped>\n",
       "    .dataframe tbody tr th:only-of-type {\n",
       "        vertical-align: middle;\n",
       "    }\n",
       "\n",
       "    .dataframe tbody tr th {\n",
       "        vertical-align: top;\n",
       "    }\n",
       "\n",
       "    .dataframe thead th {\n",
       "        text-align: right;\n",
       "    }\n",
       "</style>\n",
       "<table border=\"1\" class=\"dataframe\">\n",
       "  <thead>\n",
       "    <tr style=\"text-align: right;\">\n",
       "      <th></th>\n",
       "      <th>loan_amount</th>\n",
       "      <th>2011</th>\n",
       "      <th>2012</th>\n",
       "      <th>2013</th>\n",
       "      <th>2014</th>\n",
       "      <th>2015</th>\n",
       "      <th>2016</th>\n",
       "      <th>2017</th>\n",
       "      <th>2018</th>\n",
       "      <th>difference_years</th>\n",
       "      <th>days_first_year</th>\n",
       "      <th>days_last_year</th>\n",
       "      <th>year_start</th>\n",
       "      <th>year_end</th>\n",
       "    </tr>\n",
       "  </thead>\n",
       "  <tbody>\n",
       "    <tr>\n",
       "      <th>33780</th>\n",
       "      <td>650.0</td>\n",
       "      <td>3.545455</td>\n",
       "      <td>143.787879</td>\n",
       "      <td>143.787879</td>\n",
       "      <td>143.787879</td>\n",
       "      <td>143.787879</td>\n",
       "      <td>71.303030</td>\n",
       "      <td>0.0</td>\n",
       "      <td>0.0</td>\n",
       "      <td>5.0</td>\n",
       "      <td>9.0</td>\n",
       "      <td>181.0</td>\n",
       "      <td>2011.0</td>\n",
       "      <td>2016.0</td>\n",
       "    </tr>\n",
       "    <tr>\n",
       "      <th>33781</th>\n",
       "      <td>525.0</td>\n",
       "      <td>0.000000</td>\n",
       "      <td>82.237277</td>\n",
       "      <td>126.652346</td>\n",
       "      <td>126.652346</td>\n",
       "      <td>126.652346</td>\n",
       "      <td>62.805684</td>\n",
       "      <td>0.0</td>\n",
       "      <td>0.0</td>\n",
       "      <td>4.0</td>\n",
       "      <td>237.0</td>\n",
       "      <td>181.0</td>\n",
       "      <td>2012.0</td>\n",
       "      <td>2016.0</td>\n",
       "    </tr>\n",
       "    <tr>\n",
       "      <th>33859</th>\n",
       "      <td>600.0</td>\n",
       "      <td>0.000000</td>\n",
       "      <td>50.000000</td>\n",
       "      <td>157.327586</td>\n",
       "      <td>157.327586</td>\n",
       "      <td>157.327586</td>\n",
       "      <td>78.017241</td>\n",
       "      <td>0.0</td>\n",
       "      <td>0.0</td>\n",
       "      <td>4.0</td>\n",
       "      <td>116.0</td>\n",
       "      <td>181.0</td>\n",
       "      <td>2012.0</td>\n",
       "      <td>2016.0</td>\n",
       "    </tr>\n",
       "    <tr>\n",
       "      <th>33923</th>\n",
       "      <td>250.0</td>\n",
       "      <td>0.000000</td>\n",
       "      <td>31.656400</td>\n",
       "      <td>62.457221</td>\n",
       "      <td>62.457221</td>\n",
       "      <td>62.457221</td>\n",
       "      <td>30.971937</td>\n",
       "      <td>0.0</td>\n",
       "      <td>0.0</td>\n",
       "      <td>4.0</td>\n",
       "      <td>185.0</td>\n",
       "      <td>181.0</td>\n",
       "      <td>2012.0</td>\n",
       "      <td>2016.0</td>\n",
       "    </tr>\n",
       "    <tr>\n",
       "      <th>34072</th>\n",
       "      <td>5000.0</td>\n",
       "      <td>30.284676</td>\n",
       "      <td>1105.390672</td>\n",
       "      <td>1105.390672</td>\n",
       "      <td>1105.390672</td>\n",
       "      <td>1105.390672</td>\n",
       "      <td>548.152635</td>\n",
       "      <td>0.0</td>\n",
       "      <td>0.0</td>\n",
       "      <td>5.0</td>\n",
       "      <td>10.0</td>\n",
       "      <td>181.0</td>\n",
       "      <td>2011.0</td>\n",
       "      <td>2016.0</td>\n",
       "    </tr>\n",
       "    <tr>\n",
       "      <th>...</th>\n",
       "      <td>...</td>\n",
       "      <td>...</td>\n",
       "      <td>...</td>\n",
       "      <td>...</td>\n",
       "      <td>...</td>\n",
       "      <td>...</td>\n",
       "      <td>...</td>\n",
       "      <td>...</td>\n",
       "      <td>...</td>\n",
       "      <td>...</td>\n",
       "      <td>...</td>\n",
       "      <td>...</td>\n",
       "      <td>...</td>\n",
       "      <td>...</td>\n",
       "    </tr>\n",
       "    <tr>\n",
       "      <th>1376686</th>\n",
       "      <td>100.0</td>\n",
       "      <td>0.000000</td>\n",
       "      <td>6.520147</td>\n",
       "      <td>26.739927</td>\n",
       "      <td>26.739927</td>\n",
       "      <td>26.739927</td>\n",
       "      <td>13.260073</td>\n",
       "      <td>0.0</td>\n",
       "      <td>0.0</td>\n",
       "      <td>4.0</td>\n",
       "      <td>89.0</td>\n",
       "      <td>181.0</td>\n",
       "      <td>2012.0</td>\n",
       "      <td>2016.0</td>\n",
       "    </tr>\n",
       "    <tr>\n",
       "      <th>1397645</th>\n",
       "      <td>100.0</td>\n",
       "      <td>0.000000</td>\n",
       "      <td>5.830258</td>\n",
       "      <td>26.937269</td>\n",
       "      <td>26.937269</td>\n",
       "      <td>26.937269</td>\n",
       "      <td>13.357934</td>\n",
       "      <td>0.0</td>\n",
       "      <td>0.0</td>\n",
       "      <td>4.0</td>\n",
       "      <td>79.0</td>\n",
       "      <td>181.0</td>\n",
       "      <td>2012.0</td>\n",
       "      <td>2016.0</td>\n",
       "    </tr>\n",
       "    <tr>\n",
       "      <th>1397865</th>\n",
       "      <td>50.0</td>\n",
       "      <td>0.000000</td>\n",
       "      <td>6.331280</td>\n",
       "      <td>12.491444</td>\n",
       "      <td>12.491444</td>\n",
       "      <td>12.491444</td>\n",
       "      <td>6.194387</td>\n",
       "      <td>0.0</td>\n",
       "      <td>0.0</td>\n",
       "      <td>4.0</td>\n",
       "      <td>185.0</td>\n",
       "      <td>181.0</td>\n",
       "      <td>2012.0</td>\n",
       "      <td>2016.0</td>\n",
       "    </tr>\n",
       "    <tr>\n",
       "      <th>1398082</th>\n",
       "      <td>525.0</td>\n",
       "      <td>0.000000</td>\n",
       "      <td>82.237277</td>\n",
       "      <td>126.652346</td>\n",
       "      <td>126.652346</td>\n",
       "      <td>126.652346</td>\n",
       "      <td>62.805684</td>\n",
       "      <td>0.0</td>\n",
       "      <td>0.0</td>\n",
       "      <td>4.0</td>\n",
       "      <td>237.0</td>\n",
       "      <td>181.0</td>\n",
       "      <td>2012.0</td>\n",
       "      <td>2016.0</td>\n",
       "    </tr>\n",
       "    <tr>\n",
       "      <th>1398083</th>\n",
       "      <td>5000.0</td>\n",
       "      <td>0.000000</td>\n",
       "      <td>547.801814</td>\n",
       "      <td>1273.551989</td>\n",
       "      <td>1273.551989</td>\n",
       "      <td>1273.551989</td>\n",
       "      <td>631.542219</td>\n",
       "      <td>0.0</td>\n",
       "      <td>0.0</td>\n",
       "      <td>4.0</td>\n",
       "      <td>157.0</td>\n",
       "      <td>181.0</td>\n",
       "      <td>2012.0</td>\n",
       "      <td>2016.0</td>\n",
       "    </tr>\n",
       "  </tbody>\n",
       "</table>\n",
       "<p>320 rows × 14 columns</p>\n",
       "</div>"
      ],
      "text/plain": [
       "         loan_amount       2011         2012         2013         2014  \\\n",
       "33780          650.0   3.545455   143.787879   143.787879   143.787879   \n",
       "33781          525.0   0.000000    82.237277   126.652346   126.652346   \n",
       "33859          600.0   0.000000    50.000000   157.327586   157.327586   \n",
       "33923          250.0   0.000000    31.656400    62.457221    62.457221   \n",
       "34072         5000.0  30.284676  1105.390672  1105.390672  1105.390672   \n",
       "...              ...        ...          ...          ...          ...   \n",
       "1376686        100.0   0.000000     6.520147    26.739927    26.739927   \n",
       "1397645        100.0   0.000000     5.830258    26.937269    26.937269   \n",
       "1397865         50.0   0.000000     6.331280    12.491444    12.491444   \n",
       "1398082        525.0   0.000000    82.237277   126.652346   126.652346   \n",
       "1398083       5000.0   0.000000   547.801814  1273.551989  1273.551989   \n",
       "\n",
       "                2015        2016  2017  2018  difference_years  \\\n",
       "33780     143.787879   71.303030   0.0   0.0               5.0   \n",
       "33781     126.652346   62.805684   0.0   0.0               4.0   \n",
       "33859     157.327586   78.017241   0.0   0.0               4.0   \n",
       "33923      62.457221   30.971937   0.0   0.0               4.0   \n",
       "34072    1105.390672  548.152635   0.0   0.0               5.0   \n",
       "...              ...         ...   ...   ...               ...   \n",
       "1376686    26.739927   13.260073   0.0   0.0               4.0   \n",
       "1397645    26.937269   13.357934   0.0   0.0               4.0   \n",
       "1397865    12.491444    6.194387   0.0   0.0               4.0   \n",
       "1398082   126.652346   62.805684   0.0   0.0               4.0   \n",
       "1398083  1273.551989  631.542219   0.0   0.0               4.0   \n",
       "\n",
       "         days_first_year  days_last_year  year_start  year_end  \n",
       "33780                9.0           181.0      2011.0    2016.0  \n",
       "33781              237.0           181.0      2012.0    2016.0  \n",
       "33859              116.0           181.0      2012.0    2016.0  \n",
       "33923              185.0           181.0      2012.0    2016.0  \n",
       "34072               10.0           181.0      2011.0    2016.0  \n",
       "...                  ...             ...         ...       ...  \n",
       "1376686             89.0           181.0      2012.0    2016.0  \n",
       "1397645             79.0           181.0      2012.0    2016.0  \n",
       "1397865            185.0           181.0      2012.0    2016.0  \n",
       "1398082            237.0           181.0      2012.0    2016.0  \n",
       "1398083            157.0           181.0      2012.0    2016.0  \n",
       "\n",
       "[320 rows x 14 columns]"
      ]
     },
     "execution_count": 53,
     "metadata": {},
     "output_type": "execute_result"
    }
   ],
   "source": [
    "# La funzione sembra operare corretamente con tutte le differenze tra gli anni\n",
    "\n",
    "df1[df1.difference_years > 1]"
   ]
  },
  {
   "cell_type": "code",
   "execution_count": 54,
   "metadata": {
    "ExecuteTime": {
     "end_time": "2020-01-29T19:46:12.831253Z",
     "start_time": "2020-01-29T19:46:12.613579Z"
    },
    "scrolled": false
   },
   "outputs": [
    {
     "data": {
      "text/html": [
       "<div>\n",
       "<style scoped>\n",
       "    .dataframe tbody tr th:only-of-type {\n",
       "        vertical-align: middle;\n",
       "    }\n",
       "\n",
       "    .dataframe tbody tr th {\n",
       "        vertical-align: top;\n",
       "    }\n",
       "\n",
       "    .dataframe thead th {\n",
       "        text-align: right;\n",
       "    }\n",
       "</style>\n",
       "<table border=\"1\" class=\"dataframe\">\n",
       "  <thead>\n",
       "    <tr style=\"text-align: right;\">\n",
       "      <th></th>\n",
       "      <th>year</th>\n",
       "      <th>total</th>\n",
       "    </tr>\n",
       "  </thead>\n",
       "  <tbody>\n",
       "    <tr>\n",
       "      <th>0</th>\n",
       "      <td>2011</td>\n",
       "      <td>629911</td>\n",
       "    </tr>\n",
       "    <tr>\n",
       "      <th>1</th>\n",
       "      <td>2012</td>\n",
       "      <td>113122955</td>\n",
       "    </tr>\n",
       "    <tr>\n",
       "      <th>2</th>\n",
       "      <td>2013</td>\n",
       "      <td>125089016</td>\n",
       "    </tr>\n",
       "    <tr>\n",
       "      <th>3</th>\n",
       "      <td>2014</td>\n",
       "      <td>153151119</td>\n",
       "    </tr>\n",
       "    <tr>\n",
       "      <th>4</th>\n",
       "      <td>2015</td>\n",
       "      <td>159759960</td>\n",
       "    </tr>\n",
       "    <tr>\n",
       "      <th>5</th>\n",
       "      <td>2016</td>\n",
       "      <td>158748741</td>\n",
       "    </tr>\n",
       "    <tr>\n",
       "      <th>6</th>\n",
       "      <td>2017</td>\n",
       "      <td>172100797</td>\n",
       "    </tr>\n",
       "    <tr>\n",
       "      <th>7</th>\n",
       "      <td>2018</td>\n",
       "      <td>5705070</td>\n",
       "    </tr>\n",
       "  </tbody>\n",
       "</table>\n",
       "</div>"
      ],
      "text/plain": [
       "   year      total\n",
       "0  2011     629911\n",
       "1  2012  113122955\n",
       "2  2013  125089016\n",
       "3  2014  153151119\n",
       "4  2015  159759960\n",
       "5  2016  158748741\n",
       "6  2017  172100797\n",
       "7  2018    5705070"
      ]
     },
     "execution_count": 54,
     "metadata": {},
     "output_type": "execute_result"
    }
   ],
   "source": [
    "# Vengono selezionate solo le colonne relative agli anni e computato il totale su di esse.\n",
    "\n",
    "just_years = [(lambda x: str(x))(x) for x in list(bound)] \n",
    "df1[just_years].apply(lambda x: int(x.sum())).reset_index().rename(columns={'index':'year',0:'total'})"
   ]
  }
 ],
 "metadata": {
  "kernelspec": {
   "display_name": "Python 3",
   "language": "python",
   "name": "python3"
  },
  "language_info": {
   "codemirror_mode": {
    "name": "ipython",
    "version": 3
   },
   "file_extension": ".py",
   "mimetype": "text/x-python",
   "name": "python",
   "nbconvert_exporter": "python",
   "pygments_lexer": "ipython3",
   "version": "3.7.4"
  },
  "notify_time": "10"
 },
 "nbformat": 4,
 "nbformat_minor": 2
}
